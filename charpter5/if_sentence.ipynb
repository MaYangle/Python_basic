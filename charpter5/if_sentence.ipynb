{
 "cells": [
  {
   "cell_type": "markdown",
   "id": "22f117b6-8f05-4327-a2f3-6e34850b698d",
   "metadata": {},
   "source": [
    "<font size=\"5\"> 5 if语句 "
   ]
  },
  {
   "cell_type": "markdown",
   "id": "e5fbb958-5b6c-4d3d-974c-5018c15604fe",
   "metadata": {},
   "source": [
    "编程时经常需要检查一系列条件，并据此决定采取什么措施。\n",
    "\n",
    "在Python中，if语句能让你检查程序的当前状态，并据此采取相应的措施。"
   ]
  },
  {
   "cell_type": "markdown",
   "id": "42ddd3b7-2a05-4fac-8ee2-3fc0322e30b1",
   "metadata": {},
   "source": [
    "<font size=\"4\"> 5.1 简单示例"
   ]
  },
  {
   "cell_type": "code",
   "execution_count": 1,
   "id": "a24f0709-4f42-44bb-9338-5ef8c118a5b3",
   "metadata": {},
   "outputs": [
    {
     "name": "stdout",
     "output_type": "stream",
     "text": [
      "Audi\n",
      "BMW\n",
      "Subaru\n",
      "Toyata\n"
     ]
    }
   ],
   "source": [
    "#对大多数汽车 以首字母大写的方式打印名称\n",
    "#但如果是BMw，就全大写\n",
    "cars = ['audi','bmw','subaru','toyata']\n",
    "for car in cars:\n",
    "    if car == 'bmw':\n",
    "        print(car.upper())\n",
    "    else:\n",
    "        print(car.title())"
   ]
  },
  {
   "cell_type": "markdown",
   "id": "2e693823-8f37-411b-9b56-8556dd41379d",
   "metadata": {},
   "source": [
    "<font size=\"4\"> 5.2 条件测试"
   ]
  },
  {
   "cell_type": "markdown",
   "id": "c8e9a170-fa3f-4548-9419-b71db1f82d1c",
   "metadata": {},
   "source": [
    "每条if语句的核心都是一个值为True或False的表达式，这种表达式称为条件测试。"
   ]
  },
  {
   "cell_type": "markdown",
   "id": "7989e615-160b-4a1d-979c-460d2519aa56",
   "metadata": {},
   "source": [
    "Python根据条件测试的值为True或False来决定是否执行if语句中的代码。"
   ]
  },
  {
   "cell_type": "markdown",
   "id": "7c0373d8-3558-4795-9f33-a643ab40b1ba",
   "metadata": {},
   "source": [
    "<font size=\"3\"> 5.2.1 检查是否相等"
   ]
  },
  {
   "cell_type": "markdown",
   "id": "7ece9afb-3a43-4328-8093-4bf5336fe9a4",
   "metadata": {},
   "source": [
    "大多数条件测试语句都将一个变量的当前值同特定值进行比较。"
   ]
  },
  {
   "cell_type": "code",
   "execution_count": 4,
   "id": "a672557c-07f9-4484-8e39-2df12b0930e8",
   "metadata": {},
   "outputs": [
    {
     "data": {
      "text/plain": [
       "False"
      ]
     },
     "execution_count": 4,
     "metadata": {},
     "output_type": "execute_result"
    }
   ],
   "source": [
    "car = 'audi'\n",
    "car == 'bmw'"
   ]
  },
  {
   "cell_type": "markdown",
   "id": "aae8fe12-909f-4e3c-9458-ebefe53095ed",
   "metadata": {},
   "source": [
    "<font size=\"3\"> 5.2.2 检查是否相等时不考虑大小写"
   ]
  },
  {
   "cell_type": "code",
   "execution_count": 6,
   "id": "c1ef24cc-00aa-4798-b937-aa6718c435d2",
   "metadata": {},
   "outputs": [
    {
     "data": {
      "text/plain": [
       "False"
      ]
     },
     "execution_count": 6,
     "metadata": {},
     "output_type": "execute_result"
    }
   ],
   "source": [
    "car = 'Audi'\n",
    "car == 'audi'"
   ]
  },
  {
   "cell_type": "code",
   "execution_count": 11,
   "id": "86c61297-5368-4b81-b6c1-0ad1822b6af7",
   "metadata": {},
   "outputs": [
    {
     "data": {
      "text/plain": [
       "True"
      ]
     },
     "execution_count": 11,
     "metadata": {},
     "output_type": "execute_result"
    }
   ],
   "source": [
    "#所以如果变量大小写无关紧要，只想检查变量的值，可以将变量转化为小写，再进行比较:\n",
    "car = 'Audi'\n",
    "car.lower() == 'audi'"
   ]
  },
  {
   "cell_type": "markdown",
   "id": "817d87a0-92ee-4a76-bf42-c63c68efcdb7",
   "metadata": {},
   "source": [
    "这个条件测试是不会影响存储在变量car中的值的。"
   ]
  },
  {
   "cell_type": "markdown",
   "id": "7b4e4e85-9937-4a0a-a47a-58f53396174b",
   "metadata": {},
   "source": [
    "<font size=\"3\"> 5.2.3 检查是否不相等"
   ]
  },
  {
   "cell_type": "code",
   "execution_count": 14,
   "id": "a6752c1a-ee19-4b36-8170-4ebc5dc799e6",
   "metadata": {},
   "outputs": [
    {
     "name": "stdout",
     "output_type": "stream",
     "text": [
      "Hold the anchovies!\n"
     ]
    }
   ],
   "source": [
    "requested_topping = 'mushrooms'\n",
    "if requested_topping != 'anchovies':\n",
    "    print('Hold the anchovies!')"
   ]
  },
  {
   "cell_type": "markdown",
   "id": "fa1be134-8836-44aa-b41b-8e9cffb3886c",
   "metadata": {},
   "source": [
    "<font size=\"3\"> 5.2.4 比较数字"
   ]
  },
  {
   "cell_type": "markdown",
   "id": "353540bc-17e3-4b83-9f52-01e32eb732e0",
   "metadata": {},
   "source": [
    "基本是一样 就是那些运算符号 "
   ]
  },
  {
   "cell_type": "markdown",
   "id": "ab9a732b-511e-4d8d-8c92-8e62ee29bb3b",
   "metadata": {},
   "source": [
    "<font size=\"3\"> 5.2.5 检查多个条件"
   ]
  },
  {
   "cell_type": "markdown",
   "id": "fbd4b644-bb73-4781-9516-f94f9c06bda8",
   "metadata": {},
   "source": [
    "关键字and和or非常重要"
   ]
  },
  {
   "cell_type": "markdown",
   "id": "e539ba92-b9af-40ba-a628-e0782646bea2",
   "metadata": {},
   "source": [
    "1. 使用and检查多个条件"
   ]
  },
  {
   "cell_type": "code",
   "execution_count": 17,
   "id": "2b2e8e69-399c-4d9f-808e-a7347c58657d",
   "metadata": {},
   "outputs": [
    {
     "data": {
      "text/plain": [
       "False"
      ]
     },
     "execution_count": 17,
     "metadata": {},
     "output_type": "execute_result"
    }
   ],
   "source": [
    "age_0 = 22\n",
    "age_1 = 19\n",
    "age_0>=21 and age_1>=21"
   ]
  },
  {
   "cell_type": "markdown",
   "id": "dc730f1f-344a-42f7-9613-1165538f2040",
   "metadata": {},
   "source": [
    "2. 使用or检查多个条件"
   ]
  },
  {
   "cell_type": "code",
   "execution_count": 18,
   "id": "f46bc045-5e97-48aa-afde-db2d81c60eb3",
   "metadata": {},
   "outputs": [
    {
     "data": {
      "text/plain": [
       "True"
      ]
     },
     "execution_count": 18,
     "metadata": {},
     "output_type": "execute_result"
    }
   ],
   "source": [
    "age_0 = 22\n",
    "age_1 = 19\n",
    "age_0>=21 or age_1>=21"
   ]
  },
  {
   "cell_type": "markdown",
   "id": "87e4ca96-a399-469b-9b56-e804fcf41979",
   "metadata": {},
   "source": [
    "<font size='3'> 5.2.6 检查特定值是否包含在列表中"
   ]
  },
  {
   "cell_type": "markdown",
   "id": "2ea262f1-7180-4a3c-9828-673dc6e786fe",
   "metadata": {},
   "source": [
    "用户注册过程前，可能需要检查他提供的用户名是否包含在用户名列表中。\n",
    "\n",
    "在地图程序中，可能需要检查用户提交的位置是否包含在已知位置列表中。"
   ]
  },
  {
   "cell_type": "markdown",
   "id": "8454d50e-7901-4f7c-b960-67337e360d47",
   "metadata": {},
   "source": [
    "要判断特定的值是否已包含在列表中，可使用关键字in"
   ]
  },
  {
   "cell_type": "code",
   "execution_count": 20,
   "id": "ae66bdbe-30fd-46df-ac82-ec3b2664a86b",
   "metadata": {},
   "outputs": [
    {
     "data": {
      "text/plain": [
       "False"
      ]
     },
     "execution_count": 20,
     "metadata": {},
     "output_type": "execute_result"
    }
   ],
   "source": [
    "requested_toppings = ['mushroom','onions','pineapple']\n",
    "'pepproni' in requested_toppings"
   ]
  },
  {
   "cell_type": "code",
   "execution_count": 21,
   "id": "7fb67228-8889-45e6-b764-0b57f3afec77",
   "metadata": {},
   "outputs": [
    {
     "data": {
      "text/plain": [
       "True"
      ]
     },
     "execution_count": 21,
     "metadata": {},
     "output_type": "execute_result"
    }
   ],
   "source": [
    "#同理 not in可以检查特定值是否不包含在列表中\n",
    "requested_toppings = ['mushroom','onions','pineapple']\n",
    "'pepproni' not in requested_toppings"
   ]
  },
  {
   "cell_type": "markdown",
   "id": "b7db22b0-f84f-4e4a-9a15-0fa8bd54b988",
   "metadata": {},
   "source": [
    "<font size=\"3\"> 5.2.8 布尔表达式"
   ]
  },
  {
   "cell_type": "markdown",
   "id": "b6cef9eb-468c-4b8a-b7f2-a780b1f77fc9",
   "metadata": {},
   "source": [
    "有时候需要一些布尔值用于记录条件，比如游戏是否运行，或用户是否可以编辑网站的特定内容等。"
   ]
  },
  {
   "cell_type": "markdown",
   "id": "f2c77aa8-d590-488b-84b4-6445df3fa980",
   "metadata": {},
   "source": [
    "<font size=\"4\"> 5.3 if语句"
   ]
  },
  {
   "cell_type": "markdown",
   "id": "5e3e5ea5-438f-4851-a8f0-d427c5c06674",
   "metadata": {},
   "source": [
    "<font size=\"3\"> 5.3.1 简单if语句"
   ]
  },
  {
   "cell_type": "code",
   "execution_count": 28,
   "id": "059dea23-3f56-4ca9-8703-5cd464f92135",
   "metadata": {},
   "outputs": [
    {
     "name": "stdout",
     "output_type": "stream",
     "text": [
      "You are old enough to vote!\n",
      "Have you registered to vote yet?\n"
     ]
    }
   ],
   "source": [
    "age = 18\n",
    "if age>=18:\n",
    "    print(\"You are old enough to vote!\")\n",
    "    print(\"Have you registered to vote yet?\")"
   ]
  },
  {
   "cell_type": "markdown",
   "id": "85ddb7cf-8f8a-4349-b1db-fb98bfd83cf3",
   "metadata": {},
   "source": [
    "<font size=\"3\"> 5.3.2 if-else语句"
   ]
  },
  {
   "cell_type": "markdown",
   "id": "7370fde3-b956-4036-9837-b0423bbd8de7",
   "metadata": {},
   "source": [
    "经常需要在条件测试通过了时执行一个操作，并在没有通过时执行另一个操作"
   ]
  },
  {
   "cell_type": "code",
   "execution_count": 31,
   "id": "8629883c-30d8-40fc-83c1-87c35f9c7241",
   "metadata": {},
   "outputs": [
    {
     "name": "stdout",
     "output_type": "stream",
     "text": [
      "You are too young to vote\n"
     ]
    }
   ],
   "source": [
    "age = 17\n",
    "if age>=18:\n",
    "    print(\"You are old enough to vote!\")\n",
    "    print(\"Have you registered to vote yet?\")\n",
    "else:\n",
    "    print(\"You are too young to vote\")"
   ]
  },
  {
   "cell_type": "markdown",
   "id": "a2ff59dc-046a-4df1-822b-30f28ddb0327",
   "metadata": {},
   "source": [
    "<font size='3'> 5.3.3 if-elif-else结构"
   ]
  },
  {
   "cell_type": "markdown",
   "id": "2e632f52-3cd1-42ba-b550-34b510dbcb8a",
   "metadata": {},
   "source": [
    "需要多段检查的时候，可以使用这种结构"
   ]
  },
  {
   "cell_type": "code",
   "execution_count": 34,
   "id": "9914c931-3a2b-451a-b09f-8eadb6561354",
   "metadata": {},
   "outputs": [
    {
     "name": "stdout",
     "output_type": "stream",
     "text": [
      "Your admission cost is $5.\n"
     ]
    }
   ],
   "source": [
    "age = 12\n",
    "if age<4:\n",
    "    print(\"Your admission cost is $0.\")\n",
    "elif age<18:\n",
    "    print(\"Your admission cost is $5.\")\n",
    "else:\n",
    "    print(\"Your admission cost is $10.\")    "
   ]
  },
  {
   "cell_type": "code",
   "execution_count": 35,
   "id": "dc25d1b3-b6d9-4da2-bdd8-4121803b1759",
   "metadata": {},
   "outputs": [],
   "source": [
    "#为了让代码简洁，可以换种方式"
   ]
  },
  {
   "cell_type": "code",
   "execution_count": 36,
   "id": "fe526f79-2bbd-4215-9148-c2a611c171d7",
   "metadata": {},
   "outputs": [
    {
     "name": "stdout",
     "output_type": "stream",
     "text": [
      "Your admission cost is $5.\n"
     ]
    }
   ],
   "source": [
    "age = 12\n",
    "if age<4:\n",
    "    price = 0\n",
    "elif age<18:\n",
    "    price = 5\n",
    "else:\n",
    "    price = 10\n",
    "print(\"Your admission cost is $\" + str(price) + \".\")"
   ]
  },
  {
   "cell_type": "markdown",
   "id": "3da1dc59-7819-42ce-b0db-45c6f0101438",
   "metadata": {},
   "source": [
    "<strong>如果你只想执行一个代码块，就使用if-elif-else结构；如果要运行多个代码块，就使用一系列独立的if语句。</strong>"
   ]
  },
  {
   "cell_type": "markdown",
   "id": "aaaa6806-9213-451f-bea9-042151dab9c8",
   "metadata": {},
   "source": [
    "<font size='4'> 5.4 使用if语句处理列表"
   ]
  },
  {
   "cell_type": "markdown",
   "id": "1a35d0ba-53fb-4ae6-bd34-bfb269771fd1",
   "metadata": {},
   "source": [
    "通过结合使用if语句和列表，可以对列表中特定的值做特殊处理。"
   ]
  },
  {
   "cell_type": "markdown",
   "id": "fd8bdc20-9227-49c3-b52e-479c3b4afb88",
   "metadata": {},
   "source": [
    "<font size='3'> 5.4.1 检查元素"
   ]
  },
  {
   "cell_type": "code",
   "execution_count": 39,
   "id": "6f9e5b06-e8f7-43d9-afba-3108a203be82",
   "metadata": {},
   "outputs": [
    {
     "name": "stdout",
     "output_type": "stream",
     "text": [
      "Adding mushroom.\n",
      "Adding green.\n",
      "Adding peppers.\n",
      "Adding extra cheese.\n",
      "Finished making your pizza!\n"
     ]
    }
   ],
   "source": [
    "#拿一个披萨添加配料来举例子：\n",
    "requested_toppings = ['mushroom','green','peppers','extra cheese']\n",
    "for requested_topping in requested_toppings:\n",
    "    print(\"Adding \" + requested_topping + \".\")\n",
    "print(\"Finished making your pizza!\")"
   ]
  },
  {
   "cell_type": "code",
   "execution_count": 42,
   "id": "97cbfde5-e70f-4564-b0d6-5771ba53be78",
   "metadata": {},
   "outputs": [
    {
     "name": "stdout",
     "output_type": "stream",
     "text": [
      "Adding mushroom.\n",
      "Sorry,we are out of green peppers right now.\n",
      "Adding extra cheese.\n",
      "Finished making your pizza!\n"
     ]
    }
   ],
   "source": [
    "#假如青椒用完了\n",
    "requested_toppings = ['mushroom','green peppers','extra cheese']\n",
    "for requested_topping in requested_toppings:\n",
    "    if requested_topping == 'green peppers':\n",
    "        print(\"Sorry,we are out of green peppers right now.\")\n",
    "    else:\n",
    "        print(\"Adding \" + requested_topping + \".\")\n",
    "print(\"Finished making your pizza!\")"
   ]
  },
  {
   "cell_type": "markdown",
   "id": "b9b820b5-e0d0-4467-a385-4df5cea798e1",
   "metadata": {},
   "source": [
    "<font size='3'> 5.4.2 确定列表不是空的"
   ]
  },
  {
   "cell_type": "code",
   "execution_count": 45,
   "id": "62ac690b-94d9-4397-a52d-e743b2c443a3",
   "metadata": {},
   "outputs": [
    {
     "name": "stdout",
     "output_type": "stream",
     "text": [
      "Are you sure you want a plain pizza?\n"
     ]
    }
   ],
   "source": [
    "requeted_toppings = []\n",
    "if requeted_toppings:\n",
    "    for requested_topping in requested_toppings:\n",
    "        print(\"Adding \" + requested_topping + \".\")\n",
    "    print(\"Finished making your pizza!\")\n",
    "else:\n",
    "    print(\"Are you sure you want a plain pizza?\")"
   ]
  },
  {
   "cell_type": "markdown",
   "id": "899c73a4-8189-4431-b96a-8913d90e60ce",
   "metadata": {},
   "source": [
    "对于requested_toppings中的每个元素，都检查它是否是比萨店供应的配料，再决定是否在比萨店添加。"
   ]
  },
  {
   "cell_type": "code",
   "execution_count": 53,
   "id": "da98e8ed-0fb3-448a-9fe5-063fbba55de8",
   "metadata": {},
   "outputs": [
    {
     "name": "stdout",
     "output_type": "stream",
     "text": [
      "Adding mushrooms.\n",
      "Sorry,we don't have french fries.\n",
      "Adding extra cheese.\n",
      "Finished making your pizza!\n"
     ]
    }
   ],
   "source": [
    "available_toppings = ['mushrooms','olives','green peppers',\n",
    "                      'pepperoni','pineapple','extra cheese']\n",
    "requested_toppings = ('mushrooms','french fries','extra cheese')\n",
    "for requested_topping in requested_toppings:\n",
    "    if requested_topping in available_toppings:\n",
    "        print(\"Adding \"+requested_topping+\".\")\n",
    "    else:\n",
    "        print(\"Sorry,we don't have \"+requested_topping+\".\")\n",
    "print(\"Finished making your pizza!\")"
   ]
  },
  {
   "cell_type": "code",
   "execution_count": null,
   "id": "890444f6-67dd-4817-8a88-28df49e4daf8",
   "metadata": {},
   "outputs": [],
   "source": []
  },
  {
   "cell_type": "code",
   "execution_count": null,
   "id": "df4ade53-89b5-4da2-a09b-d873a11e5c43",
   "metadata": {},
   "outputs": [],
   "source": []
  }
 ],
 "metadata": {
  "kernelspec": {
   "display_name": "Python 3 (ipykernel)",
   "language": "python",
   "name": "python3"
  },
  "language_info": {
   "codemirror_mode": {
    "name": "ipython",
    "version": 3
   },
   "file_extension": ".py",
   "mimetype": "text/x-python",
   "name": "python",
   "nbconvert_exporter": "python",
   "pygments_lexer": "ipython3",
   "version": "3.9.9"
  },
  "widgets": {
   "application/vnd.jupyter.widget-state+json": {
    "state": {},
    "version_major": 2,
    "version_minor": 0
   }
  }
 },
 "nbformat": 4,
 "nbformat_minor": 5
}
