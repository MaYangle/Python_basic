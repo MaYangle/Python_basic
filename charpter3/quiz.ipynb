{
 "cells": [
  {
   "cell_type": "markdown",
   "id": "861b773d-348e-4fdd-b985-1c2c31a45e40",
   "metadata": {},
   "source": [
    "<font size=\"4\">3-1 朋友名字 存放在列表"
   ]
  },
  {
   "cell_type": "code",
   "execution_count": 4,
   "id": "fb97b23b-203e-4d82-ab6d-1c24731a85b9",
   "metadata": {},
   "outputs": [
    {
     "name": "stdout",
     "output_type": "stream",
     "text": [
      "Amy\n",
      "Best wishes Amy\n",
      "Biber\n",
      "Best wishes Biber\n",
      "Cpom\n",
      "Best wishes Cpom\n",
      "David\n",
      "Best wishes David\n",
      "Tao\n",
      "Best wishes Tao\n"
     ]
    }
   ],
   "source": [
    "names = [\"amy\",\"biber\",\"cpom\",\"david\",\"tao\"]\n",
    "for name in names:\n",
    "    print(name.title())\n",
    "    print(\"Best wishes \" + name.title())"
   ]
  },
  {
   "cell_type": "markdown",
   "id": "6f149793-fb6a-4dd8-a1b8-aca385f73943",
   "metadata": {},
   "source": [
    "<font size=\"4\"> 3-4 邀请晚餐 "
   ]
  },
  {
   "cell_type": "code",
   "execution_count": 12,
   "id": "516ba29a-3381-46de-87e7-6fe2e91ddc41",
   "metadata": {},
   "outputs": [
    {
     "name": "stdout",
     "output_type": "stream",
     "text": [
      "['mike', 'dingzhen', 'furongwang', 'jige']\n",
      "I want to invite you to this dinner , mike\n",
      "I want to invite you to this dinner , dingzhen\n",
      "I want to invite you to this dinner , furongwang\n",
      "I want to invite you to this dinner , jige\n",
      "I invite 4 people to this dinner.\n"
     ]
    }
   ],
   "source": [
    "guest_list = ['mike','dingzhen','furongwang','jige']\n",
    "print(guest_list)\n",
    "for guest in guest_list:\n",
    "    print(\"I want to invite you to this dinner\" +\" , \" + guest)\n",
    "print(\"I invite \" + str(len(guest_list)) + \" people to this dinner.\")"
   ]
  },
  {
   "cell_type": "code",
   "execution_count": 18,
   "id": "63646c65-9326-4cca-84f7-86cd80e4d716",
   "metadata": {},
   "outputs": [
    {
     "name": "stdout",
     "output_type": "stream",
     "text": [
      "jige cannot attend this dinner \n"
     ]
    }
   ],
   "source": [
    "print(guest_list[-1] + \" cannot attend this dinner \")"
   ]
  },
  {
   "cell_type": "code",
   "execution_count": 19,
   "id": "933062c0-6fbe-4441-be50-12d76b68369c",
   "metadata": {},
   "outputs": [
    {
     "name": "stdout",
     "output_type": "stream",
     "text": [
      "I want to invite you to this dinner , mike\n",
      "I want to invite you to this dinner , dingzhen\n",
      "I want to invite you to this dinner , furongwang\n",
      "I want to invite you to this dinner , wangge\n"
     ]
    }
   ],
   "source": [
    "guest_list[-1] = 'wangge'\n",
    "for guest in guest_list:\n",
    "    print(\"I want to invite you to this dinner\" +\" , \" + guest)"
   ]
  },
  {
   "cell_type": "code",
   "execution_count": 20,
   "id": "58ffe315-4b0a-4ab3-a814-17a6c9a5e85c",
   "metadata": {},
   "outputs": [
    {
     "name": "stdout",
     "output_type": "stream",
     "text": [
      "I find a bigger desk\n"
     ]
    }
   ],
   "source": [
    "print(\"I find a bigger desk\")"
   ]
  },
  {
   "cell_type": "code",
   "execution_count": 21,
   "id": "7290229f-6ff6-4661-a6ca-e40fd621ae8f",
   "metadata": {},
   "outputs": [
    {
     "name": "stdout",
     "output_type": "stream",
     "text": [
      "['zhiyuan', 'mike', 'dingzhen', 'pengwu', 'furongwang', 'wangge', 'laobeijing']\n"
     ]
    }
   ],
   "source": [
    "guest_list.insert(0,'zhiyuan')\n",
    "guest_list.insert(3,'pengwu')\n",
    "guest_list.append('laobeijing')\n",
    "print(guest_list)"
   ]
  },
  {
   "cell_type": "code",
   "execution_count": 22,
   "id": "e00526a4-318e-4d71-841b-2379521109e7",
   "metadata": {},
   "outputs": [
    {
     "name": "stdout",
     "output_type": "stream",
     "text": [
      "I can just invite two guests\n"
     ]
    }
   ],
   "source": [
    "print(\"I can just invite two guests\")\n"
   ]
  },
  {
   "cell_type": "code",
   "execution_count": 23,
   "id": "6153c6c3-d5f9-4ec0-ac1e-6e7e1dc73913",
   "metadata": {},
   "outputs": [
    {
     "name": "stdout",
     "output_type": "stream",
     "text": [
      "['zhiyuan', 'mike', 'dingzhen', 'pengwu', 'furongwang', 'wangge', 'laobeijing']\n",
      "Sorry, I cannot invite you laobeijing\n",
      "Sorry, I cannot invite you wangge\n",
      "Sorry, I cannot invite you furongwang\n",
      "Sorry, I cannot invite you pengwu\n",
      "Sorry, I cannot invite you dingzhen\n"
     ]
    }
   ],
   "source": [
    "print(guest_list)\n",
    "for guest in guest_list:\n",
    "    while len(guest_list)>2:\n",
    "        print(\"Sorry, I cannot invite you \" + guest_list.pop())"
   ]
  },
  {
   "cell_type": "code",
   "execution_count": 24,
   "id": "426bd902-e5a3-48eb-a1e8-c60a039a9c0f",
   "metadata": {},
   "outputs": [
    {
     "name": "stdout",
     "output_type": "stream",
     "text": [
      "['zhiyuan', 'mike']\n"
     ]
    }
   ],
   "source": [
    "print(guest_list)"
   ]
  },
  {
   "cell_type": "code",
   "execution_count": 25,
   "id": "2244c3c3-bc88-4ed8-8395-de7359e7a2e9",
   "metadata": {},
   "outputs": [],
   "source": [
    "del guest_list[0]\n",
    "del guest_list[0]"
   ]
  },
  {
   "cell_type": "code",
   "execution_count": 27,
   "id": "a73c2274-5087-4395-9bee-18fea6c8b0a0",
   "metadata": {},
   "outputs": [
    {
     "name": "stdout",
     "output_type": "stream",
     "text": [
      "[]\n"
     ]
    }
   ],
   "source": [
    "print(guest_list)"
   ]
  },
  {
   "cell_type": "markdown",
   "id": "8ed9d6b7-e93d-4241-8f14-393a2d05a092",
   "metadata": {},
   "source": [
    "<font size=\"4\"> 3.8 旅游"
   ]
  },
  {
   "cell_type": "code",
   "execution_count": 1,
   "id": "577c8c90-df84-45f1-b6c5-3bb7c4e67b58",
   "metadata": {},
   "outputs": [
    {
     "name": "stdout",
     "output_type": "stream",
     "text": [
      "['Turkey', 'Italy', 'America', 'Japan', 'England']\n"
     ]
    }
   ],
   "source": [
    "travel = ['Turkey','Italy','America','Japan','England']\n",
    "print(travel)"
   ]
  },
  {
   "cell_type": "code",
   "execution_count": 2,
   "id": "87bc88bf-2441-46cd-b8e1-d4b056364551",
   "metadata": {},
   "outputs": [
    {
     "name": "stdout",
     "output_type": "stream",
     "text": [
      "['Turkey', 'Italy', 'America', 'Japan', 'England']\n"
     ]
    }
   ],
   "source": [
    "sorted(travel)\n",
    "print(travel)"
   ]
  },
  {
   "cell_type": "code",
   "execution_count": 3,
   "id": "a963b633-cb75-4f89-b327-0b6e623ca217",
   "metadata": {},
   "outputs": [
    {
     "name": "stdout",
     "output_type": "stream",
     "text": [
      "['Turkey', 'Italy', 'America', 'Japan', 'England']\n"
     ]
    }
   ],
   "source": [
    "sorted(travel,reverse=True)\n",
    "print(travel)"
   ]
  },
  {
   "cell_type": "code",
   "execution_count": 5,
   "id": "4d90fac4-6886-44d6-a56a-3f6b631e1f18",
   "metadata": {},
   "outputs": [
    {
     "name": "stdout",
     "output_type": "stream",
     "text": [
      "['England', 'Japan', 'America', 'Italy', 'Turkey']\n"
     ]
    }
   ],
   "source": [
    "travel.reverse()\n",
    "print(travel)"
   ]
  },
  {
   "cell_type": "code",
   "execution_count": 6,
   "id": "54389558-a5cc-4a27-ab25-365012e48964",
   "metadata": {},
   "outputs": [
    {
     "name": "stdout",
     "output_type": "stream",
     "text": [
      "['Turkey', 'Italy', 'America', 'Japan', 'England']\n"
     ]
    }
   ],
   "source": [
    "travel.reverse()\n",
    "print(travel)"
   ]
  },
  {
   "cell_type": "code",
   "execution_count": 7,
   "id": "f8ad2d28-299a-414f-8bd7-1e021e310d81",
   "metadata": {},
   "outputs": [
    {
     "name": "stdout",
     "output_type": "stream",
     "text": [
      "['America', 'England', 'Italy', 'Japan', 'Turkey']\n"
     ]
    }
   ],
   "source": [
    "travel.sort()\n",
    "print(travel)"
   ]
  },
  {
   "cell_type": "code",
   "execution_count": 8,
   "id": "80fec76b-a544-4219-b6a1-5a5330632fe2",
   "metadata": {},
   "outputs": [
    {
     "name": "stdout",
     "output_type": "stream",
     "text": [
      "['Turkey', 'Japan', 'Italy', 'England', 'America']\n"
     ]
    }
   ],
   "source": [
    "travel.sort(reverse=True)\n",
    "print(travel)"
   ]
  },
  {
   "cell_type": "code",
   "execution_count": null,
   "id": "69b032b3-5132-4d07-b37e-8df6eddfc003",
   "metadata": {},
   "outputs": [],
   "source": []
  }
 ],
 "metadata": {
  "kernelspec": {
   "display_name": "Python 3 (ipykernel)",
   "language": "python",
   "name": "python3"
  },
  "language_info": {
   "codemirror_mode": {
    "name": "ipython",
    "version": 3
   },
   "file_extension": ".py",
   "mimetype": "text/x-python",
   "name": "python",
   "nbconvert_exporter": "python",
   "pygments_lexer": "ipython3",
   "version": "3.9.9"
  },
  "widgets": {
   "application/vnd.jupyter.widget-state+json": {
    "state": {},
    "version_major": 2,
    "version_minor": 0
   }
  }
 },
 "nbformat": 4,
 "nbformat_minor": 5
}
