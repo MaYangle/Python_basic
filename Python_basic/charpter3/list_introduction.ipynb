{
 "cells": [
  {
   "cell_type": "markdown",
   "id": "c9ed0c6d-33af-4ef6-b6ce-d792d96876d9",
   "metadata": {},
   "source": [
    "<font size=\"5\">3.1 列表是什么</font>\n",
    "\n",
    "列表由一系列按特定顺序排列的元素组成，其中元素之间可以没有任何关系。\n",
    "\n",
    "鉴于列表通常包含多个元素，给列表指定一个表示复数的名称（如letters、digits或names）都很不错\n"
   ]
  },
  {
   "cell_type": "markdown",
   "id": "611c5be4-0d9b-4e84-868c-3725d795991d",
   "metadata": {},
   "source": [
    "在Python中，用方括号[]来表示列表，并用逗号来分隔其中的元素。"
   ]
  },
  {
   "cell_type": "code",
   "execution_count": 3,
   "id": "9f70a898-ca32-4226-8286-be09d8b87577",
   "metadata": {},
   "outputs": [
    {
     "name": "stdout",
     "output_type": "stream",
     "text": [
      "['trek', 'cannondale', 'redline', 'specialized']\n"
     ]
    }
   ],
   "source": [
    "#bicycles。py\n",
    "bicycles = ['trek','cannondale','redline','specialized']\n",
    "print(bicycles)"
   ]
  },
  {
   "cell_type": "markdown",
   "id": "7336cfbc-076d-4fda-b880-73d7d3f3403a",
   "metadata": {},
   "source": [
    "这种方式得出来的不是想给用户看到的输出，只是整个列表的样子"
   ]
  },
  {
   "cell_type": "markdown",
   "id": "5fd366e2-47ce-4970-a6bf-98029b6f977b",
   "metadata": {},
   "source": [
    "<font size=\"3\">3.1.1 访问列表元素</font>\n",
    "\n",
    "列表是有序集合，因此要访问列表的任何元素，只需要将该元素的位置或索引告诉Python即可。\n",
    "\n",
    "要访问列表元素，可以指出列表名称，再指出元素的索引，并将其放在方括号内。"
   ]
  },
  {
   "cell_type": "code",
   "execution_count": 4,
   "id": "68a46915-472b-46b4-ad1d-a6f913264edb",
   "metadata": {},
   "outputs": [
    {
     "name": "stdout",
     "output_type": "stream",
     "text": [
      "trek\n"
     ]
    }
   ],
   "source": [
    "#bicycles。py\n",
    "bicycles = ['trek','cannondale','redline','specialized']\n",
    "print(bicycles[0])"
   ]
  },
  {
   "cell_type": "code",
   "execution_count": 5,
   "id": "5c487a63-7b55-42ff-b0e1-c2370441b564",
   "metadata": {},
   "outputs": [
    {
     "name": "stdout",
     "output_type": "stream",
     "text": [
      "Trek\n"
     ]
    }
   ],
   "source": [
    "#还可以让其更整洁\n",
    "print(bicycles[0].title())"
   ]
  },
  {
   "cell_type": "markdown",
   "id": "21865537-8139-4c28-90d1-1f7cef16ebee",
   "metadata": {},
   "source": [
    "3.1.2 索引从0而不是1开始\n",
    "\n",
    "在Python中，第一个列表元素的索引为0，而不是1，这与列表操作的底层实现有关。\n",
    "\n",
    "想访问列表的任何元素，都可将其位置减1，并将其结果作为索引。\n"
   ]
  },
  {
   "cell_type": "markdown",
   "id": "6f616333-6890-4b4d-9235-1ebce16b5b3a",
   "metadata": {},
   "source": [
    "Python为访问最后一个列表元素提供了一种特殊语法。通过将索引指定为-1，可让Python返回最后一个列表元素：\n"
   ]
  },
  {
   "cell_type": "code",
   "execution_count": 6,
   "id": "d1eec86d-e495-4a40-934d-920068efd75a",
   "metadata": {},
   "outputs": [
    {
     "name": "stdout",
     "output_type": "stream",
     "text": [
      "Specialized\n"
     ]
    }
   ],
   "source": [
    "print(bicycles[-1].title())"
   ]
  },
  {
   "cell_type": "markdown",
   "id": "17bb12a4-b04c-42ed-bf6d-f05758cc644a",
   "metadata": {},
   "source": [
    "同理，也适用于其他负数索引，负几就代表倒数第几个。"
   ]
  },
  {
   "cell_type": "markdown",
   "id": "b60e2868-84f8-4577-9566-519351e09051",
   "metadata": {},
   "source": [
    "3.1.3 使用列表中的各个值\n",
    "\n",
    "可像使用其他变量一样使用列表中的各个值，例如拼接根据列表中的值来创建消息。"
   ]
  },
  {
   "cell_type": "code",
   "execution_count": 9,
   "id": "9622ef3f-5bc7-42f9-bbdb-01364c07f784",
   "metadata": {},
   "outputs": [
    {
     "name": "stdout",
     "output_type": "stream",
     "text": [
      "My first bicycle was a Trek.\n"
     ]
    }
   ],
   "source": [
    "message = \"My first bicycle was a \" + bicycles[0].title()+\".\"\n",
    "print(message)"
   ]
  },
  {
   "cell_type": "markdown",
   "id": "308ad375-542b-4618-98f5-d80b51074b2f",
   "metadata": {},
   "source": [
    "3.2 修改、添加和删除元素\n",
    "\n",
    "创建的大多数列表都将是动态的，意味着列表创建后会随着程序的运行增添元素。"
   ]
  },
  {
   "cell_type": "markdown",
   "id": "9228e731-94f5-4aff-a9de-7a517e19d815",
   "metadata": {},
   "source": [
    "3.2.1 修改列表元素\n",
    "修改列表元素的语法与访问列表元素的语法类似。 \n",
    "\n",
    "要修改列表元素，可指定列表名和要修改的元素的索引。\n"
   ]
  },
  {
   "cell_type": "code",
   "execution_count": 11,
   "id": "0f50115c-3ead-4c08-8a50-9a3fe52a2609",
   "metadata": {},
   "outputs": [
    {
     "name": "stdout",
     "output_type": "stream",
     "text": [
      "['honda', 'yamana', 'suzuki']\n",
      "['ducati', 'yamana', 'suzuki']\n"
     ]
    }
   ],
   "source": [
    "# 可以修改任何列表元素的值，而不仅仅是第一个元素的值\n",
    "motorcycles = ['honda','yamana','suzuki']\n",
    "print(motorcycles)\n",
    "motorcycles[0] = 'ducati'\n",
    "print(motorcycles)"
   ]
  },
  {
   "cell_type": "markdown",
   "id": "c39e3c1e-8163-4556-89c0-21122ad9b0d4",
   "metadata": {},
   "source": [
    "3.2.2 在列表中添加元素\n",
    "1. 在列表末尾添加元素"
   ]
  },
  {
   "cell_type": "markdown",
   "id": "de8e3180-f53d-41b5-ad30-75d3974197a3",
   "metadata": {},
   "source": [
    "在列表中添加新元素时，最简单的方式是将元素附加到列表末尾。"
   ]
  },
  {
   "cell_type": "code",
   "execution_count": 12,
   "id": "0b04dc62-0ad8-44ff-a073-e3eb948c03d7",
   "metadata": {},
   "outputs": [
    {
     "name": "stdout",
     "output_type": "stream",
     "text": [
      "['ducati', 'yamana', 'suzuki', 'texi']\n"
     ]
    }
   ],
   "source": [
    "motorcycles.append('texi')\n",
    "print(motorcycles)"
   ]
  },
  {
   "cell_type": "markdown",
   "id": "2be495b5-b6a9-4924-8904-9e84835d3b87",
   "metadata": {},
   "source": [
    "方法append()将元素'texi'添加到了列表末尾 而不影响其他所有元素"
   ]
  },
  {
   "cell_type": "markdown",
   "id": "a1e07c5f-53fc-4ae8-8aa9-d620fdc045e7",
   "metadata": {},
   "source": [
    "方法append() 让动态地创建列表易如反掌，可以先创建一个空列表，再使用一系列的append()语句来添加元素"
   ]
  },
  {
   "cell_type": "code",
   "execution_count": 13,
   "id": "a8cabea5-91e6-4836-b69d-1bdbb2ec3b96",
   "metadata": {},
   "outputs": [
    {
     "name": "stdout",
     "output_type": "stream",
     "text": [
      "['honda', 'yamaha', 'suzuki']\n"
     ]
    }
   ],
   "source": [
    "motorcycles = []\n",
    "motorcycles.append('honda')\n",
    "motorcycles.append('yamaha')\n",
    "motorcycles.append('suzuki')\n",
    "print(motorcycles)"
   ]
  },
  {
   "cell_type": "markdown",
   "id": "83f71b55-fa82-4cbe-ba1c-a88abf3d68e1",
   "metadata": {},
   "source": [
    "这种创建列表的方式极其常见，因为要等程序运行后，才能知道用户要在程序中存储哪些数据。 为控制用户，可首先创建一个空列表。\n",
    "\n",
    "用于存储用户将要输入的值，然后将用户提供的每个新值附加到列表中。"
   ]
  },
  {
   "cell_type": "markdown",
   "id": "3930611b-0b86-4fac-9f3f-94e502349430",
   "metadata": {},
   "source": [
    "2. 在列表中插入元素\n",
    "\n",
    "使用方法insert() 可在列表的任何位置添加新元素。 为此需要指定新元素的索引和值。\n"
   ]
  },
  {
   "cell_type": "code",
   "execution_count": 15,
   "id": "f7373f06-c0bf-4114-874b-e8a9dbcdd189",
   "metadata": {},
   "outputs": [
    {
     "name": "stdout",
     "output_type": "stream",
     "text": [
      "['bench', 'honda', 'yamaha', 'suzuki']\n"
     ]
    }
   ],
   "source": [
    "motorcycles.insert(0,'bench')\n",
    "print(motorcycles)"
   ]
  },
  {
   "cell_type": "markdown",
   "id": "d297fec8-4056-47ae-ad0a-a526b4f5dc43",
   "metadata": {},
   "source": [
    "方法insert() 在索引0处添加空间，并将值'bench'存储到这个地方，这种操作将列表中既有的每个元素都youyi"
   ]
  },
  {
   "cell_type": "markdown",
   "id": "69b27d5d-79c2-4f64-9cae-8c6780a26b3d",
   "metadata": {},
   "source": [
    "3.2.3 从列表中删除元素\n",
    "\n",
    "1. 使用del语句删除元素\n",
    "\n",
    "如果知道要删除的元素在列表中的位置，可以使用del语句。"
   ]
  },
  {
   "cell_type": "code",
   "execution_count": 16,
   "id": "9734ddd1-963f-49e7-b291-5fbfae88a65e",
   "metadata": {},
   "outputs": [
    {
     "name": "stdout",
     "output_type": "stream",
     "text": [
      "['honda', 'yamana', 'suzuki']\n",
      "['yamana', 'suzuki']\n"
     ]
    }
   ],
   "source": [
    "motorcycles = ['honda','yamana','suzuki']\n",
    "print(motorcycles)\n",
    "del motorcycles[0]\n",
    "print(motorcycles)"
   ]
  },
  {
   "cell_type": "markdown",
   "id": "ad95acb5-5650-41ec-a8a6-1baddf931500",
   "metadata": {},
   "source": [
    "在这种情况下，使用del语句将值从列表中删除后，就无法再访问了。"
   ]
  },
  {
   "cell_type": "markdown",
   "id": "6b626039-125d-4c52-a856-f6b9ca4f51f8",
   "metadata": {},
   "source": [
    "2. 使用方法pop()删除元素"
   ]
  },
  {
   "cell_type": "markdown",
   "id": "f09de4c6-d4fe-48e8-8f02-bdbca95f9e41",
   "metadata": {},
   "source": [
    "有时候，需要将元素从列表中删除，并接着使用它的值。方法pop()可以删除列表末尾的元素，并让人接着使用。"
   ]
  },
  {
   "cell_type": "code",
   "execution_count": 1,
   "id": "41b5c339-196c-4a86-9b48-28be6b806615",
   "metadata": {},
   "outputs": [
    {
     "name": "stdout",
     "output_type": "stream",
     "text": [
      "['honda', 'yamana', 'suzuki']\n",
      "['honda', 'yamana']\n",
      "suzuki\n"
     ]
    }
   ],
   "source": [
    "motorcycles = ['honda','yamana','suzuki']\n",
    "print(motorcycles)\n",
    "popped_motorcycle = motorcycles.pop()\n",
    "print(motorcycles)\n",
    "print(popped_motorcycle)"
   ]
  },
  {
   "cell_type": "markdown",
   "id": "49fc0335-bdcf-43b5-8093-dacec222757c",
   "metadata": {},
   "source": [
    "列表末尾的值被删除，现在被存储在变量popped_motorcycle中："
   ]
  },
  {
   "cell_type": "markdown",
   "id": "dfa55045-96bb-4c22-9ed1-fb738433c931",
   "metadata": {},
   "source": [
    "3. 弹出列表中任何位置处的元素"
   ]
  },
  {
   "cell_type": "markdown",
   "id": "1dfdff93-8b32-4537-952b-c8ca163d31dc",
   "metadata": {},
   "source": [
    "实际上，你可以使用pop()来删除列表中任何位置的元素，只需要在括号中指定要删除的元素的索引即可。"
   ]
  },
  {
   "cell_type": "code",
   "execution_count": 3,
   "id": "5ece684d-d558-4bc7-a747-fd752a75a773",
   "metadata": {},
   "outputs": [
    {
     "name": "stdout",
     "output_type": "stream",
     "text": [
      "The first motorcycle I owned was a Honda.\n"
     ]
    }
   ],
   "source": [
    "motorcycles = ['honda','yamana','suzuki']\n",
    "first_owned = motorcycles.pop(0)\n",
    "print(\"The first motorcycle I owned was a \" + first_owned.title() +\".\")"
   ]
  },
  {
   "cell_type": "markdown",
   "id": "93b4970c-5f59-4365-9bdd-3589f0208de9",
   "metadata": {},
   "source": [
    "如果你要从列表中删除一个元素，且不再以任何方式使用它，就使用del语句；如果你要在删除元素后还能继续使用，就使用方法pop()"
   ]
  },
  {
   "cell_type": "markdown",
   "id": "2aed0059-362b-43d9-8efb-f924a37ec0b4",
   "metadata": {},
   "source": [
    "4. 根据值删除元素"
   ]
  },
  {
   "cell_type": "markdown",
   "id": "5d0bb42a-5792-4651-a753-d9aaa89811ff",
   "metadata": {},
   "source": [
    "不知道要从列表中删除的值，所处的位置。如果只知道要删除的元素的值，可以使用方法remove()"
   ]
  },
  {
   "cell_type": "code",
   "execution_count": 7,
   "id": "50ccf121-23a5-4b16-a9f2-25b6532007fb",
   "metadata": {},
   "outputs": [
    {
     "name": "stdout",
     "output_type": "stream",
     "text": [
      "['trek', 'cannondale', 'redline', 'specialized']\n",
      "['trek', 'cannondale', 'redline']\n"
     ]
    }
   ],
   "source": [
    "bicycles = ['trek','cannondale','redline','specialized']\n",
    "print(bicycles)\n",
    "bicycles.remove('specialized')\n",
    "print(bicycles)"
   ]
  },
  {
   "cell_type": "markdown",
   "id": "7bf8f0c9-4d65-4ad7-b2b6-d1ff81056a26",
   "metadata": {},
   "source": [
    "方法remove()只删除第一个指定的值，如果要删除的值可能在列表中出现多次，就需要使用循环来判断是否删除了所有的值。"
   ]
  },
  {
   "cell_type": "markdown",
   "id": "57971770-bacd-4332-b650-693e75794da6",
   "metadata": {},
   "source": [
    "<font size = \"4\">3.3 组织列表 </font>\n",
    "\n",
    "在创建的列表中，元素的排列顺序往往无法预测，但经常需要用特定的顺序来呈现信息。\n",
    "\n",
    "Python提供了很多组织列表的方式，可根据具体情况选用。"
   ]
  },
  {
   "cell_type": "markdown",
   "id": "107ccf13-00cf-48fe-bb87-51059a5e94f3",
   "metadata": {},
   "source": [
    "<font size=\"3\">3.3.1  使用方法sort()来对列表进行永久性排列 </font>"
   ]
  },
  {
   "cell_type": "markdown",
   "id": "17adc316-5126-49ce-8350-066c987ab69d",
   "metadata": {},
   "source": [
    "Python方法sort()能让人较为轻松对列表进行排列。假设有一个汽车列表，希望让其中的汽车都按照字母排列。"
   ]
  },
  {
   "cell_type": "code",
   "execution_count": 8,
   "id": "9ecadf34-d64f-49ce-9bd4-7b278b08e6c2",
   "metadata": {},
   "outputs": [
    {
     "name": "stdout",
     "output_type": "stream",
     "text": [
      "['audi', 'bmw', 'subaru', 'toyota']\n"
     ]
    }
   ],
   "source": [
    "cars = ['bmw','audi','toyota','subaru']\n",
    "cars.sort()\n",
    "print(cars)"
   ]
  },
  {
   "cell_type": "markdown",
   "id": "2488f012-1525-4e23-848e-f09e90df3efa",
   "metadata": {},
   "source": [
    "方法sort()永久性地改变了列表元素的排列顺序。现在，汽车是按字母顺序排列的，无法恢复到原来的排列顺序。"
   ]
  },
  {
   "cell_type": "code",
   "execution_count": 10,
   "id": "c90b1dac-30c4-465f-b30b-1ac40e4dafc5",
   "metadata": {},
   "outputs": [
    {
     "name": "stdout",
     "output_type": "stream",
     "text": [
      "['toyota', 'subaru', 'bmw', 'audi']\n"
     ]
    }
   ],
   "source": [
    "#可以让按与字母顺序相反的顺序排雷列表元素\n",
    "cars.sort(reverse=True)\n",
    "print(cars)"
   ]
  },
  {
   "cell_type": "markdown",
   "id": "8298421c-7fec-4fa5-82f7-546e0e23ad97",
   "metadata": {},
   "source": [
    "<font size=\"3\">3.3.2 使用函数sorted()对列表进行临时排序"
   ]
  },
  {
   "cell_type": "markdown",
   "id": "e456b24b-47bc-4f76-b79f-cbcf2660cd5f",
   "metadata": {},
   "source": [
    "要保留列表元素原有的排列顺序，同时以特定的顺序呈现它们，可以使用函数sorted()。\n",
    "\n",
    "函数sorted()让你能够按特定顺序显示列表元素，但同时不影响它们在列表中的原始排列顺序。"
   ]
  },
  {
   "cell_type": "code",
   "execution_count": 18,
   "id": "54b7ef9a-6681-40a8-9c90-a23ef3a9d6ad",
   "metadata": {},
   "outputs": [
    {
     "name": "stdout",
     "output_type": "stream",
     "text": [
      "Here is the original list:\n",
      "['bmw', 'audi', 'toyota', 'subaru']\n",
      "\n",
      "Here is the sorted list:\n",
      "['audi', 'bmw', 'subaru', 'toyota']\n",
      "\n",
      "Here is the original list again:\n",
      "['bmw', 'audi', 'toyota', 'subaru']\n"
     ]
    }
   ],
   "source": [
    "cars = ['bmw','audi','toyota','subaru']\n",
    "print(\"Here is the original list:\")\n",
    "print(cars)\n",
    "print(\"\\nHere is the sorted list:\")\n",
    "print(sorted(cars))\n",
    "print(\"\\nHere is the original list again:\")\n",
    "print(cars)"
   ]
  },
  {
   "cell_type": "markdown",
   "id": "468c9831-3617-401c-9d96-432d7fffa81a",
   "metadata": {},
   "source": [
    "<strong> 注意在并非所有的值都是小写的时候，按字母顺序排列列表要更复杂一点 </strong>"
   ]
  },
  {
   "cell_type": "markdown",
   "id": "a323aa90-93fc-48c7-b76f-22a0ff95cb38",
   "metadata": {},
   "source": [
    "<font size=\"3\"> 3.3.3 倒着打印列表"
   ]
  },
  {
   "cell_type": "markdown",
   "id": "6d1c8d42-8fc0-4cfd-88e8-5c4df73fc69f",
   "metadata": {},
   "source": [
    "要反转列表元素的排列顺序，可使用方法reverse()"
   ]
  },
  {
   "cell_type": "code",
   "execution_count": 2,
   "id": "9dd506e5-7890-4bd8-bf8f-19e05bc1f963",
   "metadata": {},
   "outputs": [
    {
     "name": "stdout",
     "output_type": "stream",
     "text": [
      "['bmw', 'audi', 'toyota', 'subaru']\n",
      "['subaru', 'toyota', 'audi', 'bmw']\n"
     ]
    }
   ],
   "source": [
    "cars = ['bmw','audi','toyota','subaru']\n",
    "print(cars)\n",
    "cars.reverse()\n",
    "print(cars)"
   ]
  },
  {
   "cell_type": "markdown",
   "id": "84258da4-890c-40f5-bf3c-f52e5187af1b",
   "metadata": {},
   "source": [
    "方法reverse()永久性地修改列表元素的排列顺序，但也很方便恢复，只需再次调用reverse()即可."
   ]
  },
  {
   "cell_type": "markdown",
   "id": "84d8f1a0-bd7b-488d-a3fd-4a5b4b737362",
   "metadata": {},
   "source": [
    "<font size=\"3\"> 3.3.4 确定列表的长度"
   ]
  },
  {
   "cell_type": "markdown",
   "id": "ecdd0e6b-71ee-4082-b226-39c2f5f2831f",
   "metadata": {},
   "source": [
    "使用函数len()可快速获悉列表的长度。"
   ]
  },
  {
   "cell_type": "code",
   "execution_count": 5,
   "id": "ef78adfd-9287-4cc9-b278-b5132ae493b4",
   "metadata": {},
   "outputs": [
    {
     "name": "stdout",
     "output_type": "stream",
     "text": [
      "4\n"
     ]
    }
   ],
   "source": [
    "print(len(cars))"
   ]
  },
  {
   "cell_type": "code",
   "execution_count": 6,
   "id": "7f200279-9219-4812-93bf-7cf9d9939cb1",
   "metadata": {},
   "outputs": [
    {
     "name": "stdout",
     "output_type": "stream",
     "text": [
      "I have 4 cars in total\n"
     ]
    }
   ],
   "source": [
    "#但如果想跟字符型拼接到一起 就需要转换\n",
    "print(\"I have \" +str(len(cars)) + \" cars in total\")"
   ]
  },
  {
   "cell_type": "code",
   "execution_count": null,
   "id": "dc76e226-0f21-4df9-8390-5368c69623ce",
   "metadata": {},
   "outputs": [],
   "source": []
  }
 ],
 "metadata": {
  "kernelspec": {
   "display_name": "Python 3 (ipykernel)",
   "language": "python",
   "name": "python3"
  },
  "language_info": {
   "codemirror_mode": {
    "name": "ipython",
    "version": 3
   },
   "file_extension": ".py",
   "mimetype": "text/x-python",
   "name": "python",
   "nbconvert_exporter": "python",
   "pygments_lexer": "ipython3",
   "version": "3.9.9"
  },
  "widgets": {
   "application/vnd.jupyter.widget-state+json": {
    "state": {},
    "version_major": 2,
    "version_minor": 0
   }
  }
 },
 "nbformat": 4,
 "nbformat_minor": 5
}
