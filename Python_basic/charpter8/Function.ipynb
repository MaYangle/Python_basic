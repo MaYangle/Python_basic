{
 "cells": [
  {
   "cell_type": "markdown",
   "id": "52eb55d2-a20b-4277-8c48-c7440086e187",
   "metadata": {},
   "source": [
    "<font size=\"5\"> 8.函数 "
   ]
  },
  {
   "cell_type": "markdown",
   "id": "8f7027b2-891e-4bd6-befb-47f4792da1c7",
   "metadata": {},
   "source": [
    "函数是带名字的代码块，用于完成具体的工作。"
   ]
  },
  {
   "cell_type": "markdown",
   "id": "dc3c1ad9-6997-4109-b48a-dd3215186484",
   "metadata": {},
   "source": [
    "执行函数定义的特定任务，可以调用该函数。这样会非常简单，轻松。"
   ]
  },
  {
   "cell_type": "markdown",
   "id": "8c74750b-1d40-4113-ac29-81c5b2ae502a",
   "metadata": {},
   "source": [
    "<font size=\"4\"> 8.1 定义函数"
   ]
  },
  {
   "cell_type": "markdown",
   "id": "a706550e-95ef-482d-8e86-bb7c1dd16211",
   "metadata": {},
   "source": [
    "下面是一个打印问候语的简单函数，名为greet_user():"
   ]
  },
  {
   "cell_type": "code",
   "execution_count": 3,
   "id": "b75ef198-8766-42c3-ae23-4e22390724ff",
   "metadata": {},
   "outputs": [
    {
     "name": "stdout",
     "output_type": "stream",
     "text": [
      "Hello!\n"
     ]
    }
   ],
   "source": [
    "def greet_user():\n",
    "    \"\"\"显示简单的问候\"\"\"\n",
    "    print(\"Hello!\")\n",
    "greet_user()"
   ]
  },
  {
   "cell_type": "markdown",
   "id": "5430605e-5d57-437f-b31a-98a26a92f634",
   "metadata": {},
   "source": [
    "def 来告诉Pytho需要定义一个函数。 这个函数不需要任何信息都可以完成自己的工作，因此括号是空的（但也不能缺少括号）\n",
    "\n",
    "最后，定义以冒号结尾。"
   ]
  },
  {
   "cell_type": "markdown",
   "id": "7735c258-9501-4b2f-a6d8-be0fafc80cd5",
   "metadata": {},
   "source": [
    "\"\"\"\"\"\"是被称为文档字符串的注释，描述了函数是做什么的。代码行Print(\"Hello!)是函数体内唯一一行代码。\n",
    "\n",
    "要调用代码，可以依次指定函数和用括号括起的必要信息。"
   ]
  },
  {
   "cell_type": "markdown",
   "id": "2bc6fbea-f940-4df4-a970-790531cf8aec",
   "metadata": {},
   "source": [
    "<font size=\"3\"> 8.1.1 向函数传递信息"
   ]
  },
  {
   "cell_type": "markdown",
   "id": "d1fbe513-0dc7-49f2-b2af-ee666cd0938f",
   "metadata": {},
   "source": [
    "稍作修改，就可以传递相关信息。 "
   ]
  },
  {
   "cell_type": "code",
   "execution_count": 5,
   "id": "9f639a56-efd9-44be-81a3-e08b66d89e2a",
   "metadata": {},
   "outputs": [
    {
     "name": "stdout",
     "output_type": "stream",
     "text": [
      "Hello,Jess!\n"
     ]
    }
   ],
   "source": [
    "def greet_user(username):\n",
    "    \"\"\"显示简单问候\"\"\"\n",
    "    print(\"Hello,\"+username.title()+\"!\")\n",
    "greet_user('jess')"
   ]
  },
  {
   "cell_type": "markdown",
   "id": "29e1b8e7-89de-45e3-99d4-b901a10f7da6",
   "metadata": {},
   "source": [
    "<font size=\"3\"> 8.1.2 实参和形参"
   ]
  },
  {
   "cell_type": "markdown",
   "id": "84467341-eb4d-4de3-9dbc-3865d6cbcfa9",
   "metadata": {},
   "source": [
    "变量username是一个形参，值'jesse'是一个实参。我们调用函数时，是将实参传递给函数，这个值被存储在形参中。"
   ]
  },
  {
   "cell_type": "markdown",
   "id": "3a098fa9-979f-40ab-8188-d2c59e7d2be9",
   "metadata": {},
   "source": [
    "<font size=\"4\"> 8.2 传递实参"
   ]
  },
  {
   "cell_type": "markdown",
   "id": "9b75ca21-26a7-415d-b688-51df601fb0ee",
   "metadata": {},
   "source": [
    "鉴于函数定义中可能包含多个形参，因此函数调用中也可能包含多个实参。向函数传递实参的方式很多，可使用位置实参（要求实参的顺序与形参顺序相同）"
   ]
  },
  {
   "cell_type": "markdown",
   "id": "70c765a0-772d-43d3-9c3e-92b3da20b70d",
   "metadata": {},
   "source": [
    "也可使用关键字实参，其中每个实参都由变量名和值组成；还可使用列表和字典。"
   ]
  },
  {
   "cell_type": "markdown",
   "id": "d6b2fdb3-f123-419b-bf45-d21c3391c6b7",
   "metadata": {},
   "source": [
    "<font sizz=\"3\"> 8.2.1 位置实参"
   ]
  },
  {
   "cell_type": "markdown",
   "id": "5092bbef-f821-48b1-9a44-2fa30ed2d21c",
   "metadata": {},
   "source": [
    "调用函数时，Python必须将函数调用中的每个实参都关联到函数定义中的一个形参。所以最简单的方式就是基于实参的顺序。这种方式被称为位置实参。"
   ]
  },
  {
   "cell_type": "code",
   "execution_count": 9,
   "id": "12290484-9ec5-4ebe-b95b-6a3877384b07",
   "metadata": {},
   "outputs": [
    {
     "name": "stdout",
     "output_type": "stream",
     "text": [
      "I have a hamster.\n",
      "Myhamster's name is Harry.\n"
     ]
    }
   ],
   "source": [
    "#举个宠物的例子\n",
    "def describe_pet(animal_type,pet_name):\n",
    "    \"\"\"显示宠物的信息\"\"\"\n",
    "    print(\"I have a \" +animal_type + \".\")\n",
    "    print(\"My\" + animal_type + \"'s name is \"+pet_name.title()+\".\")\n",
    "describe_pet('hamster','harry')"
   ]
  },
  {
   "cell_type": "markdown",
   "id": "9de5a709-c96e-4ec4-9066-e0e81c3e37a9",
   "metadata": {},
   "source": [
    "1. 调用函数多次"
   ]
  },
  {
   "cell_type": "code",
   "execution_count": 10,
   "id": "64cc18a3-e7ae-4ff4-af40-5aa532851f06",
   "metadata": {},
   "outputs": [
    {
     "name": "stdout",
     "output_type": "stream",
     "text": [
      "I have a hamster.\n",
      "Myhamster's name is Harry.\n",
      "I have a dog.\n",
      "Mydog's name is Willie.\n"
     ]
    }
   ],
   "source": [
    "def describe_pet(animal_type,pet_name):\n",
    "    \"\"\"显示宠物的信息\"\"\"\n",
    "    print(\"I have a \" +animal_type + \".\")\n",
    "    print(\"My\" + animal_type + \"'s name is \"+pet_name.title()+\".\")\n",
    "describe_pet('hamster','harry')\n",
    "describe_pet('dog','willie')"
   ]
  },
  {
   "cell_type": "markdown",
   "id": "bb76cbd1-39a8-4317-8b61-bcf562d02705",
   "metadata": {},
   "source": [
    "位置实参的顺序很重要，请确保函数调用中实参的顺序与函数定义中形参的顺序一致。"
   ]
  },
  {
   "cell_type": "markdown",
   "id": "41809c29-5e1e-4de9-b84d-bc345c8336b1",
   "metadata": {},
   "source": [
    "<font size=\"3\"> 8.2.2 关键字实参"
   ]
  },
  {
   "cell_type": "markdown",
   "id": "1406b0b0-cb89-4855-b6bc-2a530afa0d91",
   "metadata": {},
   "source": [
    "关键字实参是传递给函数的名称--值对。直接在实参中将名称和值对应。 关键字实参无需考虑函数调用中的实参顺序，还清楚地指出了函数调用中各值的用途。"
   ]
  },
  {
   "cell_type": "code",
   "execution_count": 13,
   "id": "b8694852-8877-4e71-8c85-1a801fd2a6ee",
   "metadata": {},
   "outputs": [
    {
     "name": "stdout",
     "output_type": "stream",
     "text": [
      "I have a hamster.\n",
      "Myhamster's name is Harry.\n"
     ]
    }
   ],
   "source": [
    "def describe_pet(animal_type,pet_name):\n",
    "    \"\"\"显示宠物的信息\"\"\"\n",
    "    print(\"I have a \" +animal_type + \".\")\n",
    "    print(\"My\" + animal_type + \"'s name is \"+pet_name.title()+\".\")\n",
    "describe_pet(animal_type='hamster',pet_name='harry')"
   ]
  },
  {
   "cell_type": "markdown",
   "id": "f56684ca-9778-4f38-8c45-7068bd23b6d3",
   "metadata": {},
   "source": [
    "注意 使用关键字实参时，务必准确指定函数定义中的形参名。"
   ]
  },
  {
   "cell_type": "markdown",
   "id": "3ffb6ed9-fe5e-4f27-8614-035ee457916b",
   "metadata": {},
   "source": [
    "<font size=\"3\"> 8.2.3 默认值"
   ]
  },
  {
   "cell_type": "markdown",
   "id": "50684670-bb78-44ea-9d7d-deafeec243eb",
   "metadata": {},
   "source": [
    "编写函数时，可给每个形参指定默认值。在调用函数中给形参提供了实参时，Python将使用指定的实参值；否则将使用形参的默认值。"
   ]
  },
  {
   "cell_type": "markdown",
   "id": "c7b4db97-7239-45a9-b4ef-7edbc8d17049",
   "metadata": {},
   "source": [
    "使用默认值可以简化函数调用，还可清楚指出函数的典型用法。"
   ]
  },
  {
   "cell_type": "code",
   "execution_count": 18,
   "id": "c63e881d-d631-492d-879c-74a7b7c196d2",
   "metadata": {},
   "outputs": [
    {
     "name": "stdout",
     "output_type": "stream",
     "text": [
      "I have a dog.\n",
      "Mydog's name is Willie.\n"
     ]
    }
   ],
   "source": [
    "def describe_pet(pet_name,animal_type='dog'):\n",
    "    \"\"\"显示宠物的信息\"\"\"\n",
    "    print(\"I have a \" +animal_type + \".\")\n",
    "    print(\"My\" + animal_type + \"'s name is \"+pet_name.title()+\".\")\n",
    "describe_pet(pet_name ='willie')"
   ]
  },
  {
   "cell_type": "markdown",
   "id": "80ec01c6-56c6-40ef-a491-e165955e7a53",
   "metadata": {},
   "source": [
    "注意，在这个函数定义中，修改了形参的排列顺序。由于给animal_type制定了默认值，无需通过实参来指定动物类型。"
   ]
  },
  {
   "cell_type": "markdown",
   "id": "3103a548-869c-4ec8-97e3-8010b3f9e08c",
   "metadata": {},
   "source": [
    "但Python仍然将pet_name视为位置实参，因此如果函数调用只包含宠物名字，这个实参将关联到函数定义中的第一个形参。这就是放开头的原因。"
   ]
  },
  {
   "cell_type": "code",
   "execution_count": 21,
   "id": "611b020d-8732-4bda-8e22-2cd1a4672d4c",
   "metadata": {},
   "outputs": [
    {
     "name": "stdout",
     "output_type": "stream",
     "text": [
      "I have a dog.\n",
      "Mydog's name is Willie.\n"
     ]
    }
   ],
   "source": [
    "def describe_pet(pet_name,animal_type='dog'):\n",
    "    \"\"\"显示宠物的信息\"\"\"\n",
    "    print(\"I have a \" +animal_type + \".\")\n",
    "    print(\"My\" + animal_type + \"'s name is \"+pet_name.title()+\".\")\n",
    "#只提供一个实参 就会关联到函数定义的第一个形参\n",
    "describe_pet('willie')"
   ]
  },
  {
   "cell_type": "markdown",
   "id": "686611b2-dad1-4dd2-a4da-77d1be8b8b2f",
   "metadata": {},
   "source": [
    "当然 如果显式地给animal_type提供实参的话，Python将忽略这个形参的默认值。"
   ]
  },
  {
   "cell_type": "markdown",
   "id": "9336b51e-0b51-48c7-b781-da971482ae1c",
   "metadata": {},
   "source": [
    "<strong> 使用默认值时，在形参列表中必须先列出没有默认值的形参，再列出有默认值的形参，这让Python依然能正确解读位置实参。"
   ]
  },
  {
   "cell_type": "markdown",
   "id": "39341a2e-93aa-454e-a35d-716982db70c5",
   "metadata": {},
   "source": [
    "<font size=\"4\"> 8.3 返回值"
   ]
  },
  {
   "cell_type": "markdown",
   "id": "f00c5d34-a6b3-404c-aa1b-252e595a8696",
   "metadata": {},
   "source": [
    "函数并非总是直接显示输出，相反，它可以处理一些数据，并返回一个或一组值。函数返回的值被称为返回值。\n",
    "\n",
    "在函数中，可以使用return语句将值返回到调用函数的代码块。返回值让人能够将程序的大部分繁重工作移到函数中完成，从而简化主程序。"
   ]
  },
  {
   "cell_type": "markdown",
   "id": "76c80f85-b9fa-4bac-9f96-743a96457a7c",
   "metadata": {},
   "source": [
    "<font size=\"3\"> 8.3.1 返回简单值"
   ]
  },
  {
   "cell_type": "code",
   "execution_count": 2,
   "id": "55105854-50db-49de-85cc-67e5d5961058",
   "metadata": {},
   "outputs": [
    {
     "name": "stdout",
     "output_type": "stream",
     "text": [
      "Jimi Hendrix\n"
     ]
    }
   ],
   "source": [
    "def get_formatted_name(first_name,last_name):\n",
    "    \"\"\"返回整洁的姓名\"\"\"\n",
    "    full_name = first_name +\" \" + last_name\n",
    "    return full_name.title()\n",
    "musician = get_formatted_name('jimi','hendrix')\n",
    "print(musician)"
   ]
  },
  {
   "cell_type": "markdown",
   "id": "bf959ecb-3f79-4063-b7d9-8f07bc6c1f13",
   "metadata": {},
   "source": [
    "<font size=\"3\"> 8.3.2 让实参变成可选的"
   ]
  },
  {
   "cell_type": "markdown",
   "id": "7cd3a216-1461-4472-9315-82c47b68d030",
   "metadata": {},
   "source": [
    "有时候，需要让实参变成可选的，这样使用函数的人就只需在必要时才提供额外的信息。可使用默认值来让实参变成可选的。"
   ]
  },
  {
   "cell_type": "code",
   "execution_count": 7,
   "id": "f983de19-370a-4a4a-b9a8-5f244f1c6f73",
   "metadata": {},
   "outputs": [
    {
     "name": "stdout",
     "output_type": "stream",
     "text": [
      "John hooker lee\n",
      "jjj  eqeqe\n"
     ]
    }
   ],
   "source": [
    "def get_formatted_name(first_name,last_name,middle_name=''):\n",
    "    \"\"\"返回整洁的姓名\"\"\"\n",
    "    full_name = first_name + \" \" +middle_name + \" \" + last_name\n",
    "    return full_name\n",
    "musician = get_formatted_name('John','lee','hooker')\n",
    "boxer = get_formatted_name('jjj','eqeqe')\n",
    "print(musician)\n",
    "print(boxer)"
   ]
  },
  {
   "cell_type": "markdown",
   "id": "c5a70054-3cae-4f52-977e-d6a8ce2a39b4",
   "metadata": {},
   "source": [
    "<font size=\"4\"> 8.3.3 返回字典"
   ]
  },
  {
   "cell_type": "markdown",
   "id": "185e6b31-0ca6-46e7-a046-c3b93671c4f6",
   "metadata": {},
   "source": [
    "函数可返回任何类型的值，包括列表和字典等较复杂的数据结构。"
   ]
  },
  {
   "cell_type": "code",
   "execution_count": 10,
   "id": "47257b5c-3b74-48e8-b171-5eb8fe44c33f",
   "metadata": {},
   "outputs": [
    {
     "name": "stdout",
     "output_type": "stream",
     "text": [
      "{'first': 'jimi', 'last': 'hendrix', 'age': 27}\n"
     ]
    }
   ],
   "source": [
    "def build_person(first_name,last_name,age=\"\"):\n",
    "    \"\"\"返回一个字典，其中包含有关一个人的信息\"\"\"\n",
    "    person = {'first':first_name,'last':last_name}\n",
    "    if age:\n",
    "        person['age'] = age\n",
    "    return person\n",
    "musician = build_person('jimi','hendrix',age=27) \n",
    "print(musician)"
   ]
  },
  {
   "cell_type": "markdown",
   "id": "ee389806-efcf-4e7f-8463-8b4ef04985f0",
   "metadata": {},
   "source": [
    "<font size=\"3\"> 8.3.4 结合使用函数和while循环"
   ]
  },
  {
   "cell_type": "markdown",
   "id": "c32b6260-ae24-4c7c-ba7b-a9c789acc055",
   "metadata": {},
   "source": [
    "可以结合使用函数和while循环。"
   ]
  },
  {
   "cell_type": "code",
   "execution_count": 1,
   "id": "74843849-7a96-4090-afdb-5e1cbdec9bcc",
   "metadata": {},
   "outputs": [
    {
     "name": "stdout",
     "output_type": "stream",
     "text": [
      "Please tell me your name:\n",
      "(enter 'q' at any time to quit)\n"
     ]
    },
    {
     "name": "stdin",
     "output_type": "stream",
     "text": [
      "First_name: er\n",
      "Last name: wrr\n"
     ]
    },
    {
     "name": "stdout",
     "output_type": "stream",
     "text": [
      "Hello,Er Wrr!\n",
      "Please tell me your name:\n",
      "(enter 'q' at any time to quit)\n"
     ]
    },
    {
     "name": "stdin",
     "output_type": "stream",
     "text": [
      "First_name: q\n"
     ]
    }
   ],
   "source": [
    "def get_formatted_name(first_name,last_name):\n",
    "    \"\"\"返回整洁的姓名\"\"\"\n",
    "    full_name = first_name + \" \" +last_name\n",
    "    return full_name.title()\n",
    "while True:\n",
    "    print(\"Please tell me your name:\")\n",
    "    print(\"(enter 'q' at any time to quit)\")\n",
    "    f_name = input(\"First_name:\")\n",
    "    if f_name == 'q':\n",
    "        break\n",
    "    l_name = input(\"Last name:\")\n",
    "    if l_name == 'q':\n",
    "        break\n",
    "    formatted_name = get_formatted_name(f_name,l_name)\n",
    "    print(\"Hello,\" + formatted_name + \"!\")"
   ]
  },
  {
   "cell_type": "markdown",
   "id": "e5ef90b8-baea-4828-91f7-a95abf4f7185",
   "metadata": {},
   "source": [
    "<font size=\"4\"> 8.4 传递列表"
   ]
  },
  {
   "cell_type": "markdown",
   "id": "155d399a-2dc4-4d25-b756-e2c2b82064b7",
   "metadata": {},
   "source": [
    "向函数传递列表很有用，列表包含的可能是名字、数字或者更复杂的对象。将列表传递给函数后，函数就能直接访问相关内容。"
   ]
  },
  {
   "attachments": {},
   "cell_type": "markdown",
   "id": "d85ce511-b262-441a-b47a-eb5e7c9f0119",
   "metadata": {},
   "source": [
    "假设有一个用户列表，我们要问候其中的每位用户。下面的示例将一个名字列表传递给greet_users()函数"
   ]
  },
  {
   "cell_type": "code",
   "execution_count": 5,
   "id": "a3aa5fd2-fe8e-414e-a7bb-3fd72203222e",
   "metadata": {},
   "outputs": [
    {
     "name": "stdout",
     "output_type": "stream",
     "text": [
      "Hello,Hannah!\n",
      "Hello,Ty!\n",
      "Hello,Margot!\n"
     ]
    }
   ],
   "source": [
    "def greet_users(names):\n",
    "    \"\"\"向列表中的每位用户都发出简单的问候\"\"\"\n",
    "    for name in names:\n",
    "        msg = \"Hello,\" + name.title() + \"!\"\n",
    "        print(msg)\n",
    "user_names = ['hannah','ty','margot']\n",
    "greet_users(user_names)"
   ]
  },
  {
   "cell_type": "markdown",
   "id": "5d6d0a59-8777-4762-a02e-1efa84891901",
   "metadata": {},
   "source": [
    "<font size=\"3\"> 8.4.1 在函数中修改列表"
   ]
  },
  {
   "attachments": {},
   "cell_type": "markdown",
   "id": "0c4b3921-7f13-46cd-a95f-2e5178dceb18",
   "metadata": {},
   "source": [
    "将列表传递给函数后，函数就可以对其进行修改。在函数中对这个列表所做的任何修改都是永久性的。"
   ]
  },
  {
   "cell_type": "markdown",
   "id": "f0503fee-95f1-4164-9235-1d3774101a56",
   "metadata": {},
   "source": [
    "我们可以编写两个函数，每个都做一件具体的工作。第一个函数将负责处理打印设计的工作，第二个将概述打印了哪些设计。"
   ]
  },
  {
   "cell_type": "code",
   "execution_count": 14,
   "id": "57e978e5-0f89-4e4f-b736-da45fd24eae7",
   "metadata": {},
   "outputs": [
    {
     "name": "stdout",
     "output_type": "stream",
     "text": [
      "Printing model:dodecahedron\n",
      "Printing model:robot pendant\n",
      "Printing model:iphone case\n",
      "The following models have been printed:\n",
      "dodecahedron\n",
      "robot pendant\n",
      "iphone case\n"
     ]
    }
   ],
   "source": [
    "def print_models(unprinted_designs,completed_models):\n",
    "    \"\"\"模拟打印每个设计，直到没有未打印的设计为止\n",
    "    打印每个设计后，都将其移到列表completed_models中\n",
    "    \"\"\"\n",
    "    while unprinted_designs:\n",
    "        current_design = unprinted_designs.pop()\n",
    "        #模拟根据设计制作3D打印模型的过程\n",
    "        print(\"Printing model:\" + current_design)\n",
    "        completed_models.append(current_design)\n",
    "def show_completed_models(completed_models):\n",
    "    \"\"\"打印设计好的所有模型\"\"\"\n",
    "    print(\"The following models have been printed:\")\n",
    "    for completed_model in completed_models:\n",
    "        print(completed_model)\n",
    "\n",
    "unprinted_designs = ['iphone case','robot pendant','dodecahedron']\n",
    "completed_models = []\n",
    "print_models(unprinted_designs,completed_models)\n",
    "show_completed_models(completed_models)"
   ]
  },
  {
   "cell_type": "markdown",
   "id": "e3f6868e-39a2-4a39-bc8b-9df3616f34fb",
   "metadata": {},
   "source": [
    "<font size=\"3\"> 8.4.2 禁止函数修改列表"
   ]
  },
  {
   "cell_type": "markdown",
   "id": "69f1c0e3-c01f-4b40-aaf3-b347f60ec255",
   "metadata": {},
   "source": [
    "如果想保留原有的列表，不希望其被修改，可以只将列表的副本传递给函数"
   ]
  },
  {
   "cell_type": "code",
   "execution_count": 15,
   "id": "5d13127c-4c82-4f93-b04a-c105c79f8aa0",
   "metadata": {},
   "outputs": [],
   "source": [
    "# function_name(list_name[:])"
   ]
  },
  {
   "cell_type": "markdown",
   "id": "65582d4e-bd26-4d02-97a9-94ce7abdd5b0",
   "metadata": {},
   "source": [
    "切片表示法[:]创建列表的副本，但是如果没有必要的需求的话，还是应该将原始列表传递给函数。让函数使用现成列表可避免花时间和内存创建副本，从而提高效率。"
   ]
  },
  {
   "cell_type": "markdown",
   "id": "ef43cbc4-b1ef-4ea8-b59b-53b32428a54d",
   "metadata": {},
   "source": [
    "<font size=\"3\"> 8.5 传递任意数量的实参"
   ]
  },
  {
   "cell_type": "markdown",
   "id": "7d0fd740-8c78-4a60-aac4-82c698a2f22f",
   "metadata": {},
   "source": [
    "有时候，预先不知道函数需要接受多少个实参，好在Python允许函数从调用语句中收集任意数量的实参。"
   ]
  },
  {
   "cell_type": "markdown",
   "id": "16f78628-3592-4a89-a923-5800e63d147c",
   "metadata": {},
   "source": [
    "比如下面的函数只有一个形参 *toppings 但可以处理任意数量的实参"
   ]
  },
  {
   "cell_type": "code",
   "execution_count": 3,
   "id": "a1833a1c-e7b1-424b-8fc1-273963add1c1",
   "metadata": {},
   "outputs": [
    {
     "name": "stdout",
     "output_type": "stream",
     "text": [
      "('pepperoni',)\n",
      "('mushrooms', 'green peppers', 'extra cheese')\n"
     ]
    }
   ],
   "source": [
    "def make_pizza(*toppings):\n",
    "    \"\"\"打印顾客点的所有配料\"\"\"\n",
    "    print(toppings)\n",
    "make_pizza('pepperoni')\n",
    "make_pizza('mushrooms','green peppers','extra cheese')"
   ]
  },
  {
   "cell_type": "markdown",
   "id": "fce656f4-81c2-4ab2-b22f-1112b2d1f57b",
   "metadata": {},
   "source": [
    "形参名*toppings中的星号让Python创建一个名为toppings的空元祖，并将受到的所有值都封装到这个元组中。"
   ]
  },
  {
   "cell_type": "code",
   "execution_count": 5,
   "id": "5a5ec02e-8903-4e22-a7e1-dd802d598019",
   "metadata": {},
   "outputs": [
    {
     "name": "stdout",
     "output_type": "stream",
     "text": [
      "Making a pizza with the following toppings:\n",
      "-pepperoni\n",
      "Making a pizza with the following toppings:\n",
      "-mushrooms\n",
      "-green peppers\n",
      "-extra cheese\n"
     ]
    }
   ],
   "source": [
    "def make_pizza(*toppings):\n",
    "    \"\"\"概述要制作的比萨\"\"\"\n",
    "    print(\"Making a pizza with the following toppings:\")\n",
    "    for topping in toppings:\n",
    "        print('-' + topping)\n",
    "make_pizza('pepperoni')\n",
    "make_pizza('mushrooms','green peppers','extra cheese')"
   ]
  },
  {
   "cell_type": "markdown",
   "id": "6ed2c502-f390-42a1-9b75-56d0d0002110",
   "metadata": {},
   "source": [
    "<font size=\"3\"> 8.5.1 结合使用位置实参和任意数量实参"
   ]
  },
  {
   "cell_type": "code",
   "execution_count": 6,
   "id": "9913938f-69d6-403f-9347-c4089aa61b72",
   "metadata": {},
   "outputs": [
    {
     "name": "stdout",
     "output_type": "stream",
     "text": [
      "Making a 16-inch pizza with the following toppings:\n",
      "-pepperoni\n",
      "Making a 13-inch pizza with the following toppings:\n",
      "-dawd\n",
      "-wdw\n",
      "-wdff\n"
     ]
    }
   ],
   "source": [
    "def make_pizza(size,*toppings):\n",
    "    \"\"\"概述要制作的比萨\"\"\"\n",
    "    print(\"Making a \" + str(size) + \n",
    "            \"-inch pizza with the following toppings:\")\n",
    "    for topping in toppings:\n",
    "        print(\"-\" + topping)\n",
    "make_pizza(16,'pepperoni')\n",
    "make_pizza(13,'dawd','wdw','wdff')"
   ]
  },
  {
   "cell_type": "markdown",
   "id": "c1978f35-84e8-41d8-bba7-03685e8bdbe7",
   "metadata": {},
   "source": [
    "<font size=\"3\"> 8.5.2 使用任意数量的关键字实参"
   ]
  },
  {
   "cell_type": "markdown",
   "id": "521e6e1f-36e5-4261-a76b-0755cf3eb2e2",
   "metadata": {},
   "source": [
    "有时候，需要接受任意数量的实参，但预先不知道传递给函数的是什么信息。在这种情况下，可将函数编写成能够接受任意数量的键-值对---调用语句提供了多少就接受多少。一个这样的示例是创建用户简介：你知道你将收到有关用户的信息，但不确定是什么信息。"
   ]
  },
  {
   "cell_type": "code",
   "execution_count": 7,
   "id": "27f639dc-66ea-4c9c-be45-7c3f0a174019",
   "metadata": {},
   "outputs": [
    {
     "name": "stdout",
     "output_type": "stream",
     "text": [
      "{'first_name': 'albert', 'last_name': 'einstein', 'location': 'princeton', 'field': 'physics'}\n"
     ]
    }
   ],
   "source": [
    "def build_profile(first,last,**user_info):\n",
    "    \"\"\"创建一个字典，其中包含我们知道的用户的一切\"\"\"\n",
    "    #函数定义要求提供名和姓，同时允许用户根据需要提供任意数量的名称-值对\n",
    "    profile = {}\n",
    "    profile['first_name'] = first\n",
    "    profile['last_name'] = last\n",
    "    for key,value in user_info.items():\n",
    "        profile[key] = value\n",
    "    return profile\n",
    "user_profile = build_profile('albert','einstein',location = 'princeton', field = 'physics')\n",
    "print(user_profile)"
   ]
  },
  {
   "cell_type": "markdown",
   "id": "e1f670b5-d9f6-41bb-a50b-2eb7176e97f2",
   "metadata": {},
   "source": [
    "<font size=\"4\"> 8.6 将函数存储在模块中"
   ]
  },
  {
   "cell_type": "markdown",
   "id": "1c0e2464-f9fc-4fc6-8bbf-de841225b92c",
   "metadata": {},
   "source": [
    "函数的优点是 可以将代码块与主程序分离。通过给函数指定描述性名称，可让主程序更容易理解。可以更近一步，将函数存储在被称为模块的独立文件中，再将模块导入到主程序中。import语句允许在当前运行的程序文件中使用模块中的代码。"
   ]
  },
  {
   "cell_type": "markdown",
   "id": "7aa72f8d-1732-44d8-bb7d-7e68778dd575",
   "metadata": {},
   "source": [
    "通过将函数存储在独立的文件中，可以隐藏程序代码的细节，将重点放在程序的高层逻辑上。这还能让人在众多不同的程序中重用函数。\n",
    "\n",
    "将函数存储在独立文件中后，可与其他程序员共享这些文件而不是整个程序。知道如何导入函数还能让你使用其他程序员编写的函数库。"
   ]
  },
  {
   "cell_type": "markdown",
   "id": "8e2347c7-03c8-4ee9-89d6-79a0b25a13ea",
   "metadata": {},
   "source": [
    "<font size=\"3\"> 8.6.1 导入整个模块"
   ]
  },
  {
   "cell_type": "code",
   "execution_count": 14,
   "id": "bee55f5d-70c3-4ede-8b50-ccc30c5b99b1",
   "metadata": {},
   "outputs": [
    {
     "name": "stdout",
     "output_type": "stream",
     "text": [
      "Making a 16-inch pizza with the following toppings:\n",
      "-pepporoni\n"
     ]
    }
   ],
   "source": [
    "import pizza\n",
    "#我在这个文件所在目录下创建了一个pizza.py的文件\n",
    "#这样就可以使用这个文件下所定义的所有函数\n",
    "# 用法为 module_name.function_name()\n",
    "pizza.make_pizza(16,'pepporoni')"
   ]
  },
  {
   "cell_type": "markdown",
   "id": "e3c7b56b-14cc-4304-b57b-97235825adfd",
   "metadata": {},
   "source": [
    "<font size=\"3\"> 8.6.2 导入特定的函数"
   ]
  },
  {
   "cell_type": "code",
   "execution_count": 15,
   "id": "1bfbed5c-d863-42e5-9577-770233706f56",
   "metadata": {},
   "outputs": [
    {
     "name": "stdout",
     "output_type": "stream",
     "text": [
      "Making a 16-inch pizza with the following toppings:\n",
      "-peeepep\n"
     ]
    }
   ],
   "source": [
    "#也可以只导入文件中的某个函数\n",
    "from pizza import make_pizza\n",
    "make_pizza(16,'peeepep')"
   ]
  },
  {
   "cell_type": "markdown",
   "id": "a04ece46-4894-4423-87e2-e24c1061d15e",
   "metadata": {},
   "source": [
    "<font size=\"3\"> 8.6.3 使用as指定别名"
   ]
  },
  {
   "cell_type": "code",
   "execution_count": 16,
   "id": "d6dbb020-c5e7-4d76-85c7-9f778c1561d7",
   "metadata": {},
   "outputs": [
    {
     "name": "stdout",
     "output_type": "stream",
     "text": [
      "Making a 16-inch pizza with the following toppings:\n",
      "-peeepep\n"
     ]
    }
   ],
   "source": [
    "from pizza import make_pizza as mp\n",
    "mp(16,'peeepep')"
   ]
  },
  {
   "cell_type": "markdown",
   "id": "3a54fdb7-6d5e-449b-a424-0ffee82c9541",
   "metadata": {},
   "source": [
    "当然还可以给模块指定别名 从而更轻松的调用模块中的函数"
   ]
  },
  {
   "cell_type": "code",
   "execution_count": 17,
   "id": "06a623b1-3c61-433c-9a1c-9038dfb53e04",
   "metadata": {},
   "outputs": [
    {
     "name": "stdout",
     "output_type": "stream",
     "text": [
      "Making a 16-inch pizza with the following toppings:\n",
      "-peeepep\n"
     ]
    }
   ],
   "source": [
    "import pizza as p\n",
    "p.make_pizza(16,'peeepep')"
   ]
  },
  {
   "cell_type": "markdown",
   "id": "adf36fb1-7f61-44a7-912b-2cfba9932e60",
   "metadata": {},
   "source": [
    "<font size=\"3\"> 8.6.5 导入模块中的所有函数"
   ]
  },
  {
   "cell_type": "code",
   "execution_count": 19,
   "id": "a62d0fb3-2976-4a88-94c3-c8dbb5fd5a84",
   "metadata": {},
   "outputs": [],
   "source": [
    "from pizza import *"
   ]
  },
  {
   "cell_type": "markdown",
   "id": "6df53d95-bdef-4dc7-a791-233736753ab7",
   "metadata": {},
   "source": [
    "import 语句中的星号让Python将模块pizza中的每个函数都复制到这个程序文件中。由于导入了每个函数，可通过名称来调用函数，而无需使用句点表示法。"
   ]
  },
  {
   "cell_type": "markdown",
   "id": "9736b6ca-dbf6-418a-aab2-76f6390424f5",
   "metadata": {},
   "source": [
    "这种方法其实不建议使用，但放在这里方便以后遇到能理解就好"
   ]
  },
  {
   "cell_type": "code",
   "execution_count": null,
   "id": "2e6e512e-795e-45e0-af13-b15f997133db",
   "metadata": {},
   "outputs": [],
   "source": []
  }
 ],
 "metadata": {
  "kernelspec": {
   "display_name": "Python 3 (ipykernel)",
   "language": "python",
   "name": "python3"
  },
  "language_info": {
   "codemirror_mode": {
    "name": "ipython",
    "version": 3
   },
   "file_extension": ".py",
   "mimetype": "text/x-python",
   "name": "python",
   "nbconvert_exporter": "python",
   "pygments_lexer": "ipython3",
   "version": "3.9.9"
  },
  "widgets": {
   "application/vnd.jupyter.widget-state+json": {
    "state": {},
    "version_major": 2,
    "version_minor": 0
   }
  }
 },
 "nbformat": 4,
 "nbformat_minor": 5
}
