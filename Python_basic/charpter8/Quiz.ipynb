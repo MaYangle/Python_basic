{
 "cells": [
  {
   "cell_type": "markdown",
   "id": "9dc10727-cb51-409e-a974-897ac2641354",
   "metadata": {},
   "source": [
    "<font size=\"4\"> 8-1 "
   ]
  },
  {
   "cell_type": "code",
   "execution_count": 2,
   "id": "6dd765de-afdb-42b3-a524-ed222febd833",
   "metadata": {},
   "outputs": [
    {
     "name": "stdout",
     "output_type": "stream",
     "text": [
      "You learne function this section\n"
     ]
    }
   ],
   "source": [
    "def display():\n",
    "    print(\"You learne function this section\")\n",
    "display()"
   ]
  },
  {
   "cell_type": "markdown",
   "id": "be3f22ad-4c20-4ffe-96bd-2382b331a5f3",
   "metadata": {},
   "source": [
    "<font size=\"4\"> 8-2"
   ]
  },
  {
   "cell_type": "code",
   "execution_count": 5,
   "id": "06f4fb5a-557e-4263-96bc-ea6b67564536",
   "metadata": {},
   "outputs": [
    {
     "name": "stdout",
     "output_type": "stream",
     "text": [
      "One of my favorite books is Three Body\n"
     ]
    }
   ],
   "source": [
    "def favorite_book(title):\n",
    "    print(\"One of my favorite books is \" + title.title())\n",
    "favorite_book(\"three body\")"
   ]
  },
  {
   "cell_type": "markdown",
   "id": "b9d8fe6c-b4c3-457d-95ec-2dfac187ab72",
   "metadata": {},
   "source": [
    "<font size=\"4\"> 8-3"
   ]
  },
  {
   "cell_type": "code",
   "execution_count": 4,
   "id": "a6ae8816-8864-44ef-88c5-ef13e24b0726",
   "metadata": {},
   "outputs": [
    {
     "name": "stdout",
     "output_type": "stream",
     "text": [
      "You cloth's size 16 and the words on it are dingzhen\n",
      "You cloth's size 16 and the words on it are dingzhen\n"
     ]
    }
   ],
   "source": [
    "def make_shirt(size,word):\n",
    "    print(\"You cloth's size \" + str(size) + \" and the words on it are \" +word)\n",
    "make_shirt(16,'dingzhen')\n",
    "make_shirt(size=16,word=\"dingzhen\")"
   ]
  },
  {
   "cell_type": "markdown",
   "id": "6f1420be-68f5-4235-a0b0-a9b4bbe6eaec",
   "metadata": {},
   "source": [
    "<font size=\"4\"> 8-4"
   ]
  },
  {
   "cell_type": "code",
   "execution_count": 7,
   "id": "cf7168e0-d2a6-4626-8060-f1e2242e9292",
   "metadata": {},
   "outputs": [
    {
     "name": "stdout",
     "output_type": "stream",
     "text": [
      "You cloth's size big and the words on it are I love Python\n",
      "You cloth's size middle and the words on it are I love Python\n",
      "You cloth's size 16 and the words on it are dingzhen\n"
     ]
    }
   ],
   "source": [
    "def make_shirt(size=\"big\",word=\"I love Python\"):\n",
    "    print(\"You cloth's size \" + str(size) + \" and the words on it are \" +word)\n",
    "make_shirt()\n",
    "make_shirt(size=\"middle\")\n",
    "make_shirt(size=16,word=\"dingzhen\")"
   ]
  },
  {
   "cell_type": "markdown",
   "id": "477884dd-63f7-4c1c-839b-115f95c69e6e",
   "metadata": {},
   "source": [
    "<font size=\"4\"> 8-5"
   ]
  },
  {
   "cell_type": "code",
   "execution_count": 10,
   "id": "c8a6a845-1b47-44ab-b956-74f211fb2ff4",
   "metadata": {},
   "outputs": [
    {
     "name": "stdout",
     "output_type": "stream",
     "text": [
      "xianyang is in china\n",
      "Helsinki is in Finland\n",
      "Reykjavik is in Iceland\n"
     ]
    }
   ],
   "source": [
    "def describe(name=\"Reykjavik\",country=\"Iceland\"):\n",
    "    print(name + \" is in \" + country)\n",
    "describe(\"xianyang\",\"china\")\n",
    "describe(\"Helsinki\",\"Finland\")\n",
    "describe()"
   ]
  },
  {
   "cell_type": "markdown",
   "id": "1a502d07-0a7e-46a7-93d6-f65566af4d72",
   "metadata": {},
   "source": [
    "<font size=\"4\"> 8-6"
   ]
  },
  {
   "cell_type": "code",
   "execution_count": 6,
   "id": "016ae7ec-7766-4eab-bdde-73d65fed69b2",
   "metadata": {},
   "outputs": [
    {
     "name": "stdout",
     "output_type": "stream",
     "text": [
      "Sabtiago,Chile\n",
      "shanbei,Chile\n",
      "c,y\n"
     ]
    }
   ],
   "source": [
    "def city_country(name='Sabtiago',country='Chile'):\n",
    "    name.title()\n",
    "    country.title()\n",
    "    print(name + ','+ country)\n",
    "city_country()\n",
    "city_country(\"shanbei\")\n",
    "city_country('c','y')"
   ]
  },
  {
   "cell_type": "markdown",
   "id": "c0e34aed-11b3-4288-a900-04747cb1f4b0",
   "metadata": {},
   "source": [
    "<font size=\"4\"> 8-7"
   ]
  },
  {
   "cell_type": "code",
   "execution_count": 13,
   "id": "c8e25887-a881-4191-be2a-b2b7151e2e72",
   "metadata": {},
   "outputs": [
    {
     "data": {
      "text/plain": [
       "{'Singer': 'ds', 'Album': 'dsdw', 'Number': 16}"
      ]
     },
     "execution_count": 13,
     "metadata": {},
     "output_type": "execute_result"
    }
   ],
   "source": [
    "def make_album(singer_name,album_name,number=\"\"):\n",
    "    dic = {\"Singer\":singer_name,\"Album\":album_name,\"Number\":number}\n",
    "    return dic\n",
    "make_album(\"c\",\"v\")\n",
    "make_album(\"ds\",\"dsdw\",number=16)"
   ]
  },
  {
   "cell_type": "markdown",
   "id": "5b63be40-94a7-4615-b9b8-bdcd4ac1e46a",
   "metadata": {},
   "source": [
    "<font size=\"4\"> 8-8 "
   ]
  },
  {
   "cell_type": "code",
   "execution_count": 17,
   "id": "af4f9290-45b8-4c4c-b7d6-3e394902657c",
   "metadata": {},
   "outputs": [
    {
     "name": "stdout",
     "output_type": "stream",
     "text": [
      "you can press 'q' to quit\n"
     ]
    },
    {
     "name": "stdin",
     "output_type": "stream",
     "text": [
      "What's your favorite singer? dwd\n",
      "What's the name of the album? wdw\n"
     ]
    },
    {
     "name": "stdout",
     "output_type": "stream",
     "text": [
      "{'Singer': 'dwd', 'Album': 'wdw', 'Number': ''}\n",
      "you can press 'q' to quit\n"
     ]
    },
    {
     "name": "stdin",
     "output_type": "stream",
     "text": [
      "What's your favorite singer? q\n"
     ]
    }
   ],
   "source": [
    "def make_album(singer_name,album_name,number=\"\"):\n",
    "    dic = {\"Singer\":singer_name,\"Album\":album_name,\"Number\":number}\n",
    "    return dic\n",
    "while True:\n",
    "    print(\"you can press 'q' to quit\")\n",
    "    singer_name = input(\"What's your favorite singer?\")\n",
    "    if singer_name == 'q':\n",
    "        break\n",
    "    album_name = input(\"What's the name of the album?\")\n",
    "    if album_name == 'q':\n",
    "        break\n",
    "    print(make_album(singer_name,album_name))"
   ]
  },
  {
   "cell_type": "markdown",
   "id": "c62f4070-d1f6-4dd5-9413-90e705849c01",
   "metadata": {},
   "source": [
    "<font size=\"4\"> 8-9"
   ]
  },
  {
   "cell_type": "code",
   "execution_count": 18,
   "id": "07fb628a-8d72-4aa5-8280-1e4507e87cdf",
   "metadata": {},
   "outputs": [],
   "source": [
    "def show_magicians(magicians):\n",
    "    for magician in magicians:\n",
    "        print(magician.title())"
   ]
  },
  {
   "cell_type": "markdown",
   "id": "ff363e80-8b03-4310-bf79-c747008b5763",
   "metadata": {},
   "source": [
    "<font size=\"4\"> 8-10"
   ]
  },
  {
   "cell_type": "code",
   "execution_count": 20,
   "id": "15d0e50b-eab7-4013-8c26-06cc658e4032",
   "metadata": {},
   "outputs": [
    {
     "name": "stdout",
     "output_type": "stream",
     "text": [
      "['the Great dddd', 'the Great fwa']\n"
     ]
    }
   ],
   "source": [
    "def make_great(magicians):\n",
    "    for i in range(len(magicians)):\n",
    "        #用索引的方式来修改对应的值\n",
    "        magicians[i] = \"the Great \" + magicians[i]\n",
    "\n",
    "magicians = ['dddd', 'fwa']\n",
    "make_great(magicians)\n",
    "print(magicians)"
   ]
  },
  {
   "cell_type": "code",
   "execution_count": 22,
   "id": "f68122ae-008f-419e-86e3-deb15cd88d15",
   "metadata": {},
   "outputs": [
    {
     "name": "stdout",
     "output_type": "stream",
     "text": [
      "['the Great dddd', 'the Great fwa']\n"
     ]
    }
   ],
   "source": [
    "def make_great(magicians):\n",
    "    great_magicians = []\n",
    "    for magician in magicians:\n",
    "        #创立一个新列表 并且返回\n",
    "        great_magician = \"the Great \" + magician\n",
    "        great_magicians.append(great_magician)\n",
    "    return great_magicians\n",
    "\n",
    "magicians = ['dddd', 'fwa']\n",
    "magicians = make_great(magicians)\n",
    "print(magicians)"
   ]
  },
  {
   "cell_type": "markdown",
   "id": "703228dd-c97b-4b17-b657-8a613d209454",
   "metadata": {},
   "source": [
    "<font size=\"4\"> 8-11"
   ]
  },
  {
   "cell_type": "code",
   "execution_count": 25,
   "id": "d9226c37-408f-4f39-914d-0d1427ab9e7e",
   "metadata": {},
   "outputs": [
    {
     "name": "stdout",
     "output_type": "stream",
     "text": [
      "['the Great dddd', 'the Great fwa']\n",
      "['dddd', 'fwa']\n"
     ]
    }
   ],
   "source": [
    "def make_great(magicians_copy):\n",
    "    great_magicians = []\n",
    "    for i in range(len(magicians_copy)):\n",
    "        # 用索引的方式来修改对应的值\n",
    "        magicians_copy[i] = \"the Great \" + magicians_copy[i]\n",
    "        great_magicians.append(magicians_copy[i])\n",
    "    return great_magicians\n",
    "\n",
    "magicians = ['dddd', 'fwa']\n",
    "great_magicians = make_great(magicians[:])\n",
    "print(great_magicians)\n",
    "print(magicians)"
   ]
  },
  {
   "cell_type": "markdown",
   "id": "8bc94efc-bf20-4ef7-bdee-73c93ee69787",
   "metadata": {},
   "source": [
    "<font size=\"4\"> 8-12"
   ]
  },
  {
   "cell_type": "code",
   "execution_count": 4,
   "id": "7b99c5f0-e7b5-4dce-87b7-5ec7229a1b39",
   "metadata": {},
   "outputs": [
    {
     "name": "stdout",
     "output_type": "stream",
     "text": [
      "we added the following things in pizza:dw\n",
      "we added the following things in pizza:wda\n",
      "we added the following things in pizza:wddaw\n"
     ]
    }
   ],
   "source": [
    "def add_gradient(*foods):\n",
    "    for food in foods:\n",
    "        print(\"we added the following things in pizza:\" + food)\n",
    "add_gradient('dw')\n",
    "add_gradient('wda','wddaw')"
   ]
  },
  {
   "cell_type": "markdown",
   "id": "004bc587-a856-473f-b6ed-dca8421b65bc",
   "metadata": {},
   "source": [
    "<font size=\"3\"> 8-13"
   ]
  },
  {
   "cell_type": "code",
   "execution_count": 5,
   "id": "6ab901ea-7315-49d0-adb4-e987eed3faf5",
   "metadata": {},
   "outputs": [
    {
     "name": "stdout",
     "output_type": "stream",
     "text": [
      "{'first_name': 'albert', 'last_name': 'einstein', 'location': 'princeton', 'field': 'physics'}\n"
     ]
    }
   ],
   "source": [
    "def build_profile(first,last,**user_info):\n",
    "    \"\"\"创建一个字典，其中包含我们知道的用户的一切\"\"\"\n",
    "    #函数定义要求提供名和姓，同时允许用户根据需要提供任意数量的名称-值对\n",
    "    profile = {}\n",
    "    profile['first_name'] = first\n",
    "    profile['last_name'] = last\n",
    "    for key,value in user_info.items():\n",
    "        profile[key] = value\n",
    "    return profile\n",
    "user_profile = build_profile('albert','einstein',location = 'princeton', field = 'physics')\n",
    "print(user_profile)"
   ]
  },
  {
   "cell_type": "markdown",
   "id": "93b34d8b-a38b-4b06-a5ab-27b6ba2615a0",
   "metadata": {},
   "source": [
    "<font size=\"3\"> 8-14"
   ]
  },
  {
   "cell_type": "code",
   "execution_count": 9,
   "id": "71f0bfa4-0b48-4899-8041-17707db0a9d6",
   "metadata": {},
   "outputs": [
    {
     "name": "stdout",
     "output_type": "stream",
     "text": [
      "{'manufacturing': 'subaru', 'style': 'outback', 'color': 'blue', 'tow_package': True}\n"
     ]
    }
   ],
   "source": [
    "def make_car(manufacturing,style,**infos):\n",
    "    cars = {}\n",
    "    cars['manufacturing'] = manufacturing\n",
    "    cars['style'] = style\n",
    "    for k,v in infos.items():\n",
    "        cars[k] = v\n",
    "    return print(cars)\n",
    "car = make_car('subaru','outback',color='blue',tow_package = True)"
   ]
  },
  {
   "cell_type": "markdown",
   "id": "67d7226c-7be9-4afa-b545-2dcef9c357de",
   "metadata": {},
   "source": [
    "<strong>剩下的导入quiz 我懒得写，问题不大。 </strong>"
   ]
  },
  {
   "cell_type": "code",
   "execution_count": null,
   "id": "d2314155-972c-4933-8266-ad955e3bd8ae",
   "metadata": {},
   "outputs": [],
   "source": []
  }
 ],
 "metadata": {
  "kernelspec": {
   "display_name": "Python 3 (ipykernel)",
   "language": "python",
   "name": "python3"
  },
  "language_info": {
   "codemirror_mode": {
    "name": "ipython",
    "version": 3
   },
   "file_extension": ".py",
   "mimetype": "text/x-python",
   "name": "python",
   "nbconvert_exporter": "python",
   "pygments_lexer": "ipython3",
   "version": "3.9.9"
  },
  "widgets": {
   "application/vnd.jupyter.widget-state+json": {
    "state": {},
    "version_major": 2,
    "version_minor": 0
   }
  }
 },
 "nbformat": 4,
 "nbformat_minor": 5
}
