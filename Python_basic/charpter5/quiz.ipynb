{
 "cells": [
  {
   "cell_type": "markdown",
   "id": "84616ac5-99f5-4998-8323-6cb1075dd949",
   "metadata": {},
   "source": [
    "<font size='4'> 5.1-5.2 条件测试"
   ]
  },
  {
   "cell_type": "markdown",
   "id": "de076021-4c83-479f-b1b1-56f6def754bd",
   "metadata": {},
   "source": [
    "我觉得没什么好测试的，跳过这个部分。"
   ]
  },
  {
   "cell_type": "markdown",
   "id": "fcfb4e7a-4fb5-459b-8273-a6c9e7d7e1ca",
   "metadata": {},
   "source": [
    "<font size=\"4\"> 5.3 外星人颜色"
   ]
  },
  {
   "cell_type": "code",
   "execution_count": 3,
   "id": "1f3e6ddd-84b7-40d7-b4fe-68d198cec505",
   "metadata": {},
   "outputs": [
    {
     "name": "stdout",
     "output_type": "stream",
     "text": [
      "The user gets 5 points.\n"
     ]
    }
   ],
   "source": [
    "alien_color = 'green'\n",
    "if alien_color == 'green':\n",
    "    print(\"The user gets 5 points.\")"
   ]
  },
  {
   "cell_type": "code",
   "execution_count": 4,
   "id": "791738bc-c374-4ca0-8d6c-1fc82772c72e",
   "metadata": {},
   "outputs": [],
   "source": [
    "alien_color = 'green'\n",
    "if alien_color == 'red':\n",
    "    print(\"The user gets 5 points.\")"
   ]
  },
  {
   "cell_type": "code",
   "execution_count": 5,
   "id": "fd4a5ff4-53f9-401a-90de-2eff41dcdebd",
   "metadata": {},
   "outputs": [
    {
     "name": "stdout",
     "output_type": "stream",
     "text": [
      "The user gets 15 points.\n"
     ]
    }
   ],
   "source": [
    "alien_color = 'yellow'\n",
    "if alien_color == 'green':\n",
    "    print(\"The user gets 5 points.\")\n",
    "elif alien_color == 'red':\n",
    "    print(\"The user gets 10 points.\")\n",
    "elif alien_color == 'yellow':\n",
    "    print(\"The user gets 15 points.\")"
   ]
  },
  {
   "cell_type": "markdown",
   "id": "4804e789-c0c5-4b58-8b04-f944116982ba",
   "metadata": {},
   "source": [
    "<font size='4'> 5.5 人生"
   ]
  },
  {
   "cell_type": "code",
   "execution_count": 8,
   "id": "66563840-5ddc-4ac2-aa50-fe16c0ec8bc1",
   "metadata": {},
   "outputs": [
    {
     "name": "stdout",
     "output_type": "stream",
     "text": [
      "The stage of the guy is teenager\n"
     ]
    }
   ],
   "source": [
    "age = 13\n",
    "if age<2:\n",
    "    stage = 'baby'\n",
    "elif age<4:\n",
    "    stage = 'walk'\n",
    "elif age<13:\n",
    "    stage = 'child'\n",
    "elif age<20:\n",
    "    stage = 'teenager'\n",
    "elif age<65:\n",
    "    stage = 'adult'\n",
    "else:\n",
    "    stage = 'elder'\n",
    "print(\"The stage of the guy is \" + stage)"
   ]
  },
  {
   "cell_type": "markdown",
   "id": "203a2178-9103-4204-a358-95abcb2076cc",
   "metadata": {},
   "source": [
    "<font size='4'> 5.7 喜欢的水果"
   ]
  },
  {
   "cell_type": "code",
   "execution_count": 11,
   "id": "322ce306-7099-4a26-9808-347088d52cd2",
   "metadata": {},
   "outputs": [
    {
     "name": "stdout",
     "output_type": "stream",
     "text": [
      "Apple is editable\n"
     ]
    }
   ],
   "source": [
    "favorite_fruits = ['banana','apple','grapes','orange']\n",
    "if 'apple' in favorite_fruits:\n",
    "    print(\"Apple is editable\")"
   ]
  },
  {
   "cell_type": "markdown",
   "id": "df596f27-d214-46cf-ae6f-310db3ca1290",
   "metadata": {},
   "source": [
    "懒得接着打了，基本上是一个意思。"
   ]
  },
  {
   "cell_type": "markdown",
   "id": "c426cead-5fb3-4025-9420-d43bf38aa98b",
   "metadata": {},
   "source": [
    "<font size='4'> 5.8-5.9 管理员"
   ]
  },
  {
   "cell_type": "code",
   "execution_count": 23,
   "id": "e09eacf3-9ea2-4948-81bd-52a4051d9be5",
   "metadata": {},
   "outputs": [
    {
     "name": "stdout",
     "output_type": "stream",
     "text": [
      "We need to find some users!\n"
     ]
    }
   ],
   "source": [
    "#users = ['admin','memor','biber','dingzhen','wangyuan']\n",
    "users = []\n",
    "if not users:\n",
    "        print(\"We need to find some users!\")\n",
    "else:\n",
    "    for user in users:\n",
    "        if user=='admin':\n",
    "            print(\"Hello admin,would you like to see a status report?\")\n",
    "        else:\n",
    "            print(\"Hello Eric,thank you for logging in again\")"
   ]
  },
  {
   "cell_type": "markdown",
   "id": "5eaa6a52-e96f-4d50-af06-7f3d2c6e83cb",
   "metadata": {},
   "source": [
    "<font size=\"4\"> 5.10 检查用户名"
   ]
  },
  {
   "cell_type": "code",
   "execution_count": 26,
   "id": "02534415-7bd4-4971-b2b6-407fee8ad314",
   "metadata": {},
   "outputs": [
    {
     "name": "stdout",
     "output_type": "stream",
     "text": [
      "memor, you need to find a new name!\n",
      "Biber, you need to find a new name!\n",
      " You can use this name!\n",
      " You can use this name!\n"
     ]
    }
   ],
   "source": [
    "current_users = ['admin','memor','biber','dingzhen','wangyuan']\n",
    "new_users = ['memor','Biber','wangwnag','shagua']\n",
    "for user in new_users:\n",
    "    if user.lower() in current_users:\n",
    "        print(user + \", you need to find a new name!\")\n",
    "    else:\n",
    "        print(\" You can use this name!\")"
   ]
  },
  {
   "cell_type": "markdown",
   "id": "105fa385-bfa4-4a6e-bec3-427982b212f0",
   "metadata": {},
   "source": [
    "<font size='4'> 5.11 序数\n"
   ]
  },
  {
   "cell_type": "code",
   "execution_count": 30,
   "id": "a4545b97-c20a-4823-893e-843f20eb1272",
   "metadata": {},
   "outputs": [
    {
     "name": "stdout",
     "output_type": "stream",
     "text": [
      "1th\n",
      "2th\n",
      "3th\n",
      "4th\n",
      "5th\n",
      "6th\n",
      "7th\n",
      "8th\n",
      "9th\n"
     ]
    }
   ],
   "source": [
    "numbers = list(range(1,10))\n",
    "for number in numbers:\n",
    "    print(str(number) + \"th\" )"
   ]
  },
  {
   "cell_type": "code",
   "execution_count": null,
   "id": "f8f2908c-7d02-42ed-88da-f0e240fc8b4f",
   "metadata": {},
   "outputs": [],
   "source": [
    "\n",
    "\n"
   ]
  }
 ],
 "metadata": {
  "kernelspec": {
   "display_name": "Python 3 (ipykernel)",
   "language": "python",
   "name": "python3"
  },
  "language_info": {
   "codemirror_mode": {
    "name": "ipython",
    "version": 3
   },
   "file_extension": ".py",
   "mimetype": "text/x-python",
   "name": "python",
   "nbconvert_exporter": "python",
   "pygments_lexer": "ipython3",
   "version": "3.9.9"
  },
  "widgets": {
   "application/vnd.jupyter.widget-state+json": {
    "state": {},
    "version_major": 2,
    "version_minor": 0
   }
  }
 },
 "nbformat": 4,
 "nbformat_minor": 5
}
