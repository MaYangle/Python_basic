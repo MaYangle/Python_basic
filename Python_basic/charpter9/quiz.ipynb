{
 "cells": [
  {
   "cell_type": "markdown",
   "id": "ce5bb1a0-b221-46f8-9881-0b8b83bf066f",
   "metadata": {},
   "source": [
    "<font size=\"4\"> 9-1"
   ]
  },
  {
   "cell_type": "code",
   "execution_count": 9,
   "id": "5c4da542-c401-4f5d-8245-0c35369dfaea",
   "metadata": {},
   "outputs": [
    {
     "name": "stdout",
     "output_type": "stream",
     "text": [
      "The name of the restaurant is Dwd\n",
      "The type of cuisine is WDDW\n",
      "The restaurant is opening\n"
     ]
    }
   ],
   "source": [
    "class Restaurant():\n",
    "    \"\"\"模拟一个餐厅\"\"\"\n",
    "    def __init__(self,name,cuisine_type):\n",
    "        self.name = name\n",
    "        self.type = cuisine_type\n",
    "    def describe_restaurant(self):\n",
    "        print(\"The name of the restaurant is \" + self.name.title())\n",
    "        print(\"The type of cuisine is \" + self.type)\n",
    "    def open_restaurant(self):\n",
    "        print(\"The restaurant is opening\")\n",
    "\n",
    "\n",
    "\n",
    "dwd = Restaurant(\"dwd\",'WDDW')\n",
    "dwd.describe_restaurant()\n",
    "dwd.open_restaurant()"
   ]
  },
  {
   "cell_type": "markdown",
   "id": "c8fb94f3-6f2a-4528-8fa1-bf1f2981a75d",
   "metadata": {},
   "source": [
    "<font size=\"4\"> 9-2 "
   ]
  },
  {
   "cell_type": "markdown",
   "id": "7808bc9e-c67c-4853-8eef-642b23b4f0b1",
   "metadata": {},
   "source": [
    "略过\n",
    "    "
   ]
  },
  {
   "cell_type": "markdown",
   "id": "bfa1d25a-b382-458a-a6af-1a706356fd4c",
   "metadata": {},
   "source": [
    "<font size=\"4\"> 9-3"
   ]
  },
  {
   "cell_type": "code",
   "execution_count": 13,
   "id": "3c240c53-57a3-4bbd-8b7a-1f71238ca600",
   "metadata": {},
   "outputs": [
    {
     "name": "stdout",
     "output_type": "stream",
     "text": [
      "The name of the user is Dick Long\n"
     ]
    }
   ],
   "source": [
    "class User():\n",
    "    def __init__(self,first_name,last_name):\n",
    "        self.name = first_name\n",
    "        self.name1 = last_name\n",
    "    def describe_user(self):\n",
    "        print(\"The name of the user is \"  + self.name.title() +\" \" +self.name1.title())\n",
    "\n",
    "a = User('dick','long')\n",
    "a.describe_user()"
   ]
  },
  {
   "cell_type": "markdown",
   "id": "3e9f538d-eda5-4a3d-a4c9-055505b983f3",
   "metadata": {},
   "source": [
    "<font size=\"4\"> 9-4"
   ]
  },
  {
   "cell_type": "code",
   "execution_count": 9,
   "id": "fb6006a1-e2cc-4cbe-90c5-9dc10cfef75b",
   "metadata": {},
   "outputs": [
    {
     "name": "stdout",
     "output_type": "stream",
     "text": [
      "The number served of restaurant is 11\n",
      "The number served of restaurant is 1000\n",
      "The number served of restaurant is 2000\n"
     ]
    }
   ],
   "source": [
    "class Restaurant():\n",
    "    \"\"\"模拟一个餐厅\"\"\"\n",
    "    def __init__(self,name,cuisine_type):\n",
    "        self.name = name\n",
    "        self.type = cuisine_type\n",
    "        self.number_served = 11\n",
    "    def describe_restaurant(self):\n",
    "        print(\"The name of the restaurant is \" + self.name.title())\n",
    "        print(\"The type of cuisine is \" + self.type)\n",
    "    def open_restaurant(self):\n",
    "        print(\"The restaurant is opening\")\n",
    "    def set_number_served(self,number):\n",
    "        self.number_served = number\n",
    "    def increment_number_served(self,number):\n",
    "        self.number_served += number\n",
    "\n",
    "a =  Restaurant(\"11\",\"cake\")\n",
    "print(\"The number served of restaurant is \" + str(a.number_served)) \n",
    "a.set_number_served(1000)\n",
    "print(\"The number served of restaurant is \" + str(a.number_served)) \n",
    "a.increment_number_served(1000)\n",
    "print(\"The number served of restaurant is \" + str(a.number_served)) "
   ]
  },
  {
   "cell_type": "markdown",
   "id": "6eb672b8-d724-4624-9482-150026895ad9",
   "metadata": {},
   "source": [
    "<font size=\"4\"> 9-5"
   ]
  },
  {
   "cell_type": "code",
   "execution_count": 12,
   "id": "09f8fcc1-0762-4774-afb8-28d5d6b40a73",
   "metadata": {},
   "outputs": [
    {
     "name": "stdout",
     "output_type": "stream",
     "text": [
      "The name of the user is Dick Long\n",
      "10\n",
      "0\n"
     ]
    }
   ],
   "source": [
    "class User():\n",
    "    def __init__(self,first_name,last_name):\n",
    "        self.name = first_name\n",
    "        self.name1 = last_name\n",
    "        self.login_attempts = 0\n",
    "    def describe_user(self):\n",
    "        print(\"The name of the user is \"  + self.name.title() +\" \" +self.name1.title())\n",
    "    def increment_login_attempts(self):\n",
    "        self.login_attempts += 1\n",
    "    def reset_login_attempts(self):\n",
    "        self.login_attempts = 0\n",
    "        \n",
    "a = User('dick','long')\n",
    "a.describe_user()\n",
    "for i in range(10):\n",
    "    a.increment_login_attempts()\n",
    "print(a.login_attempts)\n",
    "a.reset_login_attempts()\n",
    "print(a.login_attempts)"
   ]
  },
  {
   "cell_type": "markdown",
   "id": "4b25ab45-aa5a-41a0-993e-35fc7d04c1c4",
   "metadata": {},
   "source": [
    "<font size=\"4\"> 9-6"
   ]
  },
  {
   "cell_type": "code",
   "execution_count": 19,
   "id": "f02fae67-59c3-4fd8-9472-f5b9ee9e6228",
   "metadata": {},
   "outputs": [
    {
     "name": "stdout",
     "output_type": "stream",
     "text": [
      "The name of the restaurant is A\n",
      "The type of cuisine is wdew\n",
      "['ddaw', 'wdaw', 'dwa']\n"
     ]
    }
   ],
   "source": [
    "class Restaurant():\n",
    "    \"\"\"模拟一个餐厅\"\"\"\n",
    "    def __init__(self,name,cuisine_type):\n",
    "        self.name = name\n",
    "        self.type = cuisine_type\n",
    "        self.number_served = 11\n",
    "    def describe_restaurant(self):\n",
    "        print(\"The name of the restaurant is \" + self.name.title())\n",
    "        print(\"The type of cuisine is \" + self.type)\n",
    "    def open_restaurant(self):\n",
    "        print(\"The restaurant is opening\")\n",
    "    def set_number_served(self,number):\n",
    "        self.number_served = number\n",
    "    def increment_number_served(self,number):\n",
    "        self.number_served += number\n",
    "\n",
    "class IceCreamStand(Restaurant):\n",
    "    \"\"\"描述冰激凌店的不同\"\"\"\n",
    "    def __init__(self,name,cuisine_type,flavors):\n",
    "        super().__init__(name,cuisine_type)\n",
    "        self.flavors = flavors\n",
    "    def describe_flavors(self):\n",
    "        print([flavor for flavor in self.flavors])\n",
    "\n",
    "Icecream = IceCreamStand('a','wdew',['ddaw','wdaw','dwa'])\n",
    "Icecream.describe_restaurant()\n",
    "Icecream.describe_flavors()"
   ]
  },
  {
   "cell_type": "markdown",
   "id": "0b0a3f52-4778-4a84-8e0b-b2f5c2f9b3b6",
   "metadata": {},
   "source": [
    "<font size=\"4\"> 9-7"
   ]
  },
  {
   "cell_type": "code",
   "execution_count": 9,
   "id": "1eb00891-310d-46c1-ba9d-41efcf447f92",
   "metadata": {},
   "outputs": [
    {
     "name": "stdout",
     "output_type": "stream",
     "text": [
      "The name of the user is Da Fe\n",
      "Privileges:\n",
      "- fa\n",
      "- ge\n",
      "- rg\n"
     ]
    }
   ],
   "source": [
    "class User():\n",
    "    def __init__(self,first_name,last_name):\n",
    "        self.name = first_name\n",
    "        self.name1 = last_name\n",
    "        self.login_attempts = 0\n",
    "    def describe_user(self):\n",
    "        print(\"The name of the user is \"  + self.name.title() +\" \" +self.name1.title())\n",
    "    def increment_login_attempts(self):\n",
    "        self.login_attempts += 1\n",
    "    def reset_login_attempts(self):\n",
    "        self.login_attempts = 0\n",
    "\n",
    "class Admin(User):\n",
    "    def __init__(self,first_name,last_name,privileges):\n",
    "        super().__init__(first_name,last_name)\n",
    "        self.privileges = privileges\n",
    "    def show_privileges(self):\n",
    "        print(\"Privileges:\")\n",
    "        for privilege in self.privileges:\n",
    "            print(\"- \" + privilege)\n",
    "\n",
    "Admin1 = Admin(\"da\",\"fe\",['fa','ge','rg'])\n",
    "Admin1.describe_user()\n",
    "Admin1.show_privileges()"
   ]
  },
  {
   "cell_type": "markdown",
   "id": "02771a3c-2e65-4ddd-888c-da30dedd9615",
   "metadata": {},
   "source": [
    "<font size=\"4\"> 9-8"
   ]
  },
  {
   "cell_type": "code",
   "execution_count": 14,
   "id": "81296191-aa90-4f8b-a0ef-bf9845ddc676",
   "metadata": {},
   "outputs": [
    {
     "name": "stdout",
     "output_type": "stream",
     "text": [
      "The name of the user is Da Fe\n",
      "Privileges:\n",
      "- fa\n",
      "- ge\n",
      "- rg\n"
     ]
    }
   ],
   "source": [
    "class User():\n",
    "    def __init__(self,first_name,last_name):\n",
    "        self.name = first_name\n",
    "        self.name1 = last_name\n",
    "        self.login_attempts = 0\n",
    "    def describe_user(self):\n",
    "        print(\"The name of the user is \"  + self.name.title() +\" \" +self.name1.title())\n",
    "    def increment_login_attempts(self):\n",
    "        self.login_attempts += 1\n",
    "    def reset_login_attempts(self):\n",
    "        self.login_attempts = 0\n",
    "        \n",
    "class Privileges():\n",
    "    def __init__(self,privileges):\n",
    "        self.privileges = privileges\n",
    "    def show_privileges(self):\n",
    "        print(\"Privileges:\")\n",
    "        for privilege in self.privileges:\n",
    "            print(\"- \" + privilege)\n",
    "\n",
    "class Admin(User):\n",
    "    def __init__(self,first_name,last_name,privileges):\n",
    "        super().__init__(first_name,last_name)\n",
    "        self.Privileges = Privileges(privileges)\n",
    "\n",
    "\n",
    "Admin1 = Admin(\"da\",\"fe\",['fa','ge','rg'])\n",
    "Admin1.describe_user()\n",
    "Admin1.Privileges.show_privileges()"
   ]
  },
  {
   "cell_type": "markdown",
   "id": "7711ecf8-4c5c-4812-b20f-e5a89f51780b",
   "metadata": {},
   "source": [
    "<font size=\"4\"> 9-9"
   ]
  },
  {
   "cell_type": "code",
   "execution_count": 17,
   "id": "aa969ada-3a53-49b9-8bbe-69ed534a71c3",
   "metadata": {},
   "outputs": [
    {
     "name": "stdout",
     "output_type": "stream",
     "text": [
      "2016 Tesla Model S\n",
      "This car has a 70-kWh battery.\n",
      " This car can go approximately 240 miles on a full charge.\n",
      " This car can go approximately 270 miles on a full charge.\n"
     ]
    }
   ],
   "source": [
    "class Car():\n",
    "    \"\"\"一次模拟汽车的简单尝试\"\"\"\n",
    "    def __init__(self,make,model,year):\n",
    "        \"\"\"初始化描述汽车的属性\"\"\"\n",
    "        self.make = make\n",
    "        self.model = model\n",
    "        self.year = year\n",
    "        self.odometer_reading = 0 #设置了一个里程 用来读数\n",
    "    def get_descriptive_name(self):\n",
    "        \"\"\"返回整洁的描述性信息\"\"\"\n",
    "        long_name = str(self.year) + \" \" +self.make + ' ' +self.model\n",
    "        return long_name.title()\n",
    "    def read_odometer(self):\n",
    "        \"\"\"打印出一条指向汽车里程的信息\"\"\"\n",
    "        print(\"This car has \" + str(self.odometer_reading) + \" miles on it.\")\n",
    "    def update_odometer(self,mileage):\n",
    "        \"\"\"将里程表读数设置为指定的值\"\"\"\n",
    "        #可对方法update进行扩展，防止有人将读书往回调\n",
    "        if mileage >= self.odometer_reading:\n",
    "            self.odometer_reading = mileage\n",
    "        else:\n",
    "            print(\"You can't roll back in odometer!\")\n",
    "    def increment_odometer(self,miles):\n",
    "        \"\"\"将里程表读数增加特定的值\"\"\"\n",
    "        self.odometer_reading += miles\n",
    "    \n",
    "class Battery():  #定义了一个新类\n",
    "    \"\"\"模拟电动车汽车电瓶的简单尝试\"\"\"\n",
    "    def __init__(self,battery=70):\n",
    "        \"\"\"初始化电瓶的属性\"\"\"\n",
    "        self.battery_size = battery\n",
    "    def describe_battery(self):\n",
    "        \"\"\"打印一条描述电瓶容量的信息\"\"\"\n",
    "        print(\"This car has a \" +str(self.battery_size) + \"-kWh battery.\")\n",
    "    def get_range(self):\n",
    "        \"\"\"打印一条信息 指出电瓶的续航里程\"\"\"\n",
    "        if self.battery_size == 70:\n",
    "            range = 240\n",
    "        elif self.battery_size == 85:\n",
    "            range = 270\n",
    "        message = \" This car can go approximately \" + str(range)\n",
    "        message += \" miles on a full charge.\"\n",
    "        print(message)\n",
    "    def update_battery(self):\n",
    "        if self.battery_size != 85:\n",
    "            self.battery_size = 85\n",
    "        \n",
    "class ElectricalCar(Car):\n",
    "    \"\"\"电动车\"\"\"\n",
    "    def __init__(self,make,model,year): #1\n",
    "        \"\"\"初始化父类的属性\"\"\"\n",
    "        super().__init__(make,model,year) #2\n",
    "        self.battery = Battery()  #创建了一个新的Battery实例 并且存储在属性self.battery中。\n",
    "        \n",
    "    def increment_odometer(self,miles):\n",
    "        \"\"\"修改一下\"\"\"\n",
    "        self.odometer_reading += 0.98*miles\n",
    "\n",
    "my_tesla = ElectricalCar('tesla','model s',2016)\n",
    "print(my_tesla.get_descriptive_name())\n",
    "my_tesla.battery.describe_battery()\n",
    "my_tesla.battery.get_range()\n",
    "my_tesla.battery.update_battery()\n",
    "my_tesla.battery.get_range()"
   ]
  },
  {
   "cell_type": "markdown",
   "id": "3ba54434-102e-473c-9d8d-70c35645ece1",
   "metadata": {},
   "source": [
    "<font size=\"4\"> 9-10"
   ]
  },
  {
   "cell_type": "code",
   "execution_count": 19,
   "id": "e51f5fb9-3792-4acd-8ee2-c6c0eaacf9ee",
   "metadata": {},
   "outputs": [
    {
     "name": "stdout",
     "output_type": "stream",
     "text": [
      "The name of the restaurant is Da\n",
      "The type of cuisine is fa\n",
      "The restaurant is opening\n"
     ]
    }
   ],
   "source": [
    "from restaurant import Restaurant\n",
    "s = Restaurant('da','fa')\n",
    "s.describe_restaurant()\n",
    "s.open_restaurant()"
   ]
  },
  {
   "cell_type": "markdown",
   "id": "390b2b72-c5b8-4fc4-8805-1a512f32b9bc",
   "metadata": {},
   "source": [
    "只示范一个 9-11 9-12 基本上是一个道理"
   ]
  },
  {
   "cell_type": "markdown",
   "id": "6847640a-fc7e-4a5f-9cd1-c943b834e64d",
   "metadata": {},
   "source": [
    "<font size=\"4\"> 9-13"
   ]
  },
  {
   "cell_type": "markdown",
   "id": "0280f83e-1c10-4fce-b850-0cfcd1e9526c",
   "metadata": {},
   "source": [
    "略过"
   ]
  },
  {
   "cell_type": "markdown",
   "id": "50bb3920-e8f7-4adb-beab-f1ab5d2a9a83",
   "metadata": {},
   "source": [
    "<font size=\"4\"> 9-14"
   ]
  },
  {
   "cell_type": "code",
   "execution_count": 29,
   "id": "184e33f7-836e-4ae7-ac95-e208ae01a9b8",
   "metadata": {},
   "outputs": [
    {
     "name": "stdout",
     "output_type": "stream",
     "text": [
      "6\n",
      "3\n",
      "2\n",
      "2\n",
      "1\n",
      "3\n"
     ]
    }
   ],
   "source": [
    "from random import randint\n",
    "\n",
    "class Die():\n",
    "    def __init__(self, sides=6):\n",
    "        self.sides = sides\n",
    "\n",
    "    def roll_die(self):\n",
    "        print(str(randint(1, self.sides)))\n",
    "\n",
    "b = Die()\n",
    "for i in range(10):\n",
    "    b.roll_die()"
   ]
  },
  {
   "cell_type": "code",
   "execution_count": 32,
   "id": "21f60108-fb23-464d-896c-168b0d568cf2",
   "metadata": {},
   "outputs": [
    {
     "name": "stdout",
     "output_type": "stream",
     "text": [
      "8\n",
      "6\n",
      "5\n",
      "1\n",
      "3\n",
      "6\n",
      "2\n",
      "5\n",
      "10\n",
      "6\n"
     ]
    }
   ],
   "source": [
    "a = Die(10)\n",
    "for i in range(10):\n",
    "    a.roll_die()"
   ]
  },
  {
   "cell_type": "code",
   "execution_count": 31,
   "id": "46e84af1-053d-4504-a2db-23eded052f47",
   "metadata": {},
   "outputs": [
    {
     "name": "stdout",
     "output_type": "stream",
     "text": [
      "15\n",
      "5\n",
      "5\n",
      "16\n",
      "18\n",
      "5\n",
      "17\n",
      "9\n",
      "6\n",
      "17\n"
     ]
    }
   ],
   "source": [
    "C = Die(20)\n",
    "for i in range(10):\n",
    "    C.roll_die()"
   ]
  },
  {
   "cell_type": "code",
   "execution_count": null,
   "id": "e4b4b497-0cf1-499b-b20d-0bb2dd05c195",
   "metadata": {},
   "outputs": [],
   "source": []
  }
 ],
 "metadata": {
  "kernelspec": {
   "display_name": "Python 3 (ipykernel)",
   "language": "python",
   "name": "python3"
  },
  "language_info": {
   "codemirror_mode": {
    "name": "ipython",
    "version": 3
   },
   "file_extension": ".py",
   "mimetype": "text/x-python",
   "name": "python",
   "nbconvert_exporter": "python",
   "pygments_lexer": "ipython3",
   "version": "3.9.9"
  },
  "widgets": {
   "application/vnd.jupyter.widget-state+json": {
    "state": {},
    "version_major": 2,
    "version_minor": 0
   }
  }
 },
 "nbformat": 4,
 "nbformat_minor": 5
}
