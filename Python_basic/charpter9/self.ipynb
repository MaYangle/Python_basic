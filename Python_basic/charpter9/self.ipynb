{
 "cells": [
  {
   "cell_type": "markdown",
   "id": "e5e5c8b2-8604-4b4b-b650-00687f76ae14",
   "metadata": {},
   "source": [
    "<font size=\"5\"> 第9章 类"
   ]
  },
  {
   "cell_type": "markdown",
   "id": "d2a07e2c-d4ad-49b5-8145-2fb470bbc5c7",
   "metadata": {},
   "source": [
    "面向对象编程是最有效的软件编写方法之一。在面向对象编程中，编写表示现实世界中的事物和情景的类，并基于这些类来创建对象。"
   ]
  },
  {
   "cell_type": "markdown",
   "id": "caece7ae-b83c-4a75-aaac-7964f3e4f1d0",
   "metadata": {},
   "source": [
    "编写类时，定义一大类对象都有的通用行为，然后可以根据需要赋予每个对象独特的个性。"
   ]
  },
  {
   "cell_type": "markdown",
   "id": "c852c1f1-f96c-49b4-9615-e6a4f0943ffc",
   "metadata": {},
   "source": [
    "根据类来创建对象被称为实例化，这让人能够使用类的实例。"
   ]
  },
  {
   "cell_type": "markdown",
   "id": "9dbe5193-9157-48ef-a83c-b771d4c8dd86",
   "metadata": {},
   "source": [
    "<font size=\"4\"> 9.1 创建和使用类"
   ]
  },
  {
   "cell_type": "markdown",
   "id": "b3bfa550-65bd-42d0-aa68-014a6c4e6d06",
   "metadata": {},
   "source": [
    "类几乎可以模拟任何东西。下面来编写一个表示小狗的简单类Dog，绝大多数小狗都有名字和年龄以及会蹲下和打滚。也就是两种信息和两种行为。"
   ]
  },
  {
   "cell_type": "markdown",
   "id": "cf6eb0b7-c1d5-46ed-9463-6918d7a11cb5",
   "metadata": {},
   "source": [
    "<font size=\"3\"> 9.1.1 创建Dog类"
   ]
  },
  {
   "cell_type": "code",
   "execution_count": 4,
   "id": "2b23562b-a31a-4ed6-98e6-894f5385da64",
   "metadata": {},
   "outputs": [],
   "source": [
    "class Dog():\n",
    "    \"\"\"一次模拟小狗的简单尝试\"\"\"\n",
    "    def __init__(self,name,age):\n",
    "        self.name = name\n",
    "        self.age = age\n",
    "    def sit(self):\n",
    "        \"\"\"模拟小狗被命令时蹲下\"\"\"\n",
    "        print(self.name.title() + \"is now sitting.\")\n",
    "    def roll_over(self):\n",
    "        \"\"\"模拟小狗被命令时打滚\"\"\"\n",
    "        print(self.name.title() + \"rolled over!\")"
   ]
  },
  {
   "cell_type": "markdown",
   "id": "689766d5-bf5f-4261-acf8-747663d80a39",
   "metadata": {},
   "source": [
    "1.方法__init__()\n",
    "\n",
    "类中的函数称为方法; __init__()是一个特殊的方法，每当根据Dog类创建新实例时，Python就会自动运行它。这个方法的名称中，开头和末尾各有两个下划线，为了避免Python默认方法和普通方法发生冲突。"
   ]
  },
  {
   "cell_type": "markdown",
   "id": "a9b4c6ce-17cd-485b-8512-3ab3536fd5bf",
   "metadata": {},
   "source": [
    "我们将方法__init__()定义成了包含三个形参：self、name和age。在这个方法的定义中，形参self必不可少，还必须位于其他形参的前面。"
   ]
  },
  {
   "cell_type": "markdown",
   "id": "b4d4fff3-c1a9-49ba-9a55-c083112c5f7d",
   "metadata": {},
   "source": [
    "Python调用这个__init__()方法来创建Dog实例时，将会自动传入实参self。每个与类相关联的方法调用都会自动传递实参self，它是一个指向实例本身的引用，让实例能够访问类中的属性和方法。"
   ]
  },
  {
   "cell_type": "markdown",
   "id": "66c2a5e8-b55f-4e26-9309-894f8327f9c5",
   "metadata": {},
   "source": [
    "<font size=\"3\"> 9.1.2 根据类创建实例"
   ]
  },
  {
   "cell_type": "markdown",
   "id": "424c5f8a-92c7-4b44-a5c7-b4cdbd6936d3",
   "metadata": {},
   "source": [
    "可将类视为有关如何创建实例的说明。"
   ]
  },
  {
   "cell_type": "code",
   "execution_count": 10,
   "id": "e441d76b-ed17-4755-9656-04d6c5a5b096",
   "metadata": {},
   "outputs": [
    {
     "name": "stdout",
     "output_type": "stream",
     "text": [
      "My dog's name is Willle.\n",
      "My dog is 6 years old \n"
     ]
    }
   ],
   "source": [
    "class Dog():\n",
    "    \"\"\"一次模拟小狗的简单尝试\"\"\"\n",
    "    def __init__(self,name,age):\n",
    "        self.name = name\n",
    "        self.age = age\n",
    "    def sit(self):\n",
    "        \"\"\"模拟小狗被命令时蹲下\"\"\"\n",
    "        print(self.name.title() + \"is now sitting.\")\n",
    "    def roll_over(self):\n",
    "        \"\"\"模拟小狗被命令时打滚\"\"\"\n",
    "        print(self.name.title() + \" rolled over!\")\n",
    "\n",
    "my_dog = Dog('willle',6)\n",
    "print(\"My dog's name is \" + my_dog.name.title() + \".\")\n",
    "print(\"My dog is \"+str(my_dog.age) +\" years old \")"
   ]
  },
  {
   "cell_type": "markdown",
   "id": "7730757b-6014-4d29-b106-c0ce76a93021",
   "metadata": {},
   "source": [
    "通常可以认为首字母大写的名称指的是类，而小写的名称指的是根据类创建的实例。"
   ]
  },
  {
   "cell_type": "code",
   "execution_count": 11,
   "id": "7cee8ef3-b659-4319-b759-d979c5f625ca",
   "metadata": {},
   "outputs": [
    {
     "name": "stdout",
     "output_type": "stream",
     "text": [
      "Willleis now sitting.\n",
      "Willle rolled over!\n"
     ]
    }
   ],
   "source": [
    "#使用句点表示法来调用Dog类中定义的任何方法\n",
    "my_dog.sit()\n",
    "my_dog.roll_over()"
   ]
  },
  {
   "cell_type": "markdown",
   "id": "8f115aac-4d51-49e5-b535-3725fc62dff0",
   "metadata": {},
   "source": [
    "<font size=\"4\"> 9.2 使用类和实例"
   ]
  },
  {
   "cell_type": "markdown",
   "id": "05d88212-fdd7-49eb-b882-566e9309a956",
   "metadata": {},
   "source": [
    "类编写好后，大部分时间都将花在使用根据类创建的实例上。\n",
    "\n",
    "需要知道如何修改实例的属性。"
   ]
  },
  {
   "cell_type": "markdown",
   "id": "adac5506-8c59-4dda-aa6b-56162d24c5ac",
   "metadata": {},
   "source": [
    "<font size=\"3\"> 9.2.1 Car类"
   ]
  },
  {
   "cell_type": "code",
   "execution_count": 20,
   "id": "0cd8e57b-c707-420e-88e3-7bf663da980b",
   "metadata": {},
   "outputs": [
    {
     "name": "stdout",
     "output_type": "stream",
     "text": [
      "2016 Audi A4\n",
      "This car has 0 miles on it.\n"
     ]
    }
   ],
   "source": [
    "class Car():\n",
    "    \"\"\"一次模拟汽车的简单尝试\"\"\"\n",
    "    def __init__(self,make,model,year):\n",
    "        \"\"\"初始化描述汽车的属性\"\"\"\n",
    "        self.make = make\n",
    "        self.model = model\n",
    "        self.year = year\n",
    "        self.odometer_reading = 0 #设置了一个里程 用来读数\n",
    "    def get_descriptive_name(self):\n",
    "        \"\"\"返回整洁的描述性信息\"\"\"\n",
    "        long_name = str(self.year) + \" \" +self.make + ' ' +self.model\n",
    "        return long_name.title()\n",
    "    def read_odometer(self):\n",
    "        \"\"\"打印出一条指向汽车里程的信息\"\"\"\n",
    "        print(\"This car has \" + str(self.odometer_reading) + \" miles on it.\")\n",
    "        \n",
    "my_new_car = Car('audi','a4',2016)\n",
    "print(my_new_car.get_descriptive_name())\n",
    "my_new_car.read_odometer()"
   ]
  },
  {
   "cell_type": "markdown",
   "id": "88a91dd1-2580-491c-893b-2341c66fd2c7",
   "metadata": {},
   "source": [
    "<font size=\"3\"> 9.2.3 修改属性的值"
   ]
  },
  {
   "cell_type": "markdown",
   "id": "b17cc708-15f4-48ec-8ec1-0421cdac9c13",
   "metadata": {},
   "source": [
    "可以用三种不同的方式来修改属性的值： 直接通过实例进行修改；通过方法进行设置；通过方法进行递增（增加特定的值）"
   ]
  },
  {
   "cell_type": "markdown",
   "id": "760207ee-5b16-4d21-9e94-9e397c9a7be2",
   "metadata": {},
   "source": [
    "    1.直接修改属性的值"
   ]
  },
  {
   "cell_type": "markdown",
   "id": "ff631bc3-6564-4bc9-b18c-3f77282e39ef",
   "metadata": {},
   "source": [
    "要修改属性的值，最简单的方式是通过实例直接访问相关属性。"
   ]
  },
  {
   "cell_type": "code",
   "execution_count": 22,
   "id": "1ff8c493-6fec-4a07-a7de-a8a5e662efbc",
   "metadata": {},
   "outputs": [
    {
     "name": "stdout",
     "output_type": "stream",
     "text": [
      "This car has 23 miles on it.\n"
     ]
    }
   ],
   "source": [
    "my_new_car.odometer_reading = 23\n",
    "my_new_car.read_odometer()"
   ]
  },
  {
   "cell_type": "markdown",
   "id": "5aa10c65-bc99-4c1e-976b-a3ed6a662674",
   "metadata": {},
   "source": [
    "有时候需要像这样访问属性，但其他时候需要编写对属性进行更新的方法。"
   ]
  },
  {
   "cell_type": "markdown",
   "id": "19590459-3768-42b0-a180-8cf925626a94",
   "metadata": {},
   "source": [
    "    2.通过方法修改属性的值"
   ]
  },
  {
   "cell_type": "markdown",
   "id": "d9258993-e02c-4631-ad98-20b3a2d04b67",
   "metadata": {},
   "source": [
    "如果有替你更新属性的方法，这样就无需直接访问属性，而可将值传递给一个方法，由它在内部进行更新。"
   ]
  },
  {
   "cell_type": "code",
   "execution_count": 28,
   "id": "c179a4fa-06a4-4c1c-9494-aade3fa927ba",
   "metadata": {},
   "outputs": [
    {
     "name": "stdout",
     "output_type": "stream",
     "text": [
      "2016 Audi A4\n",
      "You can't roll back in odometer!\n",
      "This car has 23 miles on it.\n"
     ]
    }
   ],
   "source": [
    "class Car():\n",
    "    \"\"\"一次模拟汽车的简单尝试\"\"\"\n",
    "    def __init__(self,make,model,year):\n",
    "        \"\"\"初始化描述汽车的属性\"\"\"\n",
    "        self.make = make\n",
    "        self.model = model\n",
    "        self.year = year\n",
    "        self.odometer_reading = 0 #设置了一个里程 用来读数\n",
    "    def get_descriptive_name(self):\n",
    "        \"\"\"返回整洁的描述性信息\"\"\"\n",
    "        long_name = str(self.year) + \" \" +self.make + ' ' +self.model\n",
    "        return long_name.title()\n",
    "    def read_odometer(self):\n",
    "        \"\"\"打印出一条指向汽车里程的信息\"\"\"\n",
    "        print(\"This car has \" + str(self.odometer_reading) + \" miles on it.\")\n",
    "    def update_odometer(self,mileage):\n",
    "        \"\"\"将里程表读数设置为指定的值\"\"\"\n",
    "        #可对方法update进行扩展，防止有人将读书往回调\n",
    "        if mileage >= self.odometer_reading:\n",
    "            self.odometer_reading = mileage\n",
    "        else:\n",
    "            print(\"You can't roll back in odometer!\")\n",
    "\n",
    "my_new_car = Car('audi','a4',2016)\n",
    "print(my_new_car.get_descriptive_name())\n",
    "my_new_car.update_odometer(23)\n",
    "my_new_car.update_odometer(18)\n",
    "my_new_car.read_odometer()"
   ]
  },
  {
   "cell_type": "markdown",
   "id": "65431980-6e3e-4346-b578-3c7d730328de",
   "metadata": {},
   "source": [
    "    3.通过方法对属性进行递增"
   ]
  },
  {
   "cell_type": "markdown",
   "id": "ed3f0caa-4208-43cd-b2e2-7acbd51c804f",
   "metadata": {},
   "source": [
    "有时候需要将属性值递增特定的量，而不是将其设置为全新的值。"
   ]
  },
  {
   "cell_type": "code",
   "execution_count": 30,
   "id": "ee80f318-ae59-4138-a33e-7b068cf21661",
   "metadata": {},
   "outputs": [
    {
     "name": "stdout",
     "output_type": "stream",
     "text": [
      "2013 Audi A4\n",
      "This car has 23500 miles on it.\n",
      "This car has 23600 miles on it.\n"
     ]
    }
   ],
   "source": [
    "class Car():\n",
    "    \"\"\"一次模拟汽车的简单尝试\"\"\"\n",
    "    def __init__(self,make,model,year):\n",
    "        \"\"\"初始化描述汽车的属性\"\"\"\n",
    "        self.make = make\n",
    "        self.model = model\n",
    "        self.year = year\n",
    "        self.odometer_reading = 0 #设置了一个里程 用来读数\n",
    "    def get_descriptive_name(self):\n",
    "        \"\"\"返回整洁的描述性信息\"\"\"\n",
    "        long_name = str(self.year) + \" \" +self.make + ' ' +self.model\n",
    "        return long_name.title()\n",
    "    def read_odometer(self):\n",
    "        \"\"\"打印出一条指向汽车里程的信息\"\"\"\n",
    "        print(\"This car has \" + str(self.odometer_reading) + \" miles on it.\")\n",
    "    def update_odometer(self,mileage):\n",
    "        \"\"\"将里程表读数设置为指定的值\"\"\"\n",
    "        #可对方法update进行扩展，防止有人将读书往回调\n",
    "        if mileage >= self.odometer_reading:\n",
    "            self.odometer_reading = mileage\n",
    "        else:\n",
    "            print(\"You can't roll back in odometer!\")\n",
    "    def increment_odometer(self,miles):\n",
    "        \"\"\"将里程表读数增加特定的值\"\"\"\n",
    "        self.odometer_reading += miles\n",
    "\n",
    "my_used_car = Car('audi','a4',2013)\n",
    "print(my_used_car.get_descriptive_name())\n",
    "my_used_car.update_odometer(23500)\n",
    "my_used_car.read_odometer()\n",
    "my_used_car.increment_odometer(100)\n",
    "my_used_car.read_odometer()"
   ]
  },
  {
   "cell_type": "markdown",
   "id": "ee7dfabc-7c0a-4c61-995c-bb6162640729",
   "metadata": {},
   "source": [
    "<font size=\"4\"> 9.3 继承"
   ]
  },
  {
   "cell_type": "markdown",
   "id": "a0a278c9-db43-4a3a-9d67-96b7d7ba20ff",
   "metadata": {},
   "source": [
    "编写类时，并非总要从空白开始。如果要编写的类时另一个现成类的特殊版本，可以使用继承。一个类继承另一个类时，它将自动获得另一个类的所有属性和方法;"
   ]
  },
  {
   "cell_type": "markdown",
   "id": "8999cc0e-6b2c-45a5-a58f-ed96f0b79345",
   "metadata": {},
   "source": [
    "原有的类称为父类，而新类称为子类。子类继承了其父类的所有属性和方法，同时还可以定义自己的属性和方法。"
   ]
  },
  {
   "cell_type": "markdown",
   "id": "24827e43-a5c1-4bea-9f03-7f963a6493c6",
   "metadata": {},
   "source": [
    "<font size=\"3\"> 9.3.1 子类的方法__init__()"
   ]
  },
  {
   "cell_type": "markdown",
   "id": "84039db3-4ddd-4061-a805-cbe32781a894",
   "metadata": {},
   "source": [
    "创建子类的实例时，Python首先需要完成的任务是给父类的所以属性赋值。"
   ]
  },
  {
   "cell_type": "markdown",
   "id": "0391f16b-5462-4c3d-8a3d-10b024865191",
   "metadata": {},
   "source": [
    "假如我们要模拟电动汽车，就可以在汽车的基础上模拟"
   ]
  },
  {
   "cell_type": "code",
   "execution_count": 3,
   "id": "8c89faee-19f6-449a-b0ae-a737b755b622",
   "metadata": {},
   "outputs": [
    {
     "name": "stdout",
     "output_type": "stream",
     "text": [
      "2016 Tesla Model S\n"
     ]
    }
   ],
   "source": [
    "class Car():\n",
    "    \"\"\"一次模拟汽车的简单尝试\"\"\"\n",
    "    def __init__(self,make,model,year):\n",
    "        \"\"\"初始化描述汽车的属性\"\"\"\n",
    "        self.make = make\n",
    "        self.model = model\n",
    "        self.year = year\n",
    "        self.odometer_reading = 0 #设置了一个里程 用来读数\n",
    "    def get_descriptive_name(self):\n",
    "        \"\"\"返回整洁的描述性信息\"\"\"\n",
    "        long_name = str(self.year) + \" \" +self.make + ' ' +self.model\n",
    "        return long_name.title()\n",
    "    def read_odometer(self):\n",
    "        \"\"\"打印出一条指向汽车里程的信息\"\"\"\n",
    "        print(\"This car has \" + str(self.odometer_reading) + \" miles on it.\")\n",
    "    def update_odometer(self,mileage):\n",
    "        \"\"\"将里程表读数设置为指定的值\"\"\"\n",
    "        #可对方法update进行扩展，防止有人将读书往回调\n",
    "        if mileage >= self.odometer_reading:\n",
    "            self.odometer_reading = mileage\n",
    "        else:\n",
    "            print(\"You can't roll back in odometer!\")\n",
    "    def increment_odometer(self,miles):\n",
    "        \"\"\"将里程表读数增加特定的值\"\"\"\n",
    "        self.odometer_reading += miles\n",
    "\n",
    "class ElectricalCar(Car):\n",
    "    \"\"\"电动车\"\"\"\n",
    "    def __init__(self,make,model,year): #1\n",
    "        \"\"\"初始化父类的属性\"\"\"\n",
    "        super().__init__(make,model,year) #2\n",
    "\n",
    "my_tesla = ElectricalCar('tesla','model s',2016)\n",
    "print(my_tesla.get_descriptive_name())"
   ]
  },
  {
   "cell_type": "markdown",
   "id": "eb790f44-17ff-4629-b72a-c4c1a8006a76",
   "metadata": {},
   "source": [
    "创建子类时，父类必须包含在当前文件中，且位于子类前面。"
   ]
  },
  {
   "cell_type": "markdown",
   "id": "4ce65354-3b05-4ea7-a28f-51533eac4ffb",
   "metadata": {},
   "source": [
    "定义子类时，必须在括号内指定父类的名称。方法 #1 处 __init__()接受创建Car实例所需的信息 方法#2处的super是个特殊函数，帮助Python将父类和子类关联起来。"
   ]
  },
  {
   "cell_type": "markdown",
   "id": "b5acf678-c242-4403-a5f8-eaef8f163e89",
   "metadata": {},
   "source": [
    "这行代码让Python调用ElectricalCar的父类的方法__init__()，让ElectricalCar实例包含父类的所有属性。"
   ]
  },
  {
   "cell_type": "markdown",
   "id": "ec973cf1-f5b6-48c7-b11b-6f2f9101d873",
   "metadata": {},
   "source": [
    "<font size=\"3\"> 9.3.3 给子类定义属性和方法"
   ]
  },
  {
   "cell_type": "markdown",
   "id": "1eb042ae-4a1a-4d4d-bbb4-b8906df4355b",
   "metadata": {},
   "source": [
    "让一个类继承另一个类后，可添加区分子类和父类所需的新属性和方法。"
   ]
  },
  {
   "cell_type": "markdown",
   "id": "cec89976-9714-4412-a566-ff4cec8e11d6",
   "metadata": {},
   "source": [
    "下面添加电动汽车特有的属性（电瓶），以及一个描述该属性的方法。"
   ]
  },
  {
   "cell_type": "code",
   "execution_count": 8,
   "id": "751cf34b-d9cf-4836-9963-9743a2d378ac",
   "metadata": {},
   "outputs": [
    {
     "name": "stdout",
     "output_type": "stream",
     "text": [
      "2016 Tesla Model S\n",
      "This car has a 70-kWh battery.\n"
     ]
    }
   ],
   "source": [
    "class Car():\n",
    "    \"\"\"一次模拟汽车的简单尝试\"\"\"\n",
    "    def __init__(self,make,model,year):\n",
    "        \"\"\"初始化描述汽车的属性\"\"\"\n",
    "        self.make = make\n",
    "        self.model = model\n",
    "        self.year = year\n",
    "        self.odometer_reading = 0 #设置了一个里程 用来读数\n",
    "    def get_descriptive_name(self):\n",
    "        \"\"\"返回整洁的描述性信息\"\"\"\n",
    "        long_name = str(self.year) + \" \" +self.make + ' ' +self.model\n",
    "        return long_name.title()\n",
    "    def read_odometer(self):\n",
    "        \"\"\"打印出一条指向汽车里程的信息\"\"\"\n",
    "        print(\"This car has \" + str(self.odometer_reading) + \" miles on it.\")\n",
    "    def update_odometer(self,mileage):\n",
    "        \"\"\"将里程表读数设置为指定的值\"\"\"\n",
    "        #可对方法update进行扩展，防止有人将读书往回调\n",
    "        if mileage >= self.odometer_reading:\n",
    "            self.odometer_reading = mileage\n",
    "        else:\n",
    "            print(\"You can't roll back in odometer!\")\n",
    "    def increment_odometer(self,miles):\n",
    "        \"\"\"将里程表读数增加特定的值\"\"\"\n",
    "        self.odometer_reading += miles\n",
    "\n",
    "class ElectricalCar(Car):\n",
    "    \"\"\"电动车\"\"\"\n",
    "    def __init__(self,make,model,year): #1\n",
    "        \"\"\"初始化父类的属性\"\"\"\n",
    "        super().__init__(make,model,year) #2\n",
    "        self.battery_size = 70\n",
    "    def describe_battery(self):\n",
    "        \"\"\"打印一条描述电瓶容量的信息\"\"\"\n",
    "        print(\"This car has a \" +str(self.battery_size) + \"-kWh battery.\")\n",
    "        \n",
    "my_tesla = ElectricalCar('tesla','model s',2016)\n",
    "print(my_tesla.get_descriptive_name())\n",
    "my_tesla.describe_battery()"
   ]
  },
  {
   "cell_type": "markdown",
   "id": "10f01655-c453-4f43-a2ea-d5673ad53875",
   "metadata": {},
   "source": [
    "<font size=\"3\"> 9.3.4 重写父类的方法"
   ]
  },
  {
   "cell_type": "markdown",
   "id": "fccdfb74-6232-4899-bd6a-6a9b320a07e3",
   "metadata": {},
   "source": [
    "对于父类的方法，可以在子类中定义一个同名的方法，这样Python将不会考虑这个父类方法，而只关注你在子类中定义的相同方法。"
   ]
  },
  {
   "cell_type": "code",
   "execution_count": 10,
   "id": "249f57e7-6cb9-4438-a309-3dd29918b81f",
   "metadata": {},
   "outputs": [
    {
     "name": "stdout",
     "output_type": "stream",
     "text": [
      "2016 Tesla Model S\n",
      "This car has 0 miles on it.\n",
      "This car has 980.0 miles on it.\n"
     ]
    }
   ],
   "source": [
    "class Car():\n",
    "    \"\"\"一次模拟汽车的简单尝试\"\"\"\n",
    "    def __init__(self,make,model,year):\n",
    "        \"\"\"初始化描述汽车的属性\"\"\"\n",
    "        self.make = make\n",
    "        self.model = model\n",
    "        self.year = year\n",
    "        self.odometer_reading = 0 #设置了一个里程 用来读数\n",
    "    def get_descriptive_name(self):\n",
    "        \"\"\"返回整洁的描述性信息\"\"\"\n",
    "        long_name = str(self.year) + \" \" +self.make + ' ' +self.model\n",
    "        return long_name.title()\n",
    "    def read_odometer(self):\n",
    "        \"\"\"打印出一条指向汽车里程的信息\"\"\"\n",
    "        print(\"This car has \" + str(self.odometer_reading) + \" miles on it.\")\n",
    "    def update_odometer(self,mileage):\n",
    "        \"\"\"将里程表读数设置为指定的值\"\"\"\n",
    "        #可对方法update进行扩展，防止有人将读书往回调\n",
    "        if mileage >= self.odometer_reading:\n",
    "            self.odometer_reading = mileage\n",
    "        else:\n",
    "            print(\"You can't roll back in odometer!\")\n",
    "    def increment_odometer(self,miles):\n",
    "        \"\"\"将里程表读数增加特定的值\"\"\"\n",
    "        self.odometer_reading += miles\n",
    "\n",
    "class ElectricalCar(Car):\n",
    "    \"\"\"电动车\"\"\"\n",
    "    def __init__(self,make,model,year): #1\n",
    "        \"\"\"初始化父类的属性\"\"\"\n",
    "        super().__init__(make,model,year) #2\n",
    "        self.battery_size = 70\n",
    "    def describe_battery(self):\n",
    "        \"\"\"打印一条描述电瓶容量的信息\"\"\"\n",
    "        print(\"This car has a \" +str(self.battery_size) + \"-kWh battery.\")\n",
    "    def increment_odometer(self,miles):\n",
    "        \"\"\"修改一下\"\"\"\n",
    "        self.odometer_reading += 0.98*miles\n",
    "\n",
    "my_tesla = ElectricalCar('tesla','model s',2016)\n",
    "print(my_tesla.get_descriptive_name())\n",
    "my_tesla.read_odometer()\n",
    "my_tesla.increment_odometer(1000)\n",
    "my_tesla.read_odometer()"
   ]
  },
  {
   "cell_type": "markdown",
   "id": "9e1fd30d-44f0-477a-9a3a-b63fdbfb0e62",
   "metadata": {},
   "source": [
    "这样使用继承的话 对于子类就更加的方便"
   ]
  },
  {
   "cell_type": "markdown",
   "id": "36396828-c4d4-4fa1-a8bc-ee6994174bdf",
   "metadata": {},
   "source": [
    "<font size=\"3\"> 9.3.5 将实例用作属性"
   ]
  },
  {
   "cell_type": "markdown",
   "id": "f86ccb81-6970-49b3-8a5b-e9b604e43bce",
   "metadata": {},
   "source": [
    "可以将类的一部分作为一个独立的类提取出来，这样会更清楚简洁。"
   ]
  },
  {
   "cell_type": "code",
   "execution_count": 15,
   "id": "5ec8a04e-eba4-4ce8-8049-afecfc28771f",
   "metadata": {},
   "outputs": [
    {
     "name": "stdout",
     "output_type": "stream",
     "text": [
      "2016 Tesla Model S\n",
      "This car has a 70-kWh battery.\n",
      " This car can go approximately 240 miles on a full charge.\n"
     ]
    }
   ],
   "source": [
    "class Car():\n",
    "    \"\"\"一次模拟汽车的简单尝试\"\"\"\n",
    "    def __init__(self,make,model,year):\n",
    "        \"\"\"初始化描述汽车的属性\"\"\"\n",
    "        self.make = make\n",
    "        self.model = model\n",
    "        self.year = year\n",
    "        self.odometer_reading = 0 #设置了一个里程 用来读数\n",
    "    def get_descriptive_name(self):\n",
    "        \"\"\"返回整洁的描述性信息\"\"\"\n",
    "        long_name = str(self.year) + \" \" +self.make + ' ' +self.model\n",
    "        return long_name.title()\n",
    "    def read_odometer(self):\n",
    "        \"\"\"打印出一条指向汽车里程的信息\"\"\"\n",
    "        print(\"This car has \" + str(self.odometer_reading) + \" miles on it.\")\n",
    "    def update_odometer(self,mileage):\n",
    "        \"\"\"将里程表读数设置为指定的值\"\"\"\n",
    "        #可对方法update进行扩展，防止有人将读书往回调\n",
    "        if mileage >= self.odometer_reading:\n",
    "            self.odometer_reading = mileage\n",
    "        else:\n",
    "            print(\"You can't roll back in odometer!\")\n",
    "    def increment_odometer(self,miles):\n",
    "        \"\"\"将里程表读数增加特定的值\"\"\"\n",
    "        self.odometer_reading += miles\n",
    "    \n",
    "class Battery():  #定义了一个新类\n",
    "    \"\"\"模拟电动车汽车电瓶的简单尝试\"\"\"\n",
    "    def __init__(self,battery=70):\n",
    "        \"\"\"初始化电瓶的属性\"\"\"\n",
    "        self.battery_size = battery\n",
    "    def describe_battery(self):\n",
    "        \"\"\"打印一条描述电瓶容量的信息\"\"\"\n",
    "        print(\"This car has a \" +str(self.battery_size) + \"-kWh battery.\")\n",
    "    def get_range(self):\n",
    "        \"\"\"打印一条信息 指出电瓶的续航里程\"\"\"\n",
    "        if self.battery_size == 70:\n",
    "            range = 240\n",
    "        elif self.battery_size == 85:\n",
    "            range = 270\n",
    "        message = \" This car can go approximately \" + str(range)\n",
    "        message += \" miles on a full charge.\"\n",
    "        print(message)\n",
    "        \n",
    "class ElectricalCar(Car):\n",
    "    \"\"\"电动车\"\"\"\n",
    "    def __init__(self,make,model,year): #1\n",
    "        \"\"\"初始化父类的属性\"\"\"\n",
    "        super().__init__(make,model,year) #2\n",
    "        self.battery = Battery()  #创建了一个新的Battery实例 并且存储在属性self.battery中。\n",
    "        \n",
    "    def increment_odometer(self,miles):\n",
    "        \"\"\"修改一下\"\"\"\n",
    "        self.odometer_reading += 0.98*miles\n",
    "\n",
    "my_tesla = ElectricalCar('tesla','model s',2016)\n",
    "print(my_tesla.get_descriptive_name())\n",
    "my_tesla.battery.describe_battery()\n",
    "my_tesla.battery.get_range()"
   ]
  },
  {
   "cell_type": "markdown",
   "id": "83677351-5dba-4780-8992-5aefa94d6235",
   "metadata": {},
   "source": [
    "<font size=\"4\"> 9.4 导入类"
   ]
  },
  {
   "cell_type": "markdown",
   "id": "e8c6a841-251a-482b-aad7-417750c90091",
   "metadata": {},
   "source": [
    "为了让文件尽可能整洁，Python允许将类存储在模块中，然后在主程序中导入所需的模块。"
   ]
  },
  {
   "cell_type": "markdown",
   "id": "3538f9dd-5627-4b6f-b61b-dcbc08c33c7a",
   "metadata": {},
   "source": [
    "我们在本章创建一个car.py文件，将Car类存储在这个模块中。"
   ]
  },
  {
   "cell_type": "markdown",
   "id": "b97fcd19-0b35-4e54-a8fc-31015e109638",
   "metadata": {},
   "source": [
    "这下我们就可以直接导入了\n"
   ]
  },
  {
   "cell_type": "code",
   "execution_count": 2,
   "id": "3be8e6c5-0b1f-4883-931e-c0813337254f",
   "metadata": {},
   "outputs": [
    {
     "name": "stdout",
     "output_type": "stream",
     "text": [
      "2016 Audi A4\n",
      "This car has 23 miles on it.\n"
     ]
    }
   ],
   "source": [
    "from car import Car\n",
    "my_new_car = Car('audi','a4',2016)\n",
    "print(my_new_car.get_descriptive_name())\n",
    "my_new_car.odometer_reading = 23\n",
    "my_new_car.read_odometer()"
   ]
  },
  {
   "cell_type": "markdown",
   "id": "9c158d8f-c7ca-4889-ab03-c85014162ab4",
   "metadata": {},
   "source": [
    "将类移动到一个模块里面，并导入该模块，就可以使用其所有功能，但主程序文件变得整洁且方便阅读。\n",
    "\n",
    "这让人可以将大部分逻辑存储在独立的文件中。\n",
    "\n"
   ]
  },
  {
   "cell_type": "markdown",
   "id": "b30f0094-5861-4d6f-810c-758a2d13c734",
   "metadata": {},
   "source": [
    "<font size=\"3\"> 9.4.2 在同一模块中存储多个类"
   ]
  },
  {
   "cell_type": "markdown",
   "id": "8523edb0-54d7-4fa6-a595-cf7490eb70d5",
   "metadata": {},
   "source": [
    "本质上是一样的，就是import的时候注意好对应名称就行。"
   ]
  },
  {
   "cell_type": "code",
   "execution_count": 1,
   "id": "2a738835-b391-4ffa-9121-c8f58e841195",
   "metadata": {},
   "outputs": [
    {
     "name": "stdout",
     "output_type": "stream",
     "text": [
      "2016 Tesla Model S\n",
      "This car has a 70-kWh battery.\n",
      " This car can go approximately 240 miles on a full charge.\n"
     ]
    }
   ],
   "source": [
    "from car import ElectricalCar\n",
    "my_tesla = ElectricalCar('tesla','model s',2016)\n",
    "print(my_tesla.get_descriptive_name())\n",
    "my_tesla.battery.describe_battery()\n",
    "my_tesla.battery.get_range()"
   ]
  },
  {
   "cell_type": "markdown",
   "id": "d0203535-3fd9-424f-b0b8-c37df6cd9784",
   "metadata": {},
   "source": [
    "<font size=\"3\"> 9.4.3 从一个模块中导入多个类"
   ]
  },
  {
   "cell_type": "code",
   "execution_count": 5,
   "id": "6b3e71f3-8649-44fe-8112-b4267d6f0d2c",
   "metadata": {},
   "outputs": [
    {
     "name": "stdout",
     "output_type": "stream",
     "text": [
      "2016 Volkswagan Beetle\n",
      "2016 Tesla Roadster\n"
     ]
    }
   ],
   "source": [
    "from car import Car,ElectricalCar\n",
    "my_beetle = Car('volkswagan','beetle',2016)\n",
    "print(my_beetle.get_descriptive_name())\n",
    "my_tesla = ElectricalCar('tesla','roadster',2016)\n",
    "print(my_tesla.get_descriptive_name())"
   ]
  },
  {
   "cell_type": "markdown",
   "id": "3d5b1593-c3a0-48d2-9c9e-5a21ff4fd6e3",
   "metadata": {},
   "source": [
    "导入了多个类后，用逗号分隔了各个类。"
   ]
  },
  {
   "cell_type": "markdown",
   "id": "034ba54a-10ea-4610-9eb9-9a44d4ba6db1",
   "metadata": {},
   "source": [
    "<strong> 导入所有模块就可以直接 import car 这样就很简单易读。由于创建类实例的代码都包含模块名，所以不会与当前文件使用的任何名称产生冲突。 </strong>"
   ]
  },
  {
   "cell_type": "markdown",
   "id": "8b4d0e85-7945-4df6-83d2-0acf7fec7ba9",
   "metadata": {},
   "source": [
    "也可以使用 from modulename import * 来导入模块中的每个类，但不推荐这种用法。可能会产生名称诊断的问题。"
   ]
  },
  {
   "cell_type": "markdown",
   "id": "fc7ad924-942e-499f-bc9b-c36e42715446",
   "metadata": {},
   "source": [
    "<font size=\"3\"> 9.4.6 在一个模块中导入另一个模块"
   ]
  },
  {
   "cell_type": "markdown",
   "id": "a650465a-cd8b-4589-ad64-8162ae8695fe",
   "metadata": {},
   "source": [
    "假如把 Car类存储到一个模块，ElectricalCar和Battery存储到另一个模块 "
   ]
  },
  {
   "cell_type": "markdown",
   "id": "ac7f0e9b-0cbb-4d68-8675-1c8ad5e82e7c",
   "metadata": {},
   "source": [
    "我们也可以按照下面的方法来使用."
   ]
  },
  {
   "cell_type": "markdown",
   "id": "e26d1c41-37be-438b-887d-b92868bf7183",
   "metadata": {},
   "source": [
    "car.py文件不需要做什么变动，但存储后两者的文件要添加调用在文件中。"
   ]
  },
  {
   "cell_type": "code",
   "execution_count": 10,
   "id": "977a7ff6-279d-4a45-ae2d-1319be9e9949",
   "metadata": {},
   "outputs": [
    {
     "ename": "SyntaxError",
     "evalue": "invalid syntax (3655045042.py, line 5)",
     "output_type": "error",
     "traceback": [
      "\u001b[1;36m  Cell \u001b[1;32mIn[10], line 5\u001b[1;36m\u001b[0m\n\u001b[1;33m    --snip--\u001b[0m\n\u001b[1;37m            ^\u001b[0m\n\u001b[1;31mSyntaxError\u001b[0m\u001b[1;31m:\u001b[0m invalid syntax\n"
     ]
    }
   ],
   "source": [
    "\"\"\"一组可以用来表示电动汽车的类\"\"\"\n",
    "#假如存储到 electric_car.py 文件中\n",
    "from car import Car\n",
    "class Battery():\n",
    "    --snip--\n",
    "class ElectricalCar(Car):\n",
    "    --snip--"
   ]
  },
  {
   "cell_type": "markdown",
   "id": "f1f23eb9-a3cb-4c31-9fa3-f77a29c0fbe8",
   "metadata": {},
   "source": [
    "正式使用的时候就可以像下面这一样"
   ]
  },
  {
   "cell_type": "code",
   "execution_count": 11,
   "id": "7b78b70f-3cf8-4319-bb6a-936a49046a2b",
   "metadata": {},
   "outputs": [
    {
     "ename": "ModuleNotFoundError",
     "evalue": "No module named 'electric_car'",
     "output_type": "error",
     "traceback": [
      "\u001b[1;31m---------------------------------------------------------------------------\u001b[0m",
      "\u001b[1;31mModuleNotFoundError\u001b[0m                       Traceback (most recent call last)",
      "Cell \u001b[1;32mIn[11], line 2\u001b[0m\n\u001b[0;32m      1\u001b[0m \u001b[38;5;28;01mfrom\u001b[39;00m \u001b[38;5;21;01mcar\u001b[39;00m \u001b[38;5;28;01mimport\u001b[39;00m Car\n\u001b[1;32m----> 2\u001b[0m \u001b[38;5;28;01mfrom\u001b[39;00m \u001b[38;5;21;01melectric_car\u001b[39;00m \u001b[38;5;28;01mimport\u001b[39;00m ElectricalCar\n\u001b[0;32m      3\u001b[0m my_beetle \u001b[38;5;241m=\u001b[39m Car(\u001b[38;5;124m'\u001b[39m\u001b[38;5;124mvolkswagan\u001b[39m\u001b[38;5;124m'\u001b[39m,\u001b[38;5;124m'\u001b[39m\u001b[38;5;124mbeetle\u001b[39m\u001b[38;5;124m'\u001b[39m,\u001b[38;5;241m2016\u001b[39m)\n\u001b[0;32m      4\u001b[0m \u001b[38;5;28mprint\u001b[39m(my_beetle\u001b[38;5;241m.\u001b[39mget_descriptive_name())\n",
      "\u001b[1;31mModuleNotFoundError\u001b[0m: No module named 'electric_car'"
     ]
    }
   ],
   "source": [
    "from car import Car\n",
    "from electric_car import ElectricalCar\n",
    "my_beetle = Car('volkswagan','beetle',2016)\n",
    "print(my_beetle.get_descriptive_name())\n",
    "my_tesla = ElectricalCar('tesla','roadster',2016)\n",
    "print(my_tesla.get_descriptive_name())"
   ]
  },
  {
   "cell_type": "markdown",
   "id": "10665814-303d-4520-b13f-1873f26b2ec2",
   "metadata": {},
   "source": [
    "<font size=\"4\"> 9.5 Python标准库"
   ]
  },
  {
   "cell_type": "markdown",
   "id": "3970d7d3-3d29-4d28-802a-d98c62c261be",
   "metadata": {},
   "source": [
    "下面是将如何使用Python标准库模块collections中的一个类 --OrderedDict"
   ]
  },
  {
   "cell_type": "markdown",
   "id": "8603c13c-803b-48ee-b052-d148b2af6c90",
   "metadata": {},
   "source": [
    "字典可以让人将信息关联起来，但不记录添加键-值对的顺序。而这个类就可以记录顺序，且几乎与字典相同。"
   ]
  },
  {
   "cell_type": "code",
   "execution_count": 16,
   "id": "fea85345-00fc-4155-aab2-40301a75f80c",
   "metadata": {},
   "outputs": [
    {
     "name": "stdout",
     "output_type": "stream",
     "text": [
      "Jen's favorite language is Python.\n",
      "Sarah's favorite language is C.\n",
      "Edward's favorite language is Ruby.\n",
      "Phil's favorite language is Python.\n"
     ]
    }
   ],
   "source": [
    "from collections import OrderedDict\n",
    "favorite_languages = OrderedDict()\n",
    "favorite_languages['jen'] = 'python'\n",
    "favorite_languages['sarah'] = 'c'\n",
    "favorite_languages['edward'] = 'ruby'\n",
    "favorite_languages['phil'] = 'python'\n",
    "for name, language in favorite_languages.items():\n",
    "    print(name.title() + \"'s favorite language is \" + language.title() + \".\")\n"
   ]
  },
  {
   "cell_type": "code",
   "execution_count": 17,
   "id": "27ee3243-f237-4971-a602-4ebe5867b3d9",
   "metadata": {},
   "outputs": [
    {
     "name": "stdout",
     "output_type": "stream",
     "text": [
      "Jen's favorite language is Python.\n",
      "Sarah's favorite language is C.\n",
      "Edward's favorite language is Ruby.\n",
      "Phil's favorite language is Python.\n"
     ]
    }
   ],
   "source": [
    "# 那普通字典呢？\n",
    "favorite_languages = {}\n",
    "favorite_languages['jen'] = 'python'\n",
    "favorite_languages['sarah'] = 'c'\n",
    "favorite_languages['edward'] = 'ruby'\n",
    "favorite_languages['phil'] = 'python'\n",
    "\n",
    "for name, language in favorite_languages.items():\n",
    "    print(name.title() + \"'s favorite language is \" + language.title() + \".\")\n"
   ]
  },
  {
   "cell_type": "markdown",
   "id": "c0758d2f-576f-4f3b-83c2-db6d16a8b529",
   "metadata": {},
   "source": [
    "在许多情况下，普通字典的输出确实会按照键值对添加的顺序，但这不是Python的语言规范的一部分，也不能保证在所有Python实现中都是如此。在某些情况下，普通字典的迭代顺序可能会发生变化，特别是在涉及到字典的操作（如添加、删除等）时。\r\n",
    "\r\n",
    "在某些Python版本中，普通字典可能会按照键的哈希值的顺序进行迭代，而这个哈希值顺序通常不同于你添加键值对的顺序。因此，尽管在你的示例中普通字典的输出与添加顺序相同，但这并不代表这种情况会适用于所有情况和所有Python实现。"
   ]
  },
  {
   "cell_type": "code",
   "execution_count": null,
   "id": "d2f7453b-b171-4206-8c33-1c087e4a7c4f",
   "metadata": {},
   "outputs": [],
   "source": []
  }
 ],
 "metadata": {
  "kernelspec": {
   "display_name": "Python 3 (ipykernel)",
   "language": "python",
   "name": "python3"
  },
  "language_info": {
   "codemirror_mode": {
    "name": "ipython",
    "version": 3
   },
   "file_extension": ".py",
   "mimetype": "text/x-python",
   "name": "python",
   "nbconvert_exporter": "python",
   "pygments_lexer": "ipython3",
   "version": "3.9.9"
  },
  "widgets": {
   "application/vnd.jupyter.widget-state+json": {
    "state": {},
    "version_major": 2,
    "version_minor": 0
   }
  }
 },
 "nbformat": 4,
 "nbformat_minor": 5
}
