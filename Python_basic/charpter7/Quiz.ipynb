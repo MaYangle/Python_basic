{
 "cells": [
  {
   "cell_type": "markdown",
   "id": "92df0ba5-6087-4998-92f0-62d5770a8144",
   "metadata": {},
   "source": [
    "<font size=\"4\"> 7-1"
   ]
  },
  {
   "cell_type": "code",
   "execution_count": 1,
   "id": "c12137cd-0d35-4176-af1d-d283a6e40bb0",
   "metadata": {},
   "outputs": [
    {
     "name": "stdin",
     "output_type": "stream",
     "text": [
      "What's the kind of car you want to rent? Subaru\n"
     ]
    },
    {
     "name": "stdout",
     "output_type": "stream",
     "text": [
      "Let me see if I can find you a Subaru\n"
     ]
    }
   ],
   "source": [
    "car = input(\"What's the kind of car you want to rent?\")\n",
    "print(\"Let me see if I can find you a \" + car)"
   ]
  },
  {
   "cell_type": "markdown",
   "id": "bbb9dd97-7677-4e46-826d-44ad37691b18",
   "metadata": {},
   "source": [
    "<font size=\"4\"> 7-2 "
   ]
  },
  {
   "cell_type": "code",
   "execution_count": 2,
   "id": "4d6b509e-86ff-47ee-81ad-588672c870ba",
   "metadata": {},
   "outputs": [
    {
     "name": "stdin",
     "output_type": "stream",
     "text": [
      "How many people will come here for meal? 9\n"
     ]
    },
    {
     "name": "stdout",
     "output_type": "stream",
     "text": [
      "we don't have  any spaces.\n"
     ]
    }
   ],
   "source": [
    "customers = int(input(\"How many people will come here for meal?\"))\n",
    "if customers<8:\n",
    "    print(\"we have enough seats.\")\n",
    "else:\n",
    "    print(\"we don't have  any spaces.\")"
   ]
  },
  {
   "cell_type": "markdown",
   "id": "7d631de9-ec21-48f8-a5c4-a971bcb76a39",
   "metadata": {},
   "source": [
    "<font size=\"4\"> 7-3 "
   ]
  },
  {
   "cell_type": "code",
   "execution_count": 16,
   "id": "cd5f5396-2449-459c-897d-3dfe7a0d1289",
   "metadata": {},
   "outputs": [
    {
     "name": "stdin",
     "output_type": "stream",
     "text": [
      "please enter a number: 99\n"
     ]
    },
    {
     "name": "stdout",
     "output_type": "stream",
     "text": [
      "99 is not the integer times of 10\n"
     ]
    }
   ],
   "source": [
    "number = int(input(\"please enter a number:\"))\n",
    "print(str(number) + \" is the integer times of 10\" if number%10 == 0 else str(number) + \" is not the integer times of 10\")"
   ]
  },
  {
   "cell_type": "markdown",
   "id": "04e78318-628a-471d-912a-89c6f51771eb",
   "metadata": {},
   "source": [
    "<font size=\"4\"> 7-4 "
   ]
  },
  {
   "cell_type": "code",
   "execution_count": 20,
   "id": "47975267-d6a8-4eb9-83a3-52646dba442f",
   "metadata": {},
   "outputs": [
    {
     "name": "stdin",
     "output_type": "stream",
     "text": [
      "Please input a series of pizzas sides:Press 'quit' to end this wde\n"
     ]
    },
    {
     "name": "stdout",
     "output_type": "stream",
     "text": [
      " we have prepared this wde\n"
     ]
    },
    {
     "name": "stdin",
     "output_type": "stream",
     "text": [
      "Please input a series of pizzas sides:Press 'quit' to end this quit\n"
     ]
    }
   ],
   "source": [
    "pizzas = []\n",
    "prompt = \"Please input a series of pizzas sides:\"\n",
    "prompt += \"Press 'quit' to end this\"\n",
    "active = True\n",
    "while active:\n",
    "    slide = input(prompt)\n",
    "    if slide == 'quit':\n",
    "        break\n",
    "    else:\n",
    "        pizzas.append(slide)\n",
    "        print(\" we have prepared this: \" + slide)"
   ]
  },
  {
   "cell_type": "markdown",
   "id": "c6571c7b-d097-43af-9631-7230f62432c9",
   "metadata": {},
   "source": [
    "<font size=\"4\"> 7-5"
   ]
  },
  {
   "cell_type": "code",
   "execution_count": 27,
   "id": "ee14ff08-a904-4088-b5a1-167d4f90bda7",
   "metadata": {},
   "outputs": [
    {
     "name": "stdin",
     "output_type": "stream",
     "text": [
      "How old are you?:Press '0' to end this. 0\n"
     ]
    }
   ],
   "source": [
    "propmpt = \"How old are you?:\"\n",
    "propmpt += \"Press '0' to end this.\"\n",
    "active = True\n",
    "while active:\n",
    "    age = int(input(propmpt))\n",
    "    if age == 0:\n",
    "        break\n",
    "    else:\n",
    "        if age < 3:\n",
    "            print(\"you're free to see the movie!\")\n",
    "        elif age<12:\n",
    "            print(\"The cost of your ticket is 10 dollars!\")\n",
    "        else:\n",
    "            print(\"The cost of your ticket is 15 dollars!\")"
   ]
  },
  {
   "cell_type": "markdown",
   "id": "2227efa8-e6c9-4db0-b510-881d6e4178ee",
   "metadata": {},
   "source": [
    "<font size=\"4\"> 7-6"
   ]
  },
  {
   "cell_type": "markdown",
   "id": "eae7e253-af34-4bd3-be82-f8ea46e294b7",
   "metadata": {},
   "source": [
    "无限循环，自己想想吧 要结束循环可以按Ctrl+C,也可以关闭显示输出的窗口。"
   ]
  },
  {
   "cell_type": "markdown",
   "id": "5b12bef3-9247-4fbe-9ad2-4b8d9a62b977",
   "metadata": {},
   "source": [
    "<font size=\"4\"> 7-8"
   ]
  },
  {
   "cell_type": "code",
   "execution_count": 31,
   "id": "809e25f2-ddc2-47fe-a1d6-0d800509840f",
   "metadata": {},
   "outputs": [
    {
     "name": "stdout",
     "output_type": "stream",
     "text": [
      "make your orange pizza\n",
      "make your pear pizza\n",
      "make your apple pizza\n",
      "make your pineapple pizza\n",
      "We have made all pizzas\n",
      "You can see all the pizzas: orange\n",
      "You can see all the pizzas: pear\n",
      "You can see all the pizzas: apple\n",
      "You can see all the pizzas: pineapple\n"
     ]
    }
   ],
   "source": [
    "sandwich_orders = ['pineapple','apple','pear','orange']\n",
    "finished_orders = []\n",
    "while sandwich_orders:\n",
    "    pizza = sandwich_orders.pop()\n",
    "    print(\"make your \" + pizza + \" pizza\")\n",
    "    finished_orders.append(pizza)\n",
    "print(\"We have made all pizzas\")\n",
    "for finish in finished_orders:\n",
    "    print(\"You can see all the pizzas: \" + finish)"
   ]
  },
  {
   "cell_type": "markdown",
   "id": "4e21c142-13d1-413f-8e26-89f5609a0a39",
   "metadata": {},
   "source": [
    "<font size=\"4\"> 7-9"
   ]
  },
  {
   "cell_type": "code",
   "execution_count": 34,
   "id": "b712f91b-fe2b-452d-855e-96ca18723627",
   "metadata": {},
   "outputs": [
    {
     "name": "stdout",
     "output_type": "stream",
     "text": [
      "We have already sold all the pastrami!\n",
      "make your orange pizza\n",
      "make your pear pizza\n",
      "make your apple pizza\n",
      "make your pineapple pizza\n",
      "We have made all pizzas\n",
      "You can see all the pizzas: orange\n",
      "You can see all the pizzas: pear\n",
      "You can see all the pizzas: apple\n",
      "You can see all the pizzas: pineapple\n"
     ]
    }
   ],
   "source": [
    "sandwich_orders = ['pineapple','pastrami','apple','pastrami','pear','orange','pastrami']\n",
    "print(\"We have already sold all the pastrami!\")\n",
    "finished_orders = []\n",
    "while sandwich_orders:\n",
    "    while 'pastrami' in sandwich_orders:\n",
    "        sandwich_orders.remove('pastrami')\n",
    "    pizza = sandwich_orders.pop()\n",
    "    print(\"make your \" + pizza + \" pizza\")\n",
    "    finished_orders.append(pizza)\n",
    "print(\"We have made all pizzas\")\n",
    "for finish in finished_orders:\n",
    "    print(\"You can see all the pizzas: \" + finish)"
   ]
  },
  {
   "cell_type": "markdown",
   "id": "45e32e5b-b506-4a5a-8148-1cecccbc5821",
   "metadata": {},
   "source": [
    "<font size=\"4\"> 7-10"
   ]
  },
  {
   "cell_type": "code",
   "execution_count": 36,
   "id": "fb9b317d-a71c-434b-b189-9eaf5a74d117",
   "metadata": {},
   "outputs": [
    {
     "name": "stdin",
     "output_type": "stream",
     "text": [
      "what's your name?  wew\n",
      "where do you want to go?  gew\n",
      "Is there has another one who wants to answer this question? yes/no we\n",
      "what's your name?  tew\n",
      "where do you want to go?  gre\n",
      "Is there has another one who wants to answer this question? yes/no no\n"
     ]
    },
    {
     "name": "stdout",
     "output_type": "stream",
     "text": [
      "--Results are --\n",
      "wew wants to go to gew\n",
      "tew wants to go to gre\n"
     ]
    }
   ],
   "source": [
    "places = {}\n",
    "active = True\n",
    "while active:\n",
    "    name = input(\"what's your name? \")\n",
    "    place =  input(\"where do you want to go? \")\n",
    "    places[name] = place\n",
    "    repeat = input(\"Is there has another one who wants to answer this question? yes/no\")\n",
    "    if repeat == 'no':\n",
    "        active = False\n",
    "print(\"--Results are --\")\n",
    "for name,place in places.items():\n",
    "    print(name + \" wants to go to \" + place)\n",
    "        \n",
    "    "
   ]
  },
  {
   "cell_type": "code",
   "execution_count": null,
   "id": "19e20836-ce99-4360-8560-eaf77ad57774",
   "metadata": {},
   "outputs": [],
   "source": []
  }
 ],
 "metadata": {
  "kernelspec": {
   "display_name": "Python 3 (ipykernel)",
   "language": "python",
   "name": "python3"
  },
  "language_info": {
   "codemirror_mode": {
    "name": "ipython",
    "version": 3
   },
   "file_extension": ".py",
   "mimetype": "text/x-python",
   "name": "python",
   "nbconvert_exporter": "python",
   "pygments_lexer": "ipython3",
   "version": "3.9.9"
  },
  "widgets": {
   "application/vnd.jupyter.widget-state+json": {
    "state": {},
    "version_major": 2,
    "version_minor": 0
   }
  }
 },
 "nbformat": 4,
 "nbformat_minor": 5
}
