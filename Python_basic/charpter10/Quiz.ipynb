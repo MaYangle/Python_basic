{
 "cells": [
  {
   "cell_type": "markdown",
   "id": "248e1253-ebcb-4b2e-8133-1ab68bea5c8c",
   "metadata": {},
   "source": [
    "<font size=\"4\"> 10-1"
   ]
  },
  {
   "cell_type": "markdown",
   "id": "25d705b9-c5ef-4630-80c8-ee8f26f392f8",
   "metadata": {},
   "source": [
    "略过"
   ]
  },
  {
   "cell_type": "markdown",
   "id": "58ec1cc7-4c4c-474e-88df-8e7607ac5834",
   "metadata": {},
   "source": [
    "<font size=\"4\"> 10-2"
   ]
  },
  {
   "cell_type": "code",
   "execution_count": 8,
   "id": "82f70dfc-02f3-4148-8f31-d3070d9da138",
   "metadata": {},
   "outputs": [
    {
     "name": "stdout",
     "output_type": "stream",
     "text": [
      "nwnwndn python\n",
      "\n",
      "djwjd  python\n",
      "\n",
      "python\n",
      "nwnwndn C\n",
      "\n",
      "djwjd  C\n",
      "\n",
      "C\n"
     ]
    }
   ],
   "source": [
    "filename = 'learning_python.txt'\n",
    "with open(filename) as object:\n",
    "    lines = object.readlines()\n",
    "for line in lines:\n",
    "    print(line)\n",
    "for line in lines:\n",
    "    print(line.replace('python','C'))"
   ]
  },
  {
   "cell_type": "markdown",
   "id": "67ed1333-a932-40aa-b178-6ad41de60f40",
   "metadata": {},
   "source": [
    "<font size=\"4\"> 10-3"
   ]
  },
  {
   "cell_type": "code",
   "execution_count": 13,
   "id": "338712e4-be6f-426c-9290-31ef1f83739f",
   "metadata": {},
   "outputs": [
    {
     "name": "stdin",
     "output_type": "stream",
     "text": [
      "what's your name? wdw\n"
     ]
    }
   ],
   "source": [
    "filename = 'guest.txt'\n",
    "a = input(\"what's your name?\")\n",
    "with open(filename,'w') as file_object:\n",
    "    file_object.write(\"The guest's name is \" + a)"
   ]
  },
  {
   "cell_type": "markdown",
   "id": "968e3e83-6af3-4dfe-80cf-a70c8c74717b",
   "metadata": {},
   "source": [
    "<font size=\"4\"> 10-4 "
   ]
  },
  {
   "cell_type": "code",
   "execution_count": 20,
   "id": "fdf6c870-83e3-40db-9e58-12019bb0fb71",
   "metadata": {},
   "outputs": [
    {
     "name": "stdin",
     "output_type": "stream",
     "text": [
      "What's your name？ gees\n"
     ]
    },
    {
     "name": "stdout",
     "output_type": "stream",
     "text": [
      "Glad to see you !gees\n"
     ]
    },
    {
     "name": "stdin",
     "output_type": "stream",
     "text": [
      "What's your name？ fa\n"
     ]
    },
    {
     "name": "stdout",
     "output_type": "stream",
     "text": [
      "Glad to see you !fa\n"
     ]
    },
    {
     "name": "stdin",
     "output_type": "stream",
     "text": [
      "What's your name？ fw\n"
     ]
    },
    {
     "name": "stdout",
     "output_type": "stream",
     "text": [
      "Glad to see you !fw\n"
     ]
    },
    {
     "name": "stdin",
     "output_type": "stream",
     "text": [
      "What's your name？ quit\n"
     ]
    },
    {
     "name": "stdout",
     "output_type": "stream",
     "text": [
      "Glad to see you !quit\n"
     ]
    }
   ],
   "source": [
    "f = True\n",
    "filename = 'guest_book.txt'\n",
    "n = 0\n",
    "while f:\n",
    "    name = input(\"What's your name？\")\n",
    "    print(\"Glad to see you !\" + name)\n",
    "    n+=1\n",
    "    with open(filename,'a') as file_object:\n",
    "        file_object.write(\"The \" + str(n) + \"th guest name is \" + name+ \"\\n\")\n",
    "    if name == 'quit':\n",
    "        f = False"
   ]
  },
  {
   "cell_type": "markdown",
   "id": "c388abe7-cbbb-48b9-9748-8f07b7e98e85",
   "metadata": {},
   "source": [
    "<font size=\"4\"> 10-5"
   ]
  },
  {
   "cell_type": "code",
   "execution_count": 27,
   "id": "d15f5b18-e34f-4332-a7c0-de3a8ef406f1",
   "metadata": {},
   "outputs": [
    {
     "name": "stdin",
     "output_type": "stream",
     "text": [
      "why you love programming? i like it\n"
     ]
    },
    {
     "name": "stdout",
     "output_type": "stream",
     "text": [
      "I have documented what you said .\n"
     ]
    },
    {
     "name": "stdin",
     "output_type": "stream",
     "text": [
      "why you love programming? quit\n"
     ]
    }
   ],
   "source": [
    "filename = 'reason.txt'\n",
    "f = True\n",
    "while f:\n",
    "    a = input(\"why you love programming?\")\n",
    "    if  a != 'quit':\n",
    "        with open(filename,'a') as file_object:\n",
    "            file_object.write(a + \"\\n\")\n",
    "            print(\"I have documented what you said .\")\n",
    "    else:\n",
    "        f = False"
   ]
  },
  {
   "cell_type": "markdown",
   "id": "5dd7084b-9c23-4e91-87ac-57ca76d576d3",
   "metadata": {},
   "source": [
    "<font size=\"4\"> 10-6"
   ]
  },
  {
   "cell_type": "code",
   "execution_count": 31,
   "id": "bd983374-2413-4ac0-ac93-7b9d15ac0cca",
   "metadata": {},
   "outputs": [
    {
     "name": "stdout",
     "output_type": "stream",
     "text": [
      "Please input two numbers.\n"
     ]
    },
    {
     "name": "stdin",
     "output_type": "stream",
     "text": [
      "The number 1: 1\n",
      "The number 2: 4\n"
     ]
    },
    {
     "name": "stdout",
     "output_type": "stream",
     "text": [
      "The result of the addment is 5\n"
     ]
    }
   ],
   "source": [
    "print(\"Please input two numbers.\")\n",
    "try:\n",
    "    a = int(input(\"The number 1:\"))\n",
    "    b = int(input(\"The number 2:\"))\n",
    "except ValueError:\n",
    "    print(\"You didn't print the number\")\n",
    "else:\n",
    "    print(\"The result of the addment is \" + str(a+b))"
   ]
  },
  {
   "cell_type": "markdown",
   "id": "f47231b4-7540-4fca-b9eb-5b1e187ee9ea",
   "metadata": {},
   "source": [
    "<font size=\"4\"> 10-7"
   ]
  },
  {
   "cell_type": "code",
   "execution_count": 40,
   "id": "1df52afa-dfe6-4e70-bbc7-1f1fdedcda55",
   "metadata": {},
   "outputs": [
    {
     "name": "stdout",
     "output_type": "stream",
     "text": [
      "Please input two numbers.\n"
     ]
    },
    {
     "name": "stdin",
     "output_type": "stream",
     "text": [
      "The number 1 (or 'q' to quit):  e\n",
      "The number 2 (or 'q' to quit):  1\n"
     ]
    },
    {
     "name": "stdout",
     "output_type": "stream",
     "text": [
      "You didn't enter a valid number.\n",
      "Please input two numbers.\n"
     ]
    },
    {
     "name": "stdin",
     "output_type": "stream",
     "text": [
      "The number 1 (or 'q' to quit):  q\n",
      "The number 2 (or 'q' to quit):  q\n"
     ]
    }
   ],
   "source": [
    "f = True\n",
    "while f:\n",
    "    print(\"Please input two numbers.\")\n",
    "    try:\n",
    "        a_input = input(\"The number 1 (or 'q' to quit): \")\n",
    "        b_input = input(\"The number 2 (or 'q' to quit): \")\n",
    "        \n",
    "        if a_input.lower() == 'q' or b_input.lower() == 'q':\n",
    "            f = False\n",
    "        else:\n",
    "            a = int(a_input)\n",
    "            b = int(b_input)\n",
    "            print(\"The result of the addition is \" + str(a + b))\n",
    "    except ValueError:\n",
    "        print(\"You didn't enter a valid number.\")\n"
   ]
  },
  {
   "cell_type": "markdown",
   "id": "334b4648-bf2e-40b4-8ad3-1fe99ad6e8f3",
   "metadata": {},
   "source": [
    "<font size=\"4\"> 10-8"
   ]
  },
  {
   "cell_type": "code",
   "execution_count": 45,
   "id": "b6e59df9-ee35-440e-b299-8e61cac64f8b",
   "metadata": {},
   "outputs": [
    {
     "name": "stdout",
     "output_type": "stream",
     "text": [
      "File 'cats.txt' is written successfully.\n"
     ]
    }
   ],
   "source": [
    "f1 = 'cats.txt'\n",
    "f2 = 'dogs1.txt'\n",
    "\n",
    "try:\n",
    "    # 写入到cats.txt\n",
    "    with open(f1, 'w') as f1_obj:\n",
    "        f1_obj.write('\\n'.join(['ww', 'wde', 'gfe']))\n",
    "    print(\"File 'cats.txt' is written successfully.\")\n",
    "\n",
    "    # 写入到dogs.txt\n",
    "    with open(f2, 'r') as f2_obj:\n",
    "        f2_obj.write('\\n'.join(['wewf', 'fwgfde']))\n",
    "    print(\"File 'dogs.txt' is written successfully.\")\n",
    "\n",
    "    # 读取cats.txt的内容\n",
    "    with open(f1, 'r') as f1_read:\n",
    "        contents_cats = f1_read.read()\n",
    "        print(\"Contents of 'cats.txt':\")\n",
    "        print(contents_cats)\n",
    "\n",
    "    # 读取dogs.txt的内容\n",
    "    with open(f2, 'r') as f2_read:\n",
    "        contents_dogs = f2_read.read()\n",
    "        print(\"Contents of 'dogs.txt':\")\n",
    "        print(contents_dogs)\n",
    "\n",
    "except FileNotFoundError:\n",
    "    #print(\"One or both files not found.\")\n",
    "    pass"
   ]
  },
  {
   "cell_type": "markdown",
   "id": "6ed3829d-9677-45ec-a882-2ac65727fd91",
   "metadata": {},
   "source": [
    "<font size=\"4\"> 10-9 - 10-10"
   ]
  },
  {
   "cell_type": "markdown",
   "id": "bec199bb-3817-4b43-bbed-8e4950b2db64",
   "metadata": {},
   "source": [
    "略过"
   ]
  },
  {
   "cell_type": "markdown",
   "id": "969eb2b7-a777-42d5-ab90-7a5344e50d2f",
   "metadata": {},
   "source": [
    "<font size=\"4\"> 10-11"
   ]
  },
  {
   "cell_type": "code",
   "execution_count": 4,
   "id": "bfa0f2db-1f82-4f8d-9499-505c2e99abd9",
   "metadata": {},
   "outputs": [
    {
     "name": "stdin",
     "output_type": "stream",
     "text": [
      "What's your favorite number? 22\n"
     ]
    },
    {
     "name": "stdout",
     "output_type": "stream",
     "text": [
      "It has saved.\n"
     ]
    }
   ],
   "source": [
    "import json\n",
    "filename = 'number.json'\n",
    "favorite_number = int(input(\"What's your favorite number?\"))\n",
    "with open(filename,'w') as f_obj:\n",
    "    json.dump(favorite_number,f_obj)\n",
    "    print(\"It has saved.\")"
   ]
  },
  {
   "cell_type": "code",
   "execution_count": 5,
   "id": "840443ab-7ff7-4f4d-8a7c-4c08afd4290e",
   "metadata": {},
   "outputs": [
    {
     "name": "stdout",
     "output_type": "stream",
     "text": [
      "I know your favorite number ！，It's 22\n"
     ]
    }
   ],
   "source": [
    "with open(filename,'r') as f_obj:\n",
    "    a = json.load(f_obj)\n",
    "    print(\"I know your favorite number ！，It's \" + str(a))"
   ]
  },
  {
   "cell_type": "markdown",
   "id": "a161cbaf-92c0-4ed1-a1de-747fc4472c3f",
   "metadata": {},
   "source": [
    "<font size=\"4\"> 10-12"
   ]
  },
  {
   "cell_type": "code",
   "execution_count": 13,
   "id": "268b1244-2010-481c-8c5f-916fb7a127ac",
   "metadata": {},
   "outputs": [
    {
     "name": "stdout",
     "output_type": "stream",
     "text": [
      "I know your favorite number ！，It's 22\n"
     ]
    }
   ],
   "source": [
    "import json\n",
    "def show_number():\n",
    "    filename = 'number1.json'\n",
    "    with open(filename,'r') as f_obj:\n",
    "        a = json.load(f_obj)\n",
    "        print(\"I know your favorite number ！，It's \" + str(a))\n",
    "def  ask_number():\n",
    "    filename = 'number1.json'\n",
    "    try:\n",
    "        show_number()\n",
    "    except:\n",
    "        favorite_number = int(input(\"What's your favorite number?\"))\n",
    "        with open(filename,'w') as f_obj:\n",
    "            json.dump(favorite_number,f_obj)\n",
    "            print(\"It has saved.\")\n",
    "\n",
    "ask_number()"
   ]
  },
  {
   "cell_type": "markdown",
   "id": "236b57a9-b30c-41d6-a61c-c55896de0251",
   "metadata": {},
   "source": [
    "<font size=\"3\"> 10-13"
   ]
  },
  {
   "cell_type": "code",
   "execution_count": 15,
   "id": "70c056d3-3501-4fd1-b4ad-3a4f9d78c61c",
   "metadata": {},
   "outputs": [
    {
     "name": "stdin",
     "output_type": "stream",
     "text": [
      "Are u 88? yes\n"
     ]
    },
    {
     "name": "stdout",
     "output_type": "stream",
     "text": [
      "Welcome back, 88!\n"
     ]
    }
   ],
   "source": [
    "import json\n",
    "def get_stored_username():\n",
    "\tfilename='username.json'\n",
    "\ttry:\n",
    "\t\twith open(filename) as f_obj:\n",
    "\t\t\tusername=json.load(f_obj)\n",
    "\texcept FileNotFoundError:\n",
    "\t\treturn None\n",
    "\telse:\n",
    "\t\treturn username\n",
    "def get_new_username():\n",
    "\tusername=input('What is your name?')\n",
    "\tfilename='username.json'\n",
    "\twith open(filename,'w') as f_obj:\n",
    "\t\tjson.dump(username,f_obj)\n",
    "\treturn username\n",
    "def greet_user():\n",
    "\tusername=get_stored_username()\n",
    "\tif username:\n",
    "\t\tquestion=input('Are u '+username.title()+ '?')\n",
    "\t\tif question=='yes':\n",
    "\t\t\tprint('Welcome back, '+username.title()+'!')\n",
    "\t\telse:\n",
    "\t\t\treturn get_new_username()\n",
    "\telse:\n",
    "\t\tusername=get_new_username()\n",
    "\t\tprint('We will remember u when u come back.')\n",
    "greet_user()\n"
   ]
  },
  {
   "cell_type": "code",
   "execution_count": null,
   "id": "6a2d33b5-bfd0-4192-9207-584e198eebb1",
   "metadata": {},
   "outputs": [],
   "source": []
  }
 ],
 "metadata": {
  "kernelspec": {
   "display_name": "Python 3 (ipykernel)",
   "language": "python",
   "name": "python3"
  },
  "language_info": {
   "codemirror_mode": {
    "name": "ipython",
    "version": 3
   },
   "file_extension": ".py",
   "mimetype": "text/x-python",
   "name": "python",
   "nbconvert_exporter": "python",
   "pygments_lexer": "ipython3",
   "version": "3.9.9"
  },
  "widgets": {
   "application/vnd.jupyter.widget-state+json": {
    "state": {},
    "version_major": 2,
    "version_minor": 0
   }
  }
 },
 "nbformat": 4,
 "nbformat_minor": 5
}
