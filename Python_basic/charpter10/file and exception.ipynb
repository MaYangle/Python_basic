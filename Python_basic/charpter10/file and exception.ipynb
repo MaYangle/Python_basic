{
 "cells": [
  {
   "cell_type": "markdown",
   "id": "4ace4bb0-918e-487a-9784-05f5d2356b80",
   "metadata": {},
   "source": [
    "<font size=\"5\"> 第10章 文件和异常"
   ]
  },
  {
   "cell_type": "markdown",
   "id": "ee819803-3374-47f5-9873-a6f56f95e14e",
   "metadata": {},
   "source": [
    "学习处理数据，让程序能够快速分析大量的数据;学习错误处理，避免程序在面对意外情形时崩溃;学习异常，异常是Python创建的特殊对象，用于管理程序运行时出现的错误。\n",
    "\n",
    "学习模块json 能保存用户数据，防止程序停止运行后丢失。"
   ]
  },
  {
   "cell_type": "markdown",
   "id": "725e5dbe-25f5-4c19-b653-c56dabc5f4c5",
   "metadata": {},
   "source": [
    "本章学习的技能可以提高程序的适用性、可用性和稳定性。"
   ]
  },
  {
   "cell_type": "markdown",
   "id": "ce8100c7-cfd7-48e3-a3fc-2b595f0e0d1c",
   "metadata": {},
   "source": [
    "<font size=\"4\"> 10.1 从文件中读取数据"
   ]
  },
  {
   "cell_type": "markdown",
   "id": "083e940f-5329-4740-a658-c9d6fca45c71",
   "metadata": {},
   "source": [
    "使用文本文件中的信息，首先需要将信息读取到内存中。为此，可以一次性读取文件的全部内容，也可以用每次一行的方式逐步读取。"
   ]
  },
  {
   "cell_type": "markdown",
   "id": "092f717a-73a9-4246-ac84-78a9f70fe4e4",
   "metadata": {},
   "source": [
    "<font size=\"3\"> 10.1.1 读取整个文件"
   ]
  },
  {
   "cell_type": "markdown",
   "id": "2d6cf75f-0446-463c-9576-70f1c5d3199c",
   "metadata": {},
   "source": [
    "先创建一个文件 pi_digits.txt 文件"
   ]
  },
  {
   "cell_type": "markdown",
   "id": "d227eb50-aa6e-4510-adaa-2eb2f2c4b59c",
   "metadata": {},
   "source": [
    "下面的程序打开并读取这个文件，并将其内容显示到屏幕上:"
   ]
  },
  {
   "cell_type": "code",
   "execution_count": 7,
   "id": "8347c3aa-88df-4064-878a-6d92294c9787",
   "metadata": {},
   "outputs": [
    {
     "name": "stdout",
     "output_type": "stream",
     "text": [
      "3.1415926535\n",
      "8979323846\n",
      "2643383279\n"
     ]
    }
   ],
   "source": [
    "with open('pi_digits.txt') as file_object:\n",
    "    #函数open()返回一个表示文件的对象 然后存储到将在后面使用的变量中\n",
    "    #自动关闭文件 无需显式地调用close()\n",
    "    contents = file_object.read()\n",
    "    print(contents.rstrip())"
   ]
  },
  {
   "cell_type": "markdown",
   "id": "3f0cbaf4-0dc9-40d2-ac14-45cb83f1e203",
   "metadata": {},
   "source": [
    "<font size=\"3\"> 10.1.2 文件路径"
   ]
  },
  {
   "cell_type": "markdown",
   "id": "8498de3a-0754-424d-a648-2cbfe09e8779",
   "metadata": {},
   "source": [
    "当你将类似pi_digits.txt这样的简单文件名传递给函数open()时，Python将在当前执行的文件(即.py程序文件)所在的目录中查找文件。"
   ]
  },
  {
   "cell_type": "markdown",
   "id": "535268c2-c039-43a4-9bf6-e3fa04a98739",
   "metadata": {},
   "source": [
    "要让Python打开不与程序文件位于同一个目录中的文件，需要提供文件路径，从而Python到系统的特定位置去查找。"
   ]
  },
  {
   "cell_type": "code",
   "execution_count": 9,
   "id": "a70fe595-f9e9-4e2c-8b50-4516fa830446",
   "metadata": {},
   "outputs": [],
   "source": [
    "# with open('text_files\\filename.txt') as file_object:\n",
    "  # 这是相对路径 也可以写绝对路径 就是从哪个盘开始写  "
   ]
  },
  {
   "cell_type": "markdown",
   "id": "5a3a3107-36ed-41d4-9451-31a6792ef76d",
   "metadata": {},
   "source": [
    "<font size=\"3\"> 10.1.3 逐行读取"
   ]
  },
  {
   "cell_type": "markdown",
   "id": "f6151c94-1bae-464f-b3b2-d7bf2109d65c",
   "metadata": {},
   "source": [
    "以每次一行的方式检查文件，可以使用for循环:"
   ]
  },
  {
   "cell_type": "code",
   "execution_count": 13,
   "id": "9d30aa40-b45d-4b29-8f6e-b3878f15588c",
   "metadata": {},
   "outputs": [
    {
     "name": "stdout",
     "output_type": "stream",
     "text": [
      "3.1415926535\n",
      "8979323846\n",
      "2643383279\n"
     ]
    }
   ],
   "source": [
    "filename = 'pi_digits.txt'\n",
    "with open(filename) as file_object:\n",
    "    for line in file_object:\n",
    "        print(line.rstrip())"
   ]
  },
  {
   "cell_type": "markdown",
   "id": "3d658736-4650-431a-a0f6-53a37bbb2623",
   "metadata": {},
   "source": [
    "<font size=\"3\"> 10.1.4 创建一个包含文件各行内容的列表"
   ]
  },
  {
   "cell_type": "markdown",
   "id": "c156cceb-075e-4af2-9b87-8c77cc088063",
   "metadata": {},
   "source": [
    "使用关键字with时，open()返回的文件对象只在with代码块内可用。如果要在with代码块外访问文件的内容，可在with代码块内将文件的各行存储在一个列表中，并在with代码块外使用该列表"
   ]
  },
  {
   "cell_type": "code",
   "execution_count": 15,
   "id": "72cef062-bad4-4753-acc2-52e967949b3a",
   "metadata": {},
   "outputs": [
    {
     "name": "stdout",
     "output_type": "stream",
     "text": [
      "3.1415926535\n",
      "8979323846\n",
      "2643383279\n"
     ]
    }
   ],
   "source": [
    "filename = 'pi_digits.txt'\n",
    "with open(filename) as file_object:\n",
    "    lines = file_object.readlines()\n",
    "for line in lines:\n",
    "    print(line.rstrip())"
   ]
  },
  {
   "cell_type": "markdown",
   "id": "45446f31-38ca-49e6-98dd-cd9429fbcc19",
   "metadata": {},
   "source": [
    "创建了一个列表，效果是一样的。"
   ]
  },
  {
   "cell_type": "markdown",
   "id": "7439c034-2183-4224-bf36-fdb7a7e5bf9a",
   "metadata": {},
   "source": [
    "<font size=\"3\"> 10.1.5 使用文件的内容"
   ]
  },
  {
   "cell_type": "code",
   "execution_count": 18,
   "id": "056da58c-38e8-423d-b17e-46e9630a65de",
   "metadata": {},
   "outputs": [
    {
     "name": "stdout",
     "output_type": "stream",
     "text": [
      "3.141592653589793238462643383279\n",
      "32\n"
     ]
    }
   ],
   "source": [
    "filename = 'pi_digits.txt'\n",
    "with open(filename) as file_object:\n",
    "    lines = file_object.readlines()\n",
    "pi_string = ''\n",
    "for line in lines:\n",
    "    pi_string += line.strip()\n",
    "print(pi_string)\n",
    "print(len(pi_string))"
   ]
  },
  {
   "cell_type": "markdown",
   "id": "ad30ca67-e9ec-44cc-a10e-fdf0f0d8e4bc",
   "metadata": {},
   "source": [
    "读取文本文件时，Python将其中的所有文本都解读为字符串。如果读取的是数字，要将其作为数值使用，必须使用函数int()或float()将其转换。"
   ]
  },
  {
   "cell_type": "markdown",
   "id": "6fcfdbaa-4c33-4ccb-bf66-2e2857225c64",
   "metadata": {},
   "source": [
    "<font size=\"4\"> 10.2 写入文件"
   ]
  },
  {
   "cell_type": "markdown",
   "id": "6d63c611-16cf-4e67-bc50-bc97afceaa07",
   "metadata": {},
   "source": [
    "保存数据的最好方式是写入文字。"
   ]
  },
  {
   "cell_type": "markdown",
   "id": "12825e78-7861-4e4b-8887-69deb2f92119",
   "metadata": {},
   "source": [
    "<font size = \"3\"> 10.2.1 写入空文件"
   ]
  },
  {
   "cell_type": "markdown",
   "id": "7407b8cb-0dc3-45e5-8767-1492ee94f009",
   "metadata": {},
   "source": [
    "要将文本写入文件，在调用open()时需要提供另一个实参。"
   ]
  },
  {
   "cell_type": "code",
   "execution_count": 24,
   "id": "3f4570a2-43ee-49d3-b0d4-5a2edd36a3b4",
   "metadata": {},
   "outputs": [],
   "source": [
    "filename = 'programming.txt'\n",
    "with open(filename,'w') as file_object:\n",
    "    #调用open()时提供了两个实参 第一个是文件名 第二个是写入模式 'w' \n",
    "    # 打开文件时，可指定读取模式'r' , 写入模式 'w' 附加模式 'a' 读取和写入文件模式 'r+'\n",
    "    file_object.write(\" I love programming.\")"
   ]
  },
  {
   "cell_type": "markdown",
   "id": "5c1e9ea5-341c-449b-84ce-7f91834eb527",
   "metadata": {},
   "source": [
    "如果写入文件不存在，函数open()将自动创建它。然而，以写入('w')模式打开文件，如果指定的文件已经存在，Python将在返回文件对象前清空该文件。"
   ]
  },
  {
   "cell_type": "markdown",
   "id": "f2f947e4-d245-4168-a092-abbb02eab551",
   "metadata": {},
   "source": [
    "Python只能将字符串写入文本文件。要将数值数据存储到文本文件中，必须先使用函数str()将其转换为字符串格式。"
   ]
  },
  {
   "cell_type": "markdown",
   "id": "61f0364f-52e3-4452-a0a6-04d6965a9665",
   "metadata": {},
   "source": [
    "<font size=\"3\"> 10.2.2 写入多行"
   ]
  },
  {
   "cell_type": "markdown",
   "id": "9ecef2c8-8a90-440d-ae50-e9346cb96073",
   "metadata": {},
   "source": [
    "函数write()不会在写入的文本末尾添加换行符 需要自己添加"
   ]
  },
  {
   "cell_type": "code",
   "execution_count": 26,
   "id": "2ca08d1a-5e78-45b9-9a04-90c90d9d0d9c",
   "metadata": {},
   "outputs": [],
   "source": [
    "filename = 'programming.txt'\n",
    "with open(filename,'w') as file_object:\n",
    "    file_object.write(\"I love programming.\\n\")\n",
    "    file_object.write(\"I love creating new games. \\n\")"
   ]
  },
  {
   "cell_type": "markdown",
   "id": "0c26a646-5252-4661-abda-79d990699440",
   "metadata": {},
   "source": [
    "<font size=\"3\"> 10.2.3 附加文件"
   ]
  },
  {
   "cell_type": "markdown",
   "id": "1f564f3d-95f7-4fde-b393-41875bd77f06",
   "metadata": {},
   "source": [
    "需要给文件添加内容，而不是覆盖原有的内容，可以附加模式打开文件。附加模式打开时，Python不会在返回文件对象时清空文件。当然指定的文件不存在还是会创建一个新文件。"
   ]
  },
  {
   "cell_type": "code",
   "execution_count": 29,
   "id": "c41c48a5-ef17-48d9-8158-76defc69423f",
   "metadata": {},
   "outputs": [],
   "source": [
    "filename = 'programming.txt'\n",
    "with open(filename,'a') as file_object:\n",
    "    file_object.write(\"I also love finding meaning in large datasets. \\n\")\n",
    "    file_object.write(\"I love creating apps that can run in a browser.\\n\")"
   ]
  },
  {
   "cell_type": "markdown",
   "id": "2027be26-5192-43ea-8263-6a7f9df2f314",
   "metadata": {},
   "source": [
    "<font size=\"4\"> 10.3 异常"
   ]
  },
  {
   "cell_type": "markdown",
   "id": "428665d3-5c18-481b-a8b4-6b2a018a51f1",
   "metadata": {},
   "source": [
    "Python使用被称为异常的特殊对象来管理程序执行期间发生的错误。每当发生让Python不知所措的错误时，它都会创建一个异常对象。编写了处理该异常的代码，程序将继续运行。未对程序进行处理，程序会停止，并显示一个traceback，并保护其中有关异常的报告。"
   ]
  },
  {
   "cell_type": "markdown",
   "id": "dcf3096f-917b-4085-844d-bfb2f5ca86f5",
   "metadata": {},
   "source": [
    "异常是使用try-except代码块处理的。try-except代码块让Python执行指定的操作，同时告诉Python发生异常是如何处理。"
   ]
  },
  {
   "cell_type": "markdown",
   "id": "3d9418fa-b3ad-4457-ac98-1c9601a2b4ae",
   "metadata": {},
   "source": [
    "<font size=\"3\"> 10.3.1 处理ZeroDIvisionError异常"
   ]
  },
  {
   "cell_type": "code",
   "execution_count": 31,
   "id": "5ef5db99-be8b-43b9-af77-646033f1fee3",
   "metadata": {},
   "outputs": [
    {
     "ename": "ZeroDivisionError",
     "evalue": "division by zero",
     "output_type": "error",
     "traceback": [
      "\u001b[1;31m---------------------------------------------------------------------------\u001b[0m",
      "\u001b[1;31mZeroDivisionError\u001b[0m                         Traceback (most recent call last)",
      "Cell \u001b[1;32mIn[31], line 2\u001b[0m\n\u001b[0;32m      1\u001b[0m \u001b[38;5;66;03m#演示一个错误报告\u001b[39;00m\n\u001b[1;32m----> 2\u001b[0m \u001b[38;5;28mprint\u001b[39m(\u001b[38;5;241;43m5\u001b[39;49m\u001b[38;5;241;43m/\u001b[39;49m\u001b[38;5;241;43m0\u001b[39;49m)\n",
      "\u001b[1;31mZeroDivisionError\u001b[0m: division by zero"
     ]
    }
   ],
   "source": [
    "#演示一个错误报告\n",
    "print(5/0)"
   ]
  },
  {
   "cell_type": "markdown",
   "id": "85cdb64e-9385-4a9d-8064-ee0a32ceb045",
   "metadata": {},
   "source": [
    "<font size=\"3\"> 10.3.2 使用try-except代码块"
   ]
  },
  {
   "cell_type": "code",
   "execution_count": 32,
   "id": "9a7c9272-6ad0-43ca-a615-6bd2c59f67aa",
   "metadata": {},
   "outputs": [
    {
     "name": "stdout",
     "output_type": "stream",
     "text": [
      "You can't divide by zero!\n"
     ]
    }
   ],
   "source": [
    "try:\n",
    "    print(5/0)\n",
    "except ZeroDivisionError:\n",
    "    print(\"You can't divide by zero!\")"
   ]
  },
  {
   "cell_type": "markdown",
   "id": "69a10024-ccd5-41ab-b722-42e0adf2418c",
   "metadata": {},
   "source": [
    "<font size=\"3\"> 10.3.3 使用异常避免崩溃"
   ]
  },
  {
   "cell_type": "markdown",
   "id": "2356a172-8f6d-4e94-a54b-a0434e98d420",
   "metadata": {},
   "source": [
    "如果程序能够妥善的处理无效输入，就能再提示用户提供有效输入，而不至于崩溃。"
   ]
  },
  {
   "cell_type": "code",
   "execution_count": 36,
   "id": "d2f64562-08f0-4f95-b740-b3085234d4f1",
   "metadata": {},
   "outputs": [
    {
     "name": "stdout",
     "output_type": "stream",
     "text": [
      "Give me two numbers, and i'll divide them.\n",
      "Enter 'q' to quit.\n"
     ]
    },
    {
     "name": "stdin",
     "output_type": "stream",
     "text": [
      "First number: 0\n",
      "Second number: 0\n"
     ]
    },
    {
     "ename": "ZeroDivisionError",
     "evalue": "division by zero",
     "output_type": "error",
     "traceback": [
      "\u001b[1;31m---------------------------------------------------------------------------\u001b[0m",
      "\u001b[1;31mZeroDivisionError\u001b[0m                         Traceback (most recent call last)",
      "Cell \u001b[1;32mIn[36], line 10\u001b[0m\n\u001b[0;32m      8\u001b[0m \u001b[38;5;28;01mif\u001b[39;00m second_number \u001b[38;5;241m==\u001b[39m \u001b[38;5;124m'\u001b[39m\u001b[38;5;124mq\u001b[39m\u001b[38;5;124m'\u001b[39m:\n\u001b[0;32m      9\u001b[0m     \u001b[38;5;28;01mbreak\u001b[39;00m\n\u001b[1;32m---> 10\u001b[0m answer \u001b[38;5;241m=\u001b[39m \u001b[38;5;28;43mint\u001b[39;49m\u001b[43m(\u001b[49m\u001b[43mfirst_number\u001b[49m\u001b[43m)\u001b[49m\u001b[43m \u001b[49m\u001b[38;5;241;43m/\u001b[39;49m\u001b[43m \u001b[49m\u001b[38;5;28;43mint\u001b[39;49m\u001b[43m(\u001b[49m\u001b[43msecond_number\u001b[49m\u001b[43m)\u001b[49m\n\u001b[0;32m     11\u001b[0m \u001b[38;5;28mprint\u001b[39m(answr)\n",
      "\u001b[1;31mZeroDivisionError\u001b[0m: division by zero"
     ]
    }
   ],
   "source": [
    "print(\"Give me two numbers, and i'll divide them.\")\n",
    "print(\"Enter 'q' to quit.\")\n",
    "while True:\n",
    "    first_number = input(\"First number:\")\n",
    "    if first_number == 'q':\n",
    "        break\n",
    "    second_number = input(\"Second number:\")\n",
    "    if second_number == 'q':\n",
    "        break\n",
    "    answer = int(first_number) / int(second_number)\n",
    "    print(answr)"
   ]
  },
  {
   "cell_type": "markdown",
   "id": "0c64ee0a-ca0b-4e49-acdf-93a4df23a851",
   "metadata": {},
   "source": [
    "这可能会导致不怀好意的人根据你的错误进行攻击。"
   ]
  },
  {
   "cell_type": "markdown",
   "id": "b05ae237-f10f-49ab-9a22-0b7d18c7b612",
   "metadata": {},
   "source": [
    "<font size=\"3\"> 10.3.4 else代码块"
   ]
  },
  {
   "cell_type": "code",
   "execution_count": 38,
   "id": "0bb2f073-3ba1-4799-a773-fec281fa1e39",
   "metadata": {},
   "outputs": [
    {
     "name": "stdout",
     "output_type": "stream",
     "text": [
      "Give me two numbers, and i'll divide them.\n",
      "Enter 'q' to quit.\n"
     ]
    },
    {
     "name": "stdin",
     "output_type": "stream",
     "text": [
      "First number: 0\n",
      "Second number: 0\n"
     ]
    },
    {
     "name": "stdout",
     "output_type": "stream",
     "text": [
      "You can't divide by 0!\n"
     ]
    },
    {
     "name": "stdin",
     "output_type": "stream",
     "text": [
      "First number: q\n"
     ]
    }
   ],
   "source": [
    "print(\"Give me two numbers, and i'll divide them.\")\n",
    "print(\"Enter 'q' to quit.\")\n",
    "while True:\n",
    "    first_number = input(\"First number:\")\n",
    "    if first_number == 'q':\n",
    "        break\n",
    "    second_number = input(\"Second number:\")\n",
    "    if second_number == 'q':\n",
    "        break\n",
    "    try:\n",
    "        answer = int(first_number) / int(second_number)\n",
    "    except ZeroDivisionError:\n",
    "        print(\"You can't divide by 0!\")\n",
    "    else:   \n",
    "        print(answr)"
   ]
  },
  {
   "cell_type": "markdown",
   "id": "b796b791-9a6b-493a-a577-2b7f2a8dafa3",
   "metadata": {},
   "source": [
    "通过预测可能发生错误的代码，可编写健壮的程序，它们即便面临无效数据或缺少资料，也能继续运行，从而抵抗无意的用户错误和恶意的攻击。"
   ]
  },
  {
   "cell_type": "markdown",
   "id": "e703fb33-791e-443d-89ff-f7866f957379",
   "metadata": {},
   "source": [
    "<font size=\"3\"> 10.3.5 处理FileNotFoundError异常"
   ]
  },
  {
   "cell_type": "markdown",
   "id": "f2e47e0a-101d-4eb2-a0c4-e1e51a589d14",
   "metadata": {},
   "source": [
    "\n",
    "来尝试读取一个不存在的文件。下面的程序尝试读取alice.txt的内容。"
   ]
  },
  {
   "cell_type": "code",
   "execution_count": 41,
   "id": "07c9fae4-5f1b-4f0f-8cb1-138b1039cf42",
   "metadata": {},
   "outputs": [
    {
     "ename": "FileNotFoundError",
     "evalue": "[Errno 2] No such file or directory: 'alice.txt'",
     "output_type": "error",
     "traceback": [
      "\u001b[1;31m---------------------------------------------------------------------------\u001b[0m",
      "\u001b[1;31mFileNotFoundError\u001b[0m                         Traceback (most recent call last)",
      "Cell \u001b[1;32mIn[41], line 2\u001b[0m\n\u001b[0;32m      1\u001b[0m filename \u001b[38;5;241m=\u001b[39m \u001b[38;5;124m'\u001b[39m\u001b[38;5;124malice.txt\u001b[39m\u001b[38;5;124m'\u001b[39m\n\u001b[1;32m----> 2\u001b[0m \u001b[38;5;28;01mwith\u001b[39;00m \u001b[38;5;28;43mopen\u001b[39;49m\u001b[43m(\u001b[49m\u001b[43mfilename\u001b[49m\u001b[43m)\u001b[49m \u001b[38;5;28;01mas\u001b[39;00m f_obj:\n\u001b[0;32m      3\u001b[0m     contents \u001b[38;5;241m=\u001b[39m f_obj\u001b[38;5;241m.\u001b[39mread()\n",
      "File \u001b[1;32mE:\\Deep learning\\venv\\lib\\site-packages\\IPython\\core\\interactiveshell.py:310\u001b[0m, in \u001b[0;36m_modified_open\u001b[1;34m(file, *args, **kwargs)\u001b[0m\n\u001b[0;32m    303\u001b[0m \u001b[38;5;28;01mif\u001b[39;00m file \u001b[38;5;129;01min\u001b[39;00m {\u001b[38;5;241m0\u001b[39m, \u001b[38;5;241m1\u001b[39m, \u001b[38;5;241m2\u001b[39m}:\n\u001b[0;32m    304\u001b[0m     \u001b[38;5;28;01mraise\u001b[39;00m \u001b[38;5;167;01mValueError\u001b[39;00m(\n\u001b[0;32m    305\u001b[0m         \u001b[38;5;124mf\u001b[39m\u001b[38;5;124m\"\u001b[39m\u001b[38;5;124mIPython won\u001b[39m\u001b[38;5;124m'\u001b[39m\u001b[38;5;124mt let you open fd=\u001b[39m\u001b[38;5;132;01m{\u001b[39;00mfile\u001b[38;5;132;01m}\u001b[39;00m\u001b[38;5;124m by default \u001b[39m\u001b[38;5;124m\"\u001b[39m\n\u001b[0;32m    306\u001b[0m         \u001b[38;5;124m\"\u001b[39m\u001b[38;5;124mas it is likely to crash IPython. If you know what you are doing, \u001b[39m\u001b[38;5;124m\"\u001b[39m\n\u001b[0;32m    307\u001b[0m         \u001b[38;5;124m\"\u001b[39m\u001b[38;5;124myou can use builtins\u001b[39m\u001b[38;5;124m'\u001b[39m\u001b[38;5;124m open.\u001b[39m\u001b[38;5;124m\"\u001b[39m\n\u001b[0;32m    308\u001b[0m     )\n\u001b[1;32m--> 310\u001b[0m \u001b[38;5;28;01mreturn\u001b[39;00m io_open(file, \u001b[38;5;241m*\u001b[39margs, \u001b[38;5;241m*\u001b[39m\u001b[38;5;241m*\u001b[39mkwargs)\n",
      "\u001b[1;31mFileNotFoundError\u001b[0m: [Errno 2] No such file or directory: 'alice.txt'"
     ]
    }
   ],
   "source": [
    "filename = 'alice.txt'\n",
    "with open(filename) as f_obj:\n",
    "    contents = f_obj.read()"
   ]
  },
  {
   "cell_type": "code",
   "execution_count": 43,
   "id": "83df27ba-00b8-4094-a4cd-19ccdfa39c40",
   "metadata": {},
   "outputs": [
    {
     "name": "stdout",
     "output_type": "stream",
     "text": [
      "sorry,the file alice.txt doesnt exist.\n"
     ]
    }
   ],
   "source": [
    "filename = 'alice.txt'\n",
    "try:\n",
    "    with open(filename) as f_obj:\n",
    "        contents = f_obj.read()\n",
    "except FileNotFoundError:\n",
    "    msg = \"sorry,the file \" + filename + \" doesnt exist.\"\n",
    "    print(msg)"
   ]
  },
  {
   "cell_type": "markdown",
   "id": "d2e7b809-62ab-4892-a7aa-49b313235de0",
   "metadata": {},
   "source": [
    "<font size=\"3\"> 10.3.6 分析文本"
   ]
  },
  {
   "cell_type": "markdown",
   "id": "182a6a00-6d93-4d8c-b8d4-0fcfc93dd5c1",
   "metadata": {},
   "source": [
    "尝试提取Alice in Wonderland的文本，并尝试计算它包含多少个单词。 方法split()可以根据字符串创建一个单词列表。"
   ]
  },
  {
   "cell_type": "code",
   "execution_count": 45,
   "id": "5aa7b1af-6b50-46c5-9a78-3e0d280d9054",
   "metadata": {},
   "outputs": [
    {
     "name": "stdout",
     "output_type": "stream",
     "text": [
      "The file alice.txthas about 17868 words.\n"
     ]
    }
   ],
   "source": [
    "filename = 'alice.txt'\n",
    "try:\n",
    "    with open(filename,encoding='utf-8') as f_obj:\n",
    "        contents = f_obj.read()\n",
    "except FileNotFoundError:\n",
    "    msg = \"sorry,the file \" + filename + \" doesnt exist.\"\n",
    "    print(msg)\n",
    "else:\n",
    "    #计算大致包含多少个单词\n",
    "    words = contents.split()\n",
    "    num_words = len(words)\n",
    "    print(\"The file \" + filename + \"has about \" + str(num_words) + \" words.\")"
   ]
  },
  {
   "cell_type": "markdown",
   "id": "615635e3-03b2-447e-8e3d-2095ba4977d3",
   "metadata": {},
   "source": [
    "<font size=\"3\"> 10.3.7 使用多个文件"
   ]
  },
  {
   "cell_type": "markdown",
   "id": "e00c267c-a43f-4d36-816b-2b1a8afa738f",
   "metadata": {},
   "source": [
    "先将上述内容 用函数来表达"
   ]
  },
  {
   "cell_type": "code",
   "execution_count": 50,
   "id": "e4067e94-03eb-4c13-b3f1-1a22b3af53c5",
   "metadata": {},
   "outputs": [],
   "source": [
    "def count_words(filename):\n",
    "    \"\"\"计算一个文件大致包括多少个单词\"\"\"\n",
    "    try:\n",
    "        with open(filename,encoding='utf-8') as f_obj:\n",
    "            contents = f_obj.read()\n",
    "    except FileNotFoundError:\n",
    "        msg = \"sorry,the file \" + filename + \" doesnt exist.\"\n",
    "        print(msg)\n",
    "    else:\n",
    "        #计算大致包含多少个单词\n",
    "        words = contents.split()\n",
    "        num_words = len(words)\n",
    "        print(\"The file \" + filename + \"has about \" + str(num_words) + \" words.\")"
   ]
  },
  {
   "cell_type": "code",
   "execution_count": 51,
   "id": "db6a48b7-4e10-43ae-972b-af0306b3e6cf",
   "metadata": {},
   "outputs": [
    {
     "name": "stdout",
     "output_type": "stream",
     "text": [
      "The file alice.txthas about 17868 words.\n"
     ]
    }
   ],
   "source": [
    "filename = 'alice.txt'\n",
    "count_words(filename)"
   ]
  },
  {
   "cell_type": "markdown",
   "id": "10731272-fea1-4976-bae5-799dbe11bce2",
   "metadata": {},
   "source": [
    "将要分析的文件的名称存储在一个列表中，对列表中的每个文件都调用count_words(). "
   ]
  },
  {
   "cell_type": "code",
   "execution_count": 52,
   "id": "96f4c193-92a0-4bf2-8017-9e35e0ae0020",
   "metadata": {},
   "outputs": [
    {
     "name": "stdout",
     "output_type": "stream",
     "text": [
      "The file alice.txthas about 17868 words.\n",
      "sorry,the file siddhartha.txt doesnt exist.\n",
      "The file learning_python.txthas about 5 words.\n"
     ]
    }
   ],
   "source": [
    "filenames = ['alice.txt','siddhartha.txt','learning_python.txt']\n",
    "for filename in filenames:\n",
    "    count_words(filename)"
   ]
  },
  {
   "cell_type": "markdown",
   "id": "0efc6237-7b79-4e6d-8549-51c27cc1d86a",
   "metadata": {},
   "source": [
    "在这个示例中，try-except代码块提供了两个重要作用。 一、避免让用户看到traceback； 二、还能继续分析能够找到的其他文件。"
   ]
  },
  {
   "cell_type": "markdown",
   "id": "6ae22e9a-627d-431f-b76c-245a2272c4aa",
   "metadata": {},
   "source": [
    "<font size=\"3\"> 10.3.8 一声不吭"
   ]
  },
  {
   "cell_type": "markdown",
   "id": "96278005-23ce-4878-8070-67956166e1c6",
   "metadata": {},
   "source": [
    "可以用pass语句，让Python什么都不做。"
   ]
  },
  {
   "cell_type": "code",
   "execution_count": 54,
   "id": "4a82b5b2-967b-4272-b027-a38adbb4fb04",
   "metadata": {},
   "outputs": [
    {
     "name": "stdout",
     "output_type": "stream",
     "text": [
      "The file alice.txthas about 17868 words.\n",
      "The file learning_python.txthas about 5 words.\n"
     ]
    }
   ],
   "source": [
    "def count_words(filename):\n",
    "    \"\"\"计算一个文件大致包括多少个单词\"\"\"\n",
    "    try:\n",
    "        with open(filename,encoding='utf-8') as f_obj:\n",
    "            contents = f_obj.read()\n",
    "    except FileNotFoundError:\n",
    "        pass\n",
    "    else:\n",
    "        #计算大致包含多少个单词\n",
    "        words = contents.split()\n",
    "        num_words = len(words)\n",
    "        print(\"The file \" + filename + \"has about \" + str(num_words) + \" words.\")\n",
    "\n",
    "filenames = ['alice.txt','siddhartha.txt','learning_python.txt']\n",
    "for filename in filenames:\n",
    "    count_words(filename)"
   ]
  },
  {
   "cell_type": "markdown",
   "id": "b2b7750a-abe0-478f-819d-5ea6d5cbb506",
   "metadata": {},
   "source": [
    "但这样不会有任何迹象表明有一个文件没有找到。"
   ]
  },
  {
   "cell_type": "markdown",
   "id": "084fdee3-2d7e-4921-a73f-47467494780c",
   "metadata": {},
   "source": [
    "<font size=\"4\"> 10.4 存储数据"
   ]
  },
  {
   "cell_type": "markdown",
   "id": "fc8e00a0-987b-42c6-8c93-0059cab40145",
   "metadata": {},
   "source": [
    "很多程序都需要用户输入信息，然后存储在列表和字典等数据结构中。关闭程序时，需要保存提供的信息；一种简单的方式是使用模块json来存储数据"
   ]
  },
  {
   "cell_type": "markdown",
   "id": "f9a814a3-b194-47a8-b64f-84749e4769d0",
   "metadata": {},
   "source": [
    "模块json让人能将简单的PYthon数据结构存储到文件中，并在程序再次运行时加载该文件中的数据。"
   ]
  },
  {
   "cell_type": "markdown",
   "id": "0607e5aa-fd32-469d-8211-bff36c98a8a9",
   "metadata": {},
   "source": [
    "还可以使用json在Python程序中分享数据，并且这种数据格式可以与其他语言共享使用。"
   ]
  },
  {
   "cell_type": "markdown",
   "id": "0309a033-3bc4-4bbe-9bd0-000f5406445f",
   "metadata": {},
   "source": [
    "<font size=\"3\"> 10.4.1 使用json.dump()和json.load()"
   ]
  },
  {
   "cell_type": "markdown",
   "id": "74793814-c63e-4027-a4fe-0f3c8cb963aa",
   "metadata": {},
   "source": [
    "编写一个存储一组数字的简短程序，再编写一个讲这些数字读取到内存中的程序。"
   ]
  },
  {
   "cell_type": "markdown",
   "id": "9db714d2-c6df-4f5c-a3ab-bf300a07bf82",
   "metadata": {},
   "source": [
    "函数json.dump()接受两个实参：要存储的数据以及可以用于存储数据的文件对象。"
   ]
  },
  {
   "cell_type": "code",
   "execution_count": 3,
   "id": "f02ec707-3c89-4e5c-918f-e964ba283abe",
   "metadata": {},
   "outputs": [],
   "source": [
    "import json\n",
    "numbers = [2,3,5,7,11,13]\n",
    "filename = 'numbers.json'\n",
    "with open(filename,'w') as f_obj:\n",
    "    json.dump(numbers,f_obj)"
   ]
  },
  {
   "cell_type": "markdown",
   "id": "ae6d2d49-9415-48a3-9080-7679b41fe2b0",
   "metadata": {},
   "source": [
    "再编写一个程序，使用json.load()将这个列表读取到内存中："
   ]
  },
  {
   "cell_type": "code",
   "execution_count": 4,
   "id": "ea86b6ed-507b-4f79-86a2-e59cfd02363d",
   "metadata": {},
   "outputs": [
    {
     "name": "stdout",
     "output_type": "stream",
     "text": [
      "[2, 3, 5, 7, 11, 13]\n"
     ]
    }
   ],
   "source": [
    "import json\n",
    "filename = 'numbers.json'\n",
    "with open(filename) as f_obj:\n",
    "    numbers = json.load(f_obj)\n",
    "print(numbers)"
   ]
  },
  {
   "cell_type": "markdown",
   "id": "f07ce002-847c-43ae-89fe-a59e4d2c4f20",
   "metadata": {},
   "source": [
    "这是一种在程序之间共享数据的简单方式。"
   ]
  },
  {
   "cell_type": "markdown",
   "id": "802e01ba-98b2-4a21-958d-45b39efb549d",
   "metadata": {},
   "source": [
    "<font size=\"3\"> 10.4.2 保存和读取用户生成的数据"
   ]
  },
  {
   "cell_type": "markdown",
   "id": "7cd0244a-90a0-43e6-bad3-4c1a258a49a9",
   "metadata": {},
   "source": [
    "用户首次运行程序时被提示输入自己的名字，这样再次运行程序就被记住了。"
   ]
  },
  {
   "cell_type": "code",
   "execution_count": 10,
   "id": "4d60e2cf-6e44-46ce-9bfa-48bd9988433b",
   "metadata": {},
   "outputs": [
    {
     "name": "stdin",
     "output_type": "stream",
     "text": [
      "What's your name? 3wfeg\n"
     ]
    },
    {
     "name": "stdout",
     "output_type": "stream",
     "text": [
      "We'll remember you when you come back,3wfeg!\n"
     ]
    }
   ],
   "source": [
    "#先存储用户的名字\n",
    "import json\n",
    "username = input(\"What's your name?\")\n",
    "filename = 'username.json'\n",
    "with open(filename,'w') as f_obj:\n",
    "    json.dump(username,f_obj)\n",
    "    print(\"We'll remember you when you come back,\" + username + \"!\")"
   ]
  },
  {
   "cell_type": "code",
   "execution_count": 11,
   "id": "4f4c019b-1adb-47dc-abb7-ddb9de5ab386",
   "metadata": {},
   "outputs": [
    {
     "name": "stdout",
     "output_type": "stream",
     "text": [
      "Welcome back,3wfeg!\n"
     ]
    }
   ],
   "source": [
    "import json\n",
    "filename = 'username.json'\n",
    "with open(filename) as f_obj:\n",
    "    username = json.load(f_obj)\n",
    "    print(\"Welcome back,\" + username +\"!\")"
   ]
  },
  {
   "cell_type": "markdown",
   "id": "41ef8492-36fb-4710-97ae-f247316dc7a0",
   "metadata": {},
   "source": [
    "合并这两段内容"
   ]
  },
  {
   "cell_type": "code",
   "execution_count": 13,
   "id": "f8b5acca-4c05-4059-bc55-5a93d702de90",
   "metadata": {},
   "outputs": [
    {
     "name": "stdout",
     "output_type": "stream",
     "text": [
      "Welcome back,3wfeg!\n"
     ]
    }
   ],
   "source": [
    "import json\n",
    "#如果以前存储用户名 就加载它\n",
    "#否则，就提示用户输入名并存储它\n",
    "filename = 'username.json'\n",
    "try:\n",
    "    with open(filename) as f_obj:\n",
    "        username = json.load(f_obj)\n",
    "except FileNotFoundError:\n",
    "    username = input(\"What's your name?\")\n",
    "    with open(filename,'w') as f_obj:\n",
    "        json.dump(username,f_obj)\n",
    "        print(\"We'll remember you when you come back,\" + username + \"!\")\n",
    "else:\n",
    "    print(\"Welcome back,\" + username +\"!\")"
   ]
  },
  {
   "cell_type": "markdown",
   "id": "5699f06f-5925-418e-ae0d-2889c2fc4b41",
   "metadata": {},
   "source": [
    "<font size=\"3\"> 10.4.3 重构"
   ]
  },
  {
   "cell_type": "markdown",
   "id": "f0d23dbb-7b26-4b9f-8bec-0b3138d55e13",
   "metadata": {},
   "source": [
    "代码可以正确运行，但可以做进一步改进，划分为一系列完成具体工作的程序"
   ]
  },
  {
   "cell_type": "code",
   "execution_count": 19,
   "id": "cf429052-dba4-494c-bb7f-a98092efb168",
   "metadata": {},
   "outputs": [
    {
     "name": "stdout",
     "output_type": "stream",
     "text": [
      "Welcome back,3wfeg!\n"
     ]
    }
   ],
   "source": [
    "import json\n",
    "def greet_user():\n",
    "    filename = 'username.json'\n",
    "    try:\n",
    "        with open(filename) as f_obj:\n",
    "            username = json.load(f_obj)\n",
    "    except FileNotFoundError:\n",
    "        username = input(\"What's your name?\")\n",
    "        with open(filename,'w') as f_obj:\n",
    "            json.dump(username,f_obj)\n",
    "            print(\"We'll remember you when you come back,\" + username + \"!\")\n",
    "    else:\n",
    "        print(\"Welcome back,\" + username +\"!\")\n",
    "\n",
    "greet_user()"
   ]
  },
  {
   "cell_type": "markdown",
   "id": "d9ec541f-727b-4af6-8971-ecb361b14056",
   "metadata": {},
   "source": [
    "但其实还可以划分更明确详细一些。"
   ]
  },
  {
   "cell_type": "code",
   "execution_count": 23,
   "id": "8c1062b9-9d7a-4f5d-b32b-406cc3484a40",
   "metadata": {},
   "outputs": [
    {
     "name": "stdout",
     "output_type": "stream",
     "text": [
      "Welcome back,3wfeg!\n"
     ]
    }
   ],
   "source": [
    "import json\n",
    "def get_stored_username():\n",
    "    \"\"\"如果存储了用户名，就获取它\"\"\" \n",
    "    filename = 'username.json'\n",
    "    try:\n",
    "        with open(filename) as f_obj:\n",
    "            username = json.load(f_obj)\n",
    "    except FileNotFoundError:\n",
    "        return None \n",
    "    else:\n",
    "        return username\n",
    "def get_new_username():\n",
    "    \"\"\"提示用户输入用户名\"\"\"\n",
    "    username = input(\"What is your name?\")\n",
    "    filename = 'username.json'\n",
    "    with open(filename,'w') as f_obj:\n",
    "        json.dump(username,f_obj)\n",
    "    return username\n",
    "def greet_user():\n",
    "    \"\"\"问候用户，并指出其名字\"\"\"\n",
    "    username = get_stored_username()\n",
    "    if username:\n",
    "        print(\"Welcome back,\"+username+\"!\")\n",
    "    else:\n",
    "        username = get_new_username()\n",
    "        print(\"We'll remember you when you come back,\"+username+\"!\")\n",
    "        \n",
    "greet_user()"
   ]
  },
  {
   "cell_type": "code",
   "execution_count": null,
   "id": "86cdc770-672b-4a83-bb70-086c5129bffe",
   "metadata": {},
   "outputs": [],
   "source": []
  }
 ],
 "metadata": {
  "kernelspec": {
   "display_name": "Python 3 (ipykernel)",
   "language": "python",
   "name": "python3"
  },
  "language_info": {
   "codemirror_mode": {
    "name": "ipython",
    "version": 3
   },
   "file_extension": ".py",
   "mimetype": "text/x-python",
   "name": "python",
   "nbconvert_exporter": "python",
   "pygments_lexer": "ipython3",
   "version": "3.9.9"
  },
  "widgets": {
   "application/vnd.jupyter.widget-state+json": {
    "state": {},
    "version_major": 2,
    "version_minor": 0
   }
  }
 },
 "nbformat": 4,
 "nbformat_minor": 5
}
