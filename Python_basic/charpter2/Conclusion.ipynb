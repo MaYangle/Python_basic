{
 "cells": [
  {
   "cell_type": "markdown",
   "id": "065cd466-d80f-4d69-9e61-ffc4dd0e5378",
   "metadata": {},
   "source": [
    "2.3.1\n",
    "    title()以首字母大写的方式显示每个单词，即将每个单词的首字母都改为大写。\n",
    "    \n",
    "    upper()字符串全改为大写\n",
    "    lower()字符串全改为小写\n",
    "    存储数据时，很多情况下需要依靠用户来提供正确的大小写，因此需要将字符串先转换为小写，再去存储。"
   ]
  },
  {
   "cell_type": "markdown",
   "id": "a6bbe53a-e858-49a3-b7d3-b28a89ac4ea6",
   "metadata": {},
   "source": [
    "2.3.2 合并（拼接）字符串\n",
    "    很多情况下，需要合并字符串。比如可能想把姓和名存储在不同的变量中，等要显示姓名时再合而为一"
   ]
  },
  {
   "cell_type": "code",
   "execution_count": 4,
   "id": "b01bfd60-c6d3-4214-a824-f5da3bb222cb",
   "metadata": {},
   "outputs": [
    {
     "name": "stdout",
     "output_type": "stream",
     "text": [
      "ada lovelace\n",
      "HelloAda Lovelace!\n"
     ]
    }
   ],
   "source": [
    "first_name = 'ada'\n",
    "last_name = 'lovelace'\n",
    "full_name = first_name + \" \" +last_name\n",
    "print(full_name)\n",
    "#这种合并字符串的方法称为拼接。通过拼接，可以使用存储在变量中的信息来创建完整的信息。\n",
    "print(\"Hello\" + full_name.title() + \"!\")"
   ]
  },
  {
   "cell_type": "markdown",
   "id": "07ea9f64-b236-42c8-8ef0-b37a6e085778",
   "metadata": {},
   "source": [
    "2.3.3 使用制表符或换行符来添加空白\n",
    "\n",
    "    在编程中，空白泛指任何非打印字符，如空格、制表符和换行符、\n",
    "    在字符串中添加制表符，可使用字符组合\\t"
   ]
  },
  {
   "cell_type": "code",
   "execution_count": 5,
   "id": "90e130b6-fe11-4487-85c4-33db0a4c0dbd",
   "metadata": {},
   "outputs": [
    {
     "name": "stdout",
     "output_type": "stream",
     "text": [
      "\tpython\n"
     ]
    }
   ],
   "source": [
    "print(\"\\tpython\")"
   ]
  },
  {
   "cell_type": "code",
   "execution_count": 11,
   "id": "8bc89f79-2cc2-434e-b5b5-515af417ccb2",
   "metadata": {},
   "outputs": [
    {
     "name": "stdout",
     "output_type": "stream",
     "text": [
      "Language：\n",
      "Python\n",
      "C\n",
      "JaveScript\n",
      "Language:\n",
      "\tPython\n",
      "\tC\n",
      "\tJava\n"
     ]
    }
   ],
   "source": [
    "#在字符串中添加换行符，可使用字符组合\\n:\n",
    "print(\"Language：\\nPython\\nC\\nJaveScript\")\n",
    "#还可以同时包含制表符和换行符 \"\\n\\t\"\n",
    "print(\"Language:\\n\\tPython\\n\\tC\\n\\tJava\")"
   ]
  },
  {
   "cell_type": "markdown",
   "id": "6bf0cb3f-d74d-48b1-9e23-8b84ff64c982",
   "metadata": {},
   "source": [
    " 2.3.4 删除空白\n",
    " \n",
    "    空白很重要，经常需要比较两个字符串是否相等\n",
    "    Python能够找出字符串开头和末尾多余的空白\n",
    "    如果只删除 不赋回原值的话 那么删除就是暂时的\n",
    "    strip()将字符串两端空白删除\n",
    "    lstrip()将左端空白删除\n",
    "    rstrip()将右端空白删除\n",
    "    在实际程序中，这些剥除函数最常用于存储用户输入前对其进行清理\n",
    "    \n",
    "    2.3.5 使用字符串时避免语法错误\n",
    "    例如，在用单括号括起的字符串中，如果包含撇号，就会导致错误、\n",
    "    这是因为Python将第一个单括号和撇号之间的内容视为一个字符串，进而将余下的文本视为Python代码，从而引起错误。"
   ]
  },
  {
   "cell_type": "code",
   "execution_count": null,
   "id": "326eedce-d84c-4f4d-b29d-a2cd407a6702",
   "metadata": {},
   "outputs": [],
   "source": []
  }
 ],
 "metadata": {
  "kernelspec": {
   "display_name": "Python 3 (ipykernel)",
   "language": "python",
   "name": "python3"
  },
  "language_info": {
   "codemirror_mode": {
    "name": "ipython",
    "version": 3
   },
   "file_extension": ".py",
   "mimetype": "text/x-python",
   "name": "python",
   "nbconvert_exporter": "python",
   "pygments_lexer": "ipython3",
   "version": "3.9.9"
  },
  "widgets": {
   "application/vnd.jupyter.widget-state+json": {
    "state": {},
    "version_major": 2,
    "version_minor": 0
   }
  }
 },
 "nbformat": 4,
 "nbformat_minor": 5
}
