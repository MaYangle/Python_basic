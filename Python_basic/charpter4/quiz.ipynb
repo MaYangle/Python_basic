{
 "cells": [
  {
   "cell_type": "markdown",
   "id": "04f28fb8-a7a9-479e-9b79-b88f710de2f1",
   "metadata": {},
   "source": [
    "<font size=\"4\">4.1 披萨"
   ]
  },
  {
   "cell_type": "code",
   "execution_count": 3,
   "id": "675eb710-474f-4d6c-a9d9-de65fb1c4f1e",
   "metadata": {},
   "outputs": [
    {
     "name": "stdout",
     "output_type": "stream",
     "text": [
      "raw\n",
      "apple\n",
      "steak\n",
      "pineapple\n"
     ]
    }
   ],
   "source": [
    "pizzas = ['raw','apple','steak','pineapple']\n",
    "for pizza in pizzas:\n",
    "    print(pizza)"
   ]
  },
  {
   "cell_type": "code",
   "execution_count": 4,
   "id": "dca4ff1a-fa0b-4e92-bfcc-1798686d4376",
   "metadata": {},
   "outputs": [
    {
     "name": "stdout",
     "output_type": "stream",
     "text": [
      "I like raw pizza\n",
      "I like apple pizza\n",
      "I like steak pizza\n",
      "I like pineapple pizza\n"
     ]
    }
   ],
   "source": [
    "for pizza in pizzas:\n",
    "    print(\"I like \" + pizza + \" pizza\")"
   ]
  },
  {
   "cell_type": "code",
   "execution_count": 5,
   "id": "3d926c43-b470-4ba9-a56e-4ab002c6a6b1",
   "metadata": {},
   "outputs": [
    {
     "name": "stdout",
     "output_type": "stream",
     "text": [
      "I like raw pizza\n",
      "I like apple pizza\n",
      "I like steak pizza\n",
      "I like pineapple pizza\n",
      "I really love pizza!\n"
     ]
    }
   ],
   "source": [
    "for pizza in pizzas:\n",
    "    print(\"I like \" + pizza + \" pizza\")\n",
    "print(\"I really love pizza!\")"
   ]
  },
  {
   "cell_type": "markdown",
   "id": "752f88a0-c673-412c-9b68-14bd2ec9ca0c",
   "metadata": {},
   "source": [
    "<font size=\"4\"> 4.2 动物"
   ]
  },
  {
   "cell_type": "code",
   "execution_count": 6,
   "id": "a4a00309-9754-4dcc-8e07-a49db3023b97",
   "metadata": {},
   "outputs": [],
   "source": [
    "animals = ['dog','cat','elephant']"
   ]
  },
  {
   "cell_type": "code",
   "execution_count": 7,
   "id": "fd451344-1cc5-45d2-bb44-cfa207257b04",
   "metadata": {},
   "outputs": [
    {
     "name": "stdout",
     "output_type": "stream",
     "text": [
      "dog\n",
      "cat\n",
      "elephant\n"
     ]
    }
   ],
   "source": [
    "for animal in animals:\n",
    "    print(animal)"
   ]
  },
  {
   "cell_type": "code",
   "execution_count": 8,
   "id": "882a9743-26c4-4410-9455-9109a7879c5e",
   "metadata": {},
   "outputs": [
    {
     "name": "stdout",
     "output_type": "stream",
     "text": [
      "A dog would make a great pet!\n",
      "A cat would make a great pet!\n",
      "A elephant would make a great pet!\n",
      "Any of these animals would make a great pet!\n"
     ]
    }
   ],
   "source": [
    "for animal in animals:\n",
    "    print(\"A \"+ animal +\" would make a great pet!\")\n",
    "print(\"Any of these animals would make a great pet!\")"
   ]
  },
  {
   "cell_type": "markdown",
   "id": "f8d30ff8-d52e-4951-8bc8-0f7c17056462",
   "metadata": {},
   "source": [
    "<font size=\"4\"> 4.3-4.4 数到20和100w"
   ]
  },
  {
   "cell_type": "code",
   "execution_count": 10,
   "id": "b8ef68b6-2faa-4089-947b-2b139e217087",
   "metadata": {},
   "outputs": [
    {
     "name": "stdout",
     "output_type": "stream",
     "text": [
      "[1, 2, 3, 4, 5, 6, 7, 8, 9, 10, 11, 12, 13, 14, 15, 16, 17, 18, 19, 20]\n"
     ]
    }
   ],
   "source": [
    "print([i for i in range(1,21)])"
   ]
  },
  {
   "cell_type": "code",
   "execution_count": 12,
   "id": "3995bb79-17c7-4b2a-b6ba-8506a29fa94f",
   "metadata": {},
   "outputs": [
    {
     "name": "stderr",
     "output_type": "stream",
     "text": [
      "IOPub data rate exceeded.\n",
      "The Jupyter server will temporarily stop sending output\n",
      "to the client in order to avoid crashing it.\n",
      "To change this limit, set the config variable\n",
      "`--ServerApp.iopub_data_rate_limit`.\n",
      "\n",
      "Current values:\n",
      "ServerApp.iopub_data_rate_limit=1000000.0 (bytes/sec)\n",
      "ServerApp.rate_limit_window=3.0 (secs)\n",
      "\n"
     ]
    }
   ],
   "source": [
    "# print([i for i in range(1,1000001)])"
   ]
  },
  {
   "cell_type": "markdown",
   "id": "ac538cc6-c1e0-433f-8862-3176280c62d7",
   "metadata": {},
   "source": [
    "<font size=\"4\"> 4.5 计算1-1000000的总和"
   ]
  },
  {
   "cell_type": "code",
   "execution_count": 1,
   "id": "b7d3063e-6298-4208-b665-af25456e80e2",
   "metadata": {},
   "outputs": [],
   "source": [
    "long = [i for i in range(1,1000001)]"
   ]
  },
  {
   "cell_type": "code",
   "execution_count": 6,
   "id": "8fc516b0-30b4-4a27-aa86-bb93dce1fcac",
   "metadata": {},
   "outputs": [
    {
     "name": "stdout",
     "output_type": "stream",
     "text": [
      "最小值为 1\n",
      "最大值为 1000000\n"
     ]
    }
   ],
   "source": [
    "print(\"最小值为 \" + str(min(long)))\n",
    "print(\"最大值为 \" + str(max(long)))"
   ]
  },
  {
   "cell_type": "code",
   "execution_count": 7,
   "id": "fbaacbbf-b5e0-449d-9983-a5a0ada2f6f1",
   "metadata": {},
   "outputs": [
    {
     "name": "stdout",
     "output_type": "stream",
     "text": [
      "列表总和为 500000500000\n"
     ]
    }
   ],
   "source": [
    "print(\"列表总和为 \" + str(sum(long)))"
   ]
  },
  {
   "cell_type": "markdown",
   "id": "8afd9816-fe56-43a3-be55-5546666be3d7",
   "metadata": {},
   "source": [
    "<font size=\"4\"> 4.6 奇数"
   ]
  },
  {
   "cell_type": "code",
   "execution_count": 9,
   "id": "7dca0242-17cf-49b8-96b4-6a26b9d2650e",
   "metadata": {},
   "outputs": [
    {
     "name": "stdout",
     "output_type": "stream",
     "text": [
      "[1, 3, 5, 7, 9, 11, 13, 15, 17, 19]\n"
     ]
    }
   ],
   "source": [
    "print([i for i in range(1,21,2)])"
   ]
  },
  {
   "cell_type": "markdown",
   "id": "0cfbc09c-aa81-46ff-a298-5ecd0bf8e699",
   "metadata": {},
   "source": [
    "<font size=\"4\"> 4.7 3的倍数"
   ]
  },
  {
   "cell_type": "code",
   "execution_count": 18,
   "id": "542d72a9-1a55-4304-a0a1-21f287db32f5",
   "metadata": {},
   "outputs": [
    {
     "name": "stdout",
     "output_type": "stream",
     "text": [
      "[True, False, False, True, False, False, True, False, False, True, False, False, True, False, False, True, False, False, True, False, False, True, False, False, True, False, False, True]\n"
     ]
    }
   ],
   "source": [
    "#下面这个就不行 这样子只会得出判断正确与否\n",
    "print([i%3==0 for i in range(3,31)])"
   ]
  },
  {
   "cell_type": "code",
   "execution_count": 20,
   "id": "55fa415a-474f-4827-a652-6d4c11d14b4d",
   "metadata": {},
   "outputs": [
    {
     "name": "stdout",
     "output_type": "stream",
     "text": [
      "[3, 6, 9, 12, 15, 18, 21, 24, 27, 30]\n"
     ]
    }
   ],
   "source": [
    "#判断语句写后面 才能得到想要的\n",
    "print([i for i in range(3,31) if i%3==0])"
   ]
  },
  {
   "cell_type": "markdown",
   "id": "f7647721-ae3f-4382-9cd0-a1d3dbc3a399",
   "metadata": {},
   "source": [
    "<font size=\"4\"> 4.8-4.9 立方"
   ]
  },
  {
   "cell_type": "code",
   "execution_count": 23,
   "id": "7db1f490-6ef9-4fc7-be7b-a576d29a2820",
   "metadata": {},
   "outputs": [
    {
     "name": "stdout",
     "output_type": "stream",
     "text": [
      "[1, 8, 27, 64, 125, 216, 343, 512, 729, 1000]\n"
     ]
    }
   ],
   "source": [
    "print([i**3 for i in range(1,11)])"
   ]
  },
  {
   "cell_type": "markdown",
   "id": "397c428d-4e7c-481e-8dd6-7134bf458a29",
   "metadata": {},
   "source": [
    "<font size=\"4\"> 4.10 切片"
   ]
  },
  {
   "cell_type": "code",
   "execution_count": 31,
   "id": "881b5b67-31c6-4be5-8262-364b59e19204",
   "metadata": {},
   "outputs": [
    {
     "name": "stdout",
     "output_type": "stream",
     "text": [
      "The first three items in the list are:['dog', 'cat', 'elephant']\n",
      "Three items from the middle of the list are:['cat', 'elephant', 'giraffe']\n",
      "The last three items in the list are:['elephant', 'giraffe', 'panda']\n"
     ]
    }
   ],
   "source": [
    "animals = ['dog','cat','elephant','giraffe','panda']\n",
    "print(\"The first three items in the list are:\" +str(animals[:3]))\n",
    "print(\"Three items from the middle of the list are:\" + str(animals[1:-1]))\n",
    "print(\"The last three items in the list are:\" + str(animals[-3:]))"
   ]
  },
  {
   "cell_type": "markdown",
   "id": "e380a789-368c-4afa-9310-d4d1025051fe",
   "metadata": {},
   "source": [
    "<font size=\"4\"> 4.11 pizza"
   ]
  },
  {
   "cell_type": "code",
   "execution_count": 35,
   "id": "1b97e14d-b739-4d3f-b12b-a7e2589305eb",
   "metadata": {},
   "outputs": [
    {
     "name": "stdout",
     "output_type": "stream",
     "text": [
      "My favorite pizzas are:\n",
      "Raw\n",
      "Apple\n",
      "Steak\n",
      "Pineapple\n",
      "Banana\n",
      "My friend's favorite pizzas are:\n",
      "Raw\n",
      "Apple\n",
      "Steak\n",
      "Pineapple\n",
      "Orange\n"
     ]
    }
   ],
   "source": [
    "pizzas = ['raw','apple','steak','pineapple']\n",
    "friend_pizzas = pizzas[:]\n",
    "pizzas.append('banana')\n",
    "friend_pizzas.append('orange')\n",
    "print(\"My favorite pizzas are:\")\n",
    "for pizza in pizzas:\n",
    "    print(pizza.title())\n",
    "print(\"My friend's favorite pizzas are:\")\n",
    "for pizza in friend_pizzas:\n",
    "    print(pizza.title())"
   ]
  },
  {
   "cell_type": "markdown",
   "id": "65bbf9dc-fa4b-4982-8a79-b221c74d99af",
   "metadata": {},
   "source": [
    "<font size=\"4\"> 4.13 自助餐"
   ]
  },
  {
   "cell_type": "code",
   "execution_count": 37,
   "id": "17fc648b-d5a3-473f-b5ba-ade4e8dcee9c",
   "metadata": {},
   "outputs": [
    {
     "name": "stdout",
     "output_type": "stream",
     "text": [
      "We provide the foods are: noodles\n",
      "We provide the foods are: pizza\n",
      "We provide the foods are: cake\n",
      "We provide the foods are: pork\n",
      "We provide the foods are: steak\n"
     ]
    }
   ],
   "source": [
    "buffets = ('noodles','pizza','cake','pork','steak')\n",
    "for buffet in buffets:\n",
    "    print(\"We provide the foods are: \" + buffet)"
   ]
  },
  {
   "cell_type": "code",
   "execution_count": 38,
   "id": "66d5b72c-f42a-410f-b8d3-78d020434ca4",
   "metadata": {},
   "outputs": [
    {
     "ename": "TypeError",
     "evalue": "'tuple' object does not support item assignment",
     "output_type": "error",
     "traceback": [
      "\u001b[1;31m---------------------------------------------------------------------------\u001b[0m",
      "\u001b[1;31mTypeError\u001b[0m                                 Traceback (most recent call last)",
      "Cell \u001b[1;32mIn[38], line 1\u001b[0m\n\u001b[1;32m----> 1\u001b[0m \u001b[43mbuffets\u001b[49m\u001b[43m[\u001b[49m\u001b[38;5;241;43m0\u001b[39;49m\u001b[43m]\u001b[49m \u001b[38;5;241m=\u001b[39m \u001b[38;5;124m'\u001b[39m\u001b[38;5;124mfish\u001b[39m\u001b[38;5;124m'\u001b[39m\n",
      "\u001b[1;31mTypeError\u001b[0m: 'tuple' object does not support item assignment"
     ]
    }
   ],
   "source": [
    "buffets[0] = 'fish'"
   ]
  },
  {
   "cell_type": "code",
   "execution_count": 39,
   "id": "4817e8ef-457b-4389-b498-4a2865227258",
   "metadata": {},
   "outputs": [
    {
     "name": "stdout",
     "output_type": "stream",
     "text": [
      "We provide the foods are: noodles\n",
      "We provide the foods are: pizza\n",
      "We provide the foods are: vegetables\n",
      "We provide the foods are: simon\n",
      "We provide the foods are: steak\n"
     ]
    }
   ],
   "source": [
    "buffets = ('noodles','pizza','cake','pork','steak')\n",
    "buffets = ('noodles','pizza','vegetables','simon','steak')\n",
    "for buffet in buffets:\n",
    "    print(\"We provide the foods are: \" + buffet)"
   ]
  },
  {
   "cell_type": "code",
   "execution_count": null,
   "id": "2062bcef-3dcd-4b06-b7fd-6e8797c3bc69",
   "metadata": {},
   "outputs": [],
   "source": []
  }
 ],
 "metadata": {
  "kernelspec": {
   "display_name": "Python 3 (ipykernel)",
   "language": "python",
   "name": "python3"
  },
  "language_info": {
   "codemirror_mode": {
    "name": "ipython",
    "version": 3
   },
   "file_extension": ".py",
   "mimetype": "text/x-python",
   "name": "python",
   "nbconvert_exporter": "python",
   "pygments_lexer": "ipython3",
   "version": "3.9.9"
  },
  "widgets": {
   "application/vnd.jupyter.widget-state+json": {
    "state": {},
    "version_major": 2,
    "version_minor": 0
   }
  }
 },
 "nbformat": 4,
 "nbformat_minor": 5
}
