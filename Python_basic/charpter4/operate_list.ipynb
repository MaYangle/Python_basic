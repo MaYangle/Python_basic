{
 "cells": [
  {
   "cell_type": "markdown",
   "id": "ed430d9d-1039-403a-a97c-d542f0bce27a",
   "metadata": {},
   "source": [
    "<font size=\"5\"> 第4章. 操作列表"
   ]
  },
  {
   "cell_type": "markdown",
   "id": "aa05bfc2-1f27-4fd3-97c0-39394a408ff0",
   "metadata": {},
   "source": [
    "<font size=\"4\"> 4.1遍历整个列表"
   ]
  },
  {
   "cell_type": "markdown",
   "id": "48b253cd-904b-44a0-a67b-9b3bbaa4929e",
   "metadata": {},
   "source": [
    "经常需要遍历元素的所有元素，对每个元素执行相同的操作。\n",
    "\n",
    "下面使用for循环来打印魔术师名单中的所有问题"
   ]
  },
  {
   "cell_type": "code",
   "execution_count": 3,
   "id": "ac4ec88a-d9fe-4798-98c4-84c852a57d87",
   "metadata": {},
   "outputs": [
    {
     "name": "stdout",
     "output_type": "stream",
     "text": [
      "alice\n",
      "david\n",
      "carolina\n"
     ]
    }
   ],
   "source": [
    "magicians = ['alice','david','carolina']\n",
    "for magician in magicians:\n",
    "    print(magician)"
   ]
  },
  {
   "cell_type": "markdown",
   "id": "0615235f-ea71-49ed-b409-b82a119e98a3",
   "metadata": {},
   "source": [
    "<font size=\"3\"> 4.1.1 深入地研究循环"
   ]
  },
  {
   "cell_type": "markdown",
   "id": "1a5e9b2d-62aa-45af-a18e-2144edc917f7",
   "metadata": {},
   "source": [
    "循环的概念很重要，它是让计算机自动完成重复工作的常见方式之一："
   ]
  },
  {
   "cell_type": "markdown",
   "id": "03eb408b-262f-40fb-80df-ca453deae06a",
   "metadata": {},
   "source": [
    "<strong> 编写for循环时，对于用于存储列表中每个值的临时变量，可指定任何名称。</strong>"
   ]
  },
  {
   "cell_type": "code",
   "execution_count": 6,
   "id": "c68599ca-856a-4a51-84a8-2c1c4b91209a",
   "metadata": {},
   "outputs": [],
   "source": [
    "#举个例子 项目中的单个项目\n",
    "# for item in list_of_items:"
   ]
  },
  {
   "cell_type": "markdown",
   "id": "d612fc51-f2bf-496c-91d6-7ccdc3ede1f5",
   "metadata": {},
   "source": [
    "这些命名约定有助于你明白for循环中将对每个元素执行的判断。使用单数和复数式名称，可以帮助你判断代码段处理的是单个列表元素还是整个列表。"
   ]
  },
  {
   "cell_type": "markdown",
   "id": "2e758d6b-8cc2-4d22-a093-b374ed349665",
   "metadata": {},
   "source": [
    "<font size=\"3\">  4.1.2在for循环中执行更多的操作"
   ]
  },
  {
   "cell_type": "code",
   "execution_count": 12,
   "id": "2de83379-f2c9-4736-af94-5c53bf42f921",
   "metadata": {
    "jp-MarkdownHeadingCollapsed": true
   },
   "outputs": [
    {
     "name": "stdout",
     "output_type": "stream",
     "text": [
      "Alice,that was a great trick!\n",
      "I can't wait to see your next trick,Alice.\n",
      "\n",
      "David,that was a great trick!\n",
      "I can't wait to see your next trick,David.\n",
      "\n",
      "Carolina,that was a great trick!\n",
      "I can't wait to see your next trick,Carolina.\n",
      "\n"
     ]
    }
   ],
   "source": [
    "for magician in magicians:\n",
    "    print(magician.title()+\",that was a great trick!\")\n",
    "    print(\"I can't wait to see your next trick,\"+magician.title()+\".\\n\")"
   ]
  },
  {
   "cell_type": "markdown",
   "id": "fa16769b-30fd-4df8-bdf5-5a282b481fac",
   "metadata": {},
   "source": [
    "<font size=\"3\"> 4.1.3 在for循环结束后执行一些操作"
   ]
  },
  {
   "cell_type": "code",
   "execution_count": 13,
   "id": "e7b4e7b6-090b-4d50-8ab6-2e671841de4e",
   "metadata": {},
   "outputs": [
    {
     "name": "stdout",
     "output_type": "stream",
     "text": [
      "Alice,that was a great trick!\n",
      "I can't wait to see your next trick,Alice.\n",
      "\n",
      "David,that was a great trick!\n",
      "I can't wait to see your next trick,David.\n",
      "\n",
      "Carolina,that was a great trick!\n",
      "I can't wait to see your next trick,Carolina.\n",
      "\n",
      "Thank you,everyone.That was a great magic show!\n"
     ]
    }
   ],
   "source": [
    "for magician in magicians:\n",
    "    print(magician.title()+\",that was a great trick!\")\n",
    "    print(\"I can't wait to see your next trick,\"+magician.title()+\".\\n\")\n",
    "print(\"Thank you,everyone.That was a great magic show!\")"
   ]
  },
  {
   "cell_type": "markdown",
   "id": "8f4bf758-7c50-4166-a8a3-6e84883b5110",
   "metadata": {},
   "source": [
    "要注意缩进与否的区别"
   ]
  },
  {
   "cell_type": "markdown",
   "id": "37a212dd-aad9-4e71-8a20-f4f270dcfb08",
   "metadata": {},
   "source": [
    "<font size=\"4\"> 4.2 避免缩进错误"
   ]
  },
  {
   "cell_type": "markdown",
   "id": "475f189e-ba46-406f-be93-b58c536a4d9b",
   "metadata": {},
   "source": [
    "这些问题我就不叙述在这里了，总之要理清楚逻辑"
   ]
  },
  {
   "cell_type": "markdown",
   "id": "e78f311a-b2a9-44cd-be8f-79b4711b6aae",
   "metadata": {},
   "source": [
    "<font size=\"4\"> 4.3 创建数值列表"
   ]
  },
  {
   "cell_type": "markdown",
   "id": "f09267fd-e8fa-407b-9e46-4a3f8f7db9b4",
   "metadata": {},
   "source": [
    "存储数字的原因有很多，数字可视化的内容都需要之前存储好的数字集合。"
   ]
  },
  {
   "cell_type": "markdown",
   "id": "18fded89-aeef-4abc-9028-0026ed846b42",
   "metadata": {},
   "source": [
    "列表适合用于存储数字集合，Python提供很多工作来高效处理相关数字列表。"
   ]
  },
  {
   "cell_type": "markdown",
   "id": "0d799a9c-eeba-4ce8-984d-a8db8215bc75",
   "metadata": {},
   "source": [
    "<font size=\"3\"> 4.3.1 使用函数range()"
   ]
  },
  {
   "cell_type": "markdown",
   "id": "def33e17-0a0d-463f-bc72-2c20bb377ffa",
   "metadata": {},
   "source": [
    "Python函数range()能轻松生成一系列的数字"
   ]
  },
  {
   "cell_type": "code",
   "execution_count": 17,
   "id": "2b236f80-9f3a-4b5e-b83f-0d3e9702e470",
   "metadata": {},
   "outputs": [
    {
     "name": "stdout",
     "output_type": "stream",
     "text": [
      "1\n",
      "2\n",
      "3\n",
      "4\n"
     ]
    }
   ],
   "source": [
    "for value in range(1,5):\n",
    "    print(value)"
   ]
  },
  {
   "cell_type": "markdown",
   "id": "0e86c11e-4fd1-489b-bd78-05786902cde2",
   "metadata": {},
   "source": [
    "函数range()让python从你指定的第一个数开始，并在到达你指定的第二个值后停止。"
   ]
  },
  {
   "cell_type": "markdown",
   "id": "fc87e247-e4ca-4272-b458-edb0bfe07b7b",
   "metadata": {},
   "source": [
    "使用range()时，如果输出不符预期，尝试将指定的值加1或减1"
   ]
  },
  {
   "cell_type": "markdown",
   "id": "274a9e6f-db86-404a-8624-13b475ab371c",
   "metadata": {},
   "source": [
    "<font size=\"3\"> 4.3.2 使用range()创建数字列表"
   ]
  },
  {
   "cell_type": "markdown",
   "id": "21bf74f1-22b9-4858-b888-206884149ead",
   "metadata": {},
   "source": [
    "要创建数字列表，可以使用函数list()将range()的结果转换为列表。如果将range()作为list()的参数，输出将为一个数字列表。"
   ]
  },
  {
   "cell_type": "code",
   "execution_count": 21,
   "id": "34662b37-d23f-4ff6-a948-da168718216f",
   "metadata": {},
   "outputs": [
    {
     "name": "stdout",
     "output_type": "stream",
     "text": [
      "[1, 2, 3, 4, 5]\n"
     ]
    }
   ],
   "source": [
    "numbers = list(range(1,6))\n",
    "print(numbers)"
   ]
  },
  {
   "cell_type": "markdown",
   "id": "3d1377f1-647b-4f5c-b733-552077fb0dda",
   "metadata": {},
   "source": [
    "使用函数range()时，还可指定步长。例如，下面的代码打印1-10内的偶数"
   ]
  },
  {
   "cell_type": "code",
   "execution_count": 22,
   "id": "59990f2f-8366-43b7-8df6-3e54a189a16f",
   "metadata": {},
   "outputs": [
    {
     "name": "stdout",
     "output_type": "stream",
     "text": [
      "[2, 4, 6, 8, 10]\n"
     ]
    }
   ],
   "source": [
    "even_numbers = list(range(2,11,2))\n",
    "print(even_numbers)"
   ]
  },
  {
   "cell_type": "markdown",
   "id": "f7462729-e2ce-4b96-bec2-8073b661300e",
   "metadata": {},
   "source": [
    "函数range()几乎能创建任何需要的数字集，例如，如何创建一个列表，其中包含前10个整数的平方?"
   ]
  },
  {
   "cell_type": "code",
   "execution_count": 24,
   "id": "3583ff52-9538-4d4b-a00b-b30cda9d2a26",
   "metadata": {},
   "outputs": [
    {
     "name": "stdout",
     "output_type": "stream",
     "text": [
      "[1, 4, 9, 16, 25, 36, 49, 64, 81, 100]\n"
     ]
    }
   ],
   "source": [
    "squares = []\n",
    "for value in range(1,11):\n",
    "    squares.append(value**2)\n",
    "print(squares)"
   ]
  },
  {
   "cell_type": "markdown",
   "id": "92983214-cce8-4e6a-9a28-fac9c10863f0",
   "metadata": {},
   "source": [
    "<font size=\"3\"> 4.3.4 列表解析"
   ]
  },
  {
   "cell_type": "markdown",
   "id": "8344a542-5ade-443d-a3da-741c8149a696",
   "metadata": {},
   "source": [
    "上面介绍的生成列表squares的方式包含三四行代码，而列表解析一行代码就可以做到。"
   ]
  },
  {
   "cell_type": "markdown",
   "id": "6b2592ae-ca99-473d-aa06-fa2522a9e5a0",
   "metadata": {},
   "source": [
    "列表解析将for循环和创建新元素的代码合并成一行，并自动添加新元素，"
   ]
  },
  {
   "cell_type": "code",
   "execution_count": 25,
   "id": "b4a994ad-5067-42c2-8774-3983b075833b",
   "metadata": {},
   "outputs": [
    {
     "name": "stdout",
     "output_type": "stream",
     "text": [
      "[1, 4, 9, 16, 25, 36, 49, 64, 81, 100]\n"
     ]
    }
   ],
   "source": [
    "#同样的内容，但是用列表解析来做\n",
    "squares = [value**2 for value in range(1,11)]\n",
    "print(squares)"
   ]
  },
  {
   "cell_type": "markdown",
   "id": "1e3508d7-8a49-4f3c-b4b3-9a70e5dce0ba",
   "metadata": {},
   "source": [
    "列表解析很值得去练习，会更方便的创建所需的列表。"
   ]
  },
  {
   "cell_type": "markdown",
   "id": "1588f251-81b1-46ce-a636-64abeb4f1e81",
   "metadata": {},
   "source": [
    "<font size=\"4\"> 4.4 使用列表的一部分"
   ]
  },
  {
   "cell_type": "markdown",
   "id": "28925f26-461e-4fdf-80dd-3b70be5e6073",
   "metadata": {},
   "source": [
    "与上一章如何处理单个列表元素不同，Python还可以处理列表的所有和部分元素（Python称为切片）"
   ]
  },
  {
   "cell_type": "markdown",
   "id": "d7b7835e-c397-4282-9e1f-bba79729ba6e",
   "metadata": {},
   "source": [
    "<font size=\"3\"> 4.4.1 切片"
   ]
  },
  {
   "cell_type": "markdown",
   "id": "8c228042-58da-4d7a-81ed-9a8ee1f0525d",
   "metadata": {},
   "source": [
    "要创建切片，可以指定要使用的第一个元素和最后一个元素的索引。 与函数range()一样，Python在到达指定的第二个索引前面的元素后停止。"
   ]
  },
  {
   "cell_type": "code",
   "execution_count": 3,
   "id": "65bd723f-8fb9-45bc-b50f-1b60c050e840",
   "metadata": {},
   "outputs": [
    {
     "name": "stdout",
     "output_type": "stream",
     "text": [
      "['charles', 'martina', 'michael']\n"
     ]
    }
   ],
   "source": [
    "players = ['charles','martina','michael','florence','eli']\n",
    "print(players[0:3])"
   ]
  },
  {
   "cell_type": "markdown",
   "id": "93265de8-7348-4bf6-a228-bcd52e44770e",
   "metadata": {},
   "source": [
    "如果没有指定第一个索引，Python会自动从列表开头开始。"
   ]
  },
  {
   "cell_type": "code",
   "execution_count": 9,
   "id": "b76c4311-cf29-4b3b-9e28-8fa832ab326c",
   "metadata": {},
   "outputs": [
    {
     "name": "stdout",
     "output_type": "stream",
     "text": [
      "['charles', 'martina', 'michael', 'florence']\n",
      "['michael', 'florence', 'eli']\n",
      "['michael', 'florence', 'eli']\n"
     ]
    }
   ],
   "source": [
    "players = ['charles','martina','michael','florence','eli']\n",
    "print(players[:4])\n",
    "#同理想让切片终止于列表末尾 \n",
    "print(players[2:])\n",
    "#当然负数索引返回离列表末尾相应距离的元素\n",
    "#比如输出名单上的最后三名成员\n",
    "print(players[-3:])"
   ]
  },
  {
   "cell_type": "markdown",
   "id": "66eda182-c55b-4bbb-9317-458eea43662e",
   "metadata": {},
   "source": [
    "<font size=\"3\"> 4.4.2 遍历切片"
   ]
  },
  {
   "cell_type": "code",
   "execution_count": 13,
   "id": "ea0380b2-ace3-4b64-a40d-18b2e2f2a599",
   "metadata": {},
   "outputs": [
    {
     "name": "stdout",
     "output_type": "stream",
     "text": [
      "Here are the first three players on my team:\n",
      "Michael\n",
      "Florence\n",
      "Eli\n"
     ]
    }
   ],
   "source": [
    "players = ['charles','martina','michael','florence','eli']\n",
    "print(\"Here are the first three players on my team:\")\n",
    "for player in players[-3:]:\n",
    "    print(player.title())"
   ]
  },
  {
   "cell_type": "markdown",
   "id": "4283ce31-a255-40a1-bc93-e085f25ec5ff",
   "metadata": {},
   "source": [
    "很多情况下，切片都有用，比如想得到前三名的分数，可以将列表按降序排列，再创建一个只包含前三个得分的切片。"
   ]
  },
  {
   "cell_type": "markdown",
   "id": "c57270c0-5a1e-4f2a-bf03-b352c4275e2b",
   "metadata": {},
   "source": [
    "<font size=\"3\"> 4.4.3 复制列表"
   ]
  },
  {
   "cell_type": "markdown",
   "id": "1ae2a1d4-8699-4e72-9c30-7cee05b1fd88",
   "metadata": {},
   "source": [
    "经常需要根据既有列表创建全新的列表。\n",
    "\n",
    "要复制列表，可创建一个包含整个列表的切片，方法是同时省略起始索引和终止索引[:]。这可以复制整个列表。"
   ]
  },
  {
   "cell_type": "code",
   "execution_count": 17,
   "id": "b985a851-e572-4794-b495-91382e41afc9",
   "metadata": {},
   "outputs": [
    {
     "name": "stdout",
     "output_type": "stream",
     "text": [
      "My favorite foods are:['pizza', 'falafel', 'carrot cake']\n",
      "My friend's favorite foods are:['pizza', 'falafel', 'carrot cake']\n"
     ]
    }
   ],
   "source": [
    "my_foods = ['pizza','falafel','carrot cake']\n",
    "friend_foods = my_foods[:]\n",
    "print(\"My favorite foods are:\" + str(my_foods))\n",
    "print(\"My friend's favorite foods are:\" + str(friend_foods))"
   ]
  },
  {
   "cell_type": "markdown",
   "id": "3f07aac7-a778-47f7-9725-98c55d73f80e",
   "metadata": {},
   "source": [
    "这样子通过切片可以定义一个新列表 如果只是单纯的赋值 那只是一个列表有两个不同的名字罢了。"
   ]
  },
  {
   "cell_type": "markdown",
   "id": "e32ddcad-e558-4e2a-b5aa-53da3e4a92aa",
   "metadata": {},
   "source": [
    "<font size=\"4\"> 4.5 元组"
   ]
  },
  {
   "cell_type": "markdown",
   "id": "0e02db94-0894-4d74-a61f-0b523cf0f2e8",
   "metadata": {},
   "source": [
    "列表适合用于存储在程序运行期间可能变化的数据集。列表是可以修改的，但有时我们需要创建一系列不可修改的元素。\n",
    "\n",
    "Python将不能修改的值称为不可变的，而不可变的列表被称为元组"
   ]
  },
  {
   "cell_type": "markdown",
   "id": "7a8bef87-a2d1-42d2-b2ae-f115652eef28",
   "metadata": {},
   "source": [
    "<font size=\"3\"> 4.5.1 定义元组"
   ]
  },
  {
   "cell_type": "markdown",
   "id": "caf753f0-530e-4ebc-b602-8673258401c1",
   "metadata": {},
   "source": [
    "元组看起来和列表差不多，但是用圆括号而不是方括号来标识。定义元组后也可以使用索引来访问其元素。"
   ]
  },
  {
   "cell_type": "code",
   "execution_count": 21,
   "id": "5afeb5b0-de6d-4b01-8e63-a6b5a9c3ba83",
   "metadata": {},
   "outputs": [
    {
     "name": "stdout",
     "output_type": "stream",
     "text": [
      "200 50\n"
     ]
    }
   ],
   "source": [
    "#例如，一个大小不应改变的矩形，将其长度和宽度存储在一个元组\n",
    "dimensions = (200,50)\n",
    "print(dimensions[0],dimensions[1])"
   ]
  },
  {
   "cell_type": "code",
   "execution_count": 23,
   "id": "8362c693-1e5f-496f-8e4b-ca2ddc956548",
   "metadata": {},
   "outputs": [
    {
     "ename": "TypeError",
     "evalue": "'tuple' object does not support item assignment",
     "output_type": "error",
     "traceback": [
      "\u001b[1;31m---------------------------------------------------------------------------\u001b[0m",
      "\u001b[1;31mTypeError\u001b[0m                                 Traceback (most recent call last)",
      "Cell \u001b[1;32mIn[23], line 3\u001b[0m\n\u001b[0;32m      1\u001b[0m \u001b[38;5;66;03m#尝试修改元组的值\u001b[39;00m\n\u001b[0;32m      2\u001b[0m dimensions \u001b[38;5;241m=\u001b[39m (\u001b[38;5;241m200\u001b[39m,\u001b[38;5;241m50\u001b[39m)\n\u001b[1;32m----> 3\u001b[0m \u001b[43mdimensions\u001b[49m\u001b[43m[\u001b[49m\u001b[38;5;241;43m0\u001b[39;49m\u001b[43m]\u001b[49m \u001b[38;5;241m=\u001b[39m \u001b[38;5;241m250\u001b[39m\n",
      "\u001b[1;31mTypeError\u001b[0m: 'tuple' object does not support item assignment"
     ]
    }
   ],
   "source": [
    "#尝试修改元组的值\n",
    "dimensions = (200,50)\n",
    "dimensions[0] = 250"
   ]
  },
  {
   "cell_type": "markdown",
   "id": "00c62b18-08f4-4dcd-8d18-ecf902c2c635",
   "metadata": {},
   "source": [
    "<font size=\"3\"> 4.5.2 遍历元组中的所有值"
   ]
  },
  {
   "cell_type": "code",
   "execution_count": 26,
   "id": "8eaa7cc0-13dc-4c4a-b86b-854a6fb652d8",
   "metadata": {},
   "outputs": [
    {
     "name": "stdout",
     "output_type": "stream",
     "text": [
      "[200, 50]\n"
     ]
    }
   ],
   "source": [
    "#与列表是一样的\n",
    "dimensions = (200,50)\n",
    "print([dimension for dimension in dimensions])"
   ]
  },
  {
   "cell_type": "markdown",
   "id": "53293b4b-4163-496b-83dd-c03224be7fac",
   "metadata": {},
   "source": [
    "<font size=\"3\"> 4.5.3 修改元组变量"
   ]
  },
  {
   "cell_type": "markdown",
   "id": "a7155a4c-412b-448c-ae3a-dd2626941925",
   "metadata": {},
   "source": [
    "元组的元素不能修改，但可以整体重新赋值。"
   ]
  },
  {
   "cell_type": "code",
   "execution_count": 28,
   "id": "0c588db1-cab3-4000-9dac-dae3f1577657",
   "metadata": {},
   "outputs": [
    {
     "name": "stdout",
     "output_type": "stream",
     "text": [
      "[200, 50]\n",
      "[400, 100]\n"
     ]
    }
   ],
   "source": [
    "dimensions = (200,50)\n",
    "print([dimension for dimension in dimensions])\n",
    "dimensions = (400,100)\n",
    "print([dimension for dimension in dimensions])"
   ]
  },
  {
   "cell_type": "markdown",
   "id": "26d236e8-de7b-4c22-818c-ebcf12d409ee",
   "metadata": {},
   "source": [
    "如果需要存储的一组值在程序的整个生命周期内都不变，可以使用元组。"
   ]
  },
  {
   "cell_type": "code",
   "execution_count": null,
   "id": "3230b786-aadf-46e7-aa5f-4eba94c0b425",
   "metadata": {},
   "outputs": [],
   "source": []
  }
 ],
 "metadata": {
  "kernelspec": {
   "display_name": "Python 3 (ipykernel)",
   "language": "python",
   "name": "python3"
  },
  "language_info": {
   "codemirror_mode": {
    "name": "ipython",
    "version": 3
   },
   "file_extension": ".py",
   "mimetype": "text/x-python",
   "name": "python",
   "nbconvert_exporter": "python",
   "pygments_lexer": "ipython3",
   "version": "3.9.9"
  },
  "widgets": {
   "application/vnd.jupyter.widget-state+json": {
    "state": {},
    "version_major": 2,
    "version_minor": 0
   }
  }
 },
 "nbformat": 4,
 "nbformat_minor": 5
}
