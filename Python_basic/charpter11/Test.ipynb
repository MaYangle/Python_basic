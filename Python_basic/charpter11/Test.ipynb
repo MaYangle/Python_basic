{
 "cells": [
  {
   "cell_type": "markdown",
   "id": "98d984bf-37a2-4a3f-b95b-9ae713379536",
   "metadata": {},
   "source": [
    "<font size=\"5\"> 11.测试代码"
   ]
  },
  {
   "cell_type": "markdown",
   "id": "69dd1684-8a4d-4968-ae43-12cf5b98d706",
   "metadata": {},
   "source": [
    "编写函数或类时，还可以为其编写测试。通过测试，可以确定代码面对各种输入都能够按照要求的工作。本章中学习使用Python模块unittest中的工具来测试代码。\n",
    "\n",
    "将学习如何测试函数和类，并将知道该为项目编写多少个测试。"
   ]
  },
  {
   "cell_type": "markdown",
   "id": "dcd8a5bf-04ba-400f-b73e-4f454d6ab3bf",
   "metadata": {},
   "source": [
    "<font size=\"4\"> 11.1 测试代码"
   ]
  },
  {
   "cell_type": "markdown",
   "id": "95c8cb19-ae63-4601-bcdf-6e63ec345765",
   "metadata": {},
   "source": [
    "学习测试，首先要有测试的代码。下面是简单的函数，接受名和姓并返回整洁的姓名:"
   ]
  },
  {
   "cell_type": "code",
   "execution_count": 2,
   "id": "f5b3bdfc-969a-48f0-b8b9-a492d3446770",
   "metadata": {},
   "outputs": [],
   "source": [
    "#写入name_function.py文件\n",
    "def get_formatted_name(first,last):\n",
    "    \"\"\"Generate a neatly formatted full name\"\"\"\n",
    "    full_name = first+\" \" +last\n",
    "    return full_name.title()"
   ]
  },
  {
   "cell_type": "markdown",
   "id": "02dab347-8a4f-481d-b8bd-0213fd8ff5c8",
   "metadata": {},
   "source": [
    "为核实函数像期望的那样工作，我们来编写一个使用这个函数的程序"
   ]
  },
  {
   "cell_type": "code",
   "execution_count": 3,
   "id": "631f7570-a844-48b5-9982-4e5c84ffe848",
   "metadata": {},
   "outputs": [
    {
     "name": "stdout",
     "output_type": "stream",
     "text": [
      "Enter 'q' at any time to quit.\n"
     ]
    },
    {
     "name": "stdin",
     "output_type": "stream",
     "text": [
      "Please give me a first name: q\n"
     ]
    }
   ],
   "source": [
    "print(\"Enter 'q' at any time to quit.\")\n",
    "while True:\n",
    "    first = input(\"Please give me a first name:\")\n",
    "    if first == 'q':\n",
    "        break\n",
    "    last = input(\"Please give me a last name:\")\n",
    "    if lasy == 'q':\n",
    "        break\n",
    "    formatted_name = get_formatted_name(first,last)\n",
    "    print(\"\\tNeatly formatted name:\" + formatted_name+'.')"
   ]
  },
  {
   "cell_type": "markdown",
   "id": "ec30e212-c814-4c4d-9fa7-234e367720e6",
   "metadata": {},
   "source": [
    "这个功能是可以正常运行的，但我希望修改函数后接着测试，如果每次都输入就显得太麻烦了，Python提供了一种自动测试函数输出的高效方式。"
   ]
  },
  {
   "cell_type": "markdown",
   "id": "69b262ff-a914-4e87-be9b-0efd3e9492ba",
   "metadata": {},
   "source": [
    "<font size=\"3\"> 11.1.1 单元测试和测试用例"
   ]
  },
  {
   "cell_type": "markdown",
   "id": "01e805ac-f8db-47c0-bb0e-293d6a705cc4",
   "metadata": {},
   "source": [
    "Python标准库中的模块unittest提供了代码测试工具。单元测试用于核实函数的某个方面没有问题；测试用例是一组单元测试，这些单元测试一起核实函数在各种情形下的行为都符合要求。良好的测试用例考虑到了函数可能收到的各种输入，包括针对所有这些情形的测试。全覆盖式测试用例包含一整套单元测试，涵盖了各种可能的函数使用方式。"
   ]
  },
  {
   "cell_type": "markdown",
   "id": "0f3cfeeb-47de-4aeb-ad77-ccd26b969fec",
   "metadata": {},
   "source": [
    "<font size=\"3\"> 11.1.2 可通过的测试"
   ]
  },
  {
   "cell_type": "markdown",
   "id": "cbc6a0f5-8ccb-411b-90d5-60d66b2b9877",
   "metadata": {},
   "source": [
    "要为函数编写测试用例，可先导入模块unittest以及要测试的函数，在创建一个继承unittest.TestCase的类，并编写一系列方法对函数行为的不同方面进行测试。"
   ]
  },
  {
   "cell_type": "code",
   "execution_count": 4,
   "id": "d3c5a7f6-6d34-4681-9ecd-a691d2a0fc03",
   "metadata": {},
   "outputs": [
    {
     "name": "stderr",
     "output_type": "stream",
     "text": [
      "\n",
      "----------------------------------------------------------------------\n",
      "Ran 0 tests in 0.000s\n",
      "\n",
      "OK\n"
     ]
    }
   ],
   "source": [
    "# test_name_function.py\n",
    "# 在jupyter这种测试有些问题 所以我把对应的内容放在了单独的.py文件中 调用的时候在终端terminal 用python 文件名就行\n",
    "import unittest\n",
    "from name_function import get_formatted_name\n",
    "\n",
    "class NamesTestCase(unittest.TestCase):\n",
    "    \"\"\"测试name_function.py\"\"\"\n",
    "\n",
    "    def test_first_last_name(self):\n",
    "        \"\"\"能够正确地处理像Janis Joplin这样的姓名吗？\"\"\"\n",
    "        formatted_name = get_formatted_name('janis', 'joplin')\n",
    "        self.assertEqual(formatted_name, 'Janis Joplin')\n",
    "\n",
    "if __name__ == '__main__':\n",
    "    runner.run(suite)"
   ]
  },
  {
   "cell_type": "markdown",
   "id": "2356d612-0d1e-418b-87d6-18016a0e4511",
   "metadata": {},
   "source": [
    "假如测试没通过，需要修复导致测试不能通过的代码，比如说我把get_formatted_name()函数添加一个中间名 但测试的例子是一样的，那我就应该下面这样子修改。"
   ]
  },
  {
   "cell_type": "code",
   "execution_count": 5,
   "id": "22d9d224-60b5-479e-a18e-4d46a87e2a82",
   "metadata": {},
   "outputs": [],
   "source": [
    "def get_formatted_name(first,last,middle=''):\n",
    "    if middle:\n",
    "        full_name = first+''+middle+''+last\n",
    "    else:\n",
    "        full_name = first+''+last\n",
    "    return full_name.title()"
   ]
  },
  {
   "cell_type": "code",
   "execution_count": 13,
   "id": "722d3963-39fd-47cf-acb6-6cafefc6470c",
   "metadata": {},
   "outputs": [
    {
     "name": "stderr",
     "output_type": "stream",
     "text": [
      "\n",
      "----------------------------------------------------------------------\n",
      "Ran 0 tests in 0.000s\n",
      "\n",
      "OK\n"
     ]
    }
   ],
   "source": [
    "# test_name_function.py\n",
    "import unittest\n",
    "from name_function import get_formatted_name\n",
    "\n",
    "class NamesTestCase(unittest.TestCase):\n",
    "    \"\"\"测试name_function.py\"\"\"\n",
    "\n",
    "    def test_first_last_name(self):\n",
    "        \"\"\"能够正确地处理像Janis Joplin这样的姓名吗？\"\"\"\n",
    "        formatted_name = get_formatted_name('janis', 'dww','joplin')\n",
    "        self.assertEqual(formatted_name, 'Janis Joplin')\n",
    "\n",
    "if __name__ == '__main__':\n",
    "    runner.run(suite)"
   ]
  },
  {
   "cell_type": "markdown",
   "id": "b688326b-166a-4106-876e-ecfe095097e2",
   "metadata": {},
   "source": [
    "同样我们可以编写多的测试，用于测试包含中间名的姓名。"
   ]
  },
  {
   "cell_type": "code",
   "execution_count": 11,
   "id": "a866fe8e-9cad-49ee-9f06-3611d16d782d",
   "metadata": {},
   "outputs": [
    {
     "name": "stderr",
     "output_type": "stream",
     "text": [
      "\n",
      "----------------------------------------------------------------------\n",
      "Ran 0 tests in 0.000s\n",
      "\n",
      "OK\n"
     ]
    }
   ],
   "source": [
    "# test_name_function.py\n",
    "import unittest\n",
    "from name_function import get_formatted_name\n",
    "\n",
    "class NamesTestCase(unittest.TestCase):\n",
    "    \"\"\"测试name_function.py\"\"\"\n",
    "\n",
    "    def test_first_last_name(self):\n",
    "        \"\"\"能够正确地处理像Janis Joplin这样的姓名吗？\"\"\"\n",
    "        formatted_name = get_formatted_name('janis', 'dww','joplin')\n",
    "        self.assertEqual(formatted_name, 'Janis Joplin')\n",
    "\n",
    "    # 方法必须用test_打头 这样它才会在我们运行test_name_function.py时自动运行\n",
    "    # 这个方法名清楚地指出了它测试的是哪个行为，出现问题可以及时知道受影响的是哪个\n",
    "    def test_first_last_middle_name(self):\n",
    "        formatted_name = get_formatted_name('wolfgang','mozart','amadeus')\n",
    "        self.assertEqual(formatted_name,'Wolfgang Amadeus Mozart')\n",
    "\n",
    "if __name__ == '__main__':\n",
    "    runner.run(suite)"
   ]
  },
  {
   "cell_type": "markdown",
   "id": "c7511e22-86d5-4f63-8ea1-c10452365de0",
   "metadata": {},
   "source": [
    "<font size=\"4\"> 11.2 测试类"
   ]
  },
  {
   "cell_type": "markdown",
   "id": "fad1dc3d-dd0c-46ed-9a86-e82570e2a1ef",
   "metadata": {},
   "source": [
    "刚刚编写的都是针对单个函数的测试，下面来编写针对类的测试。如果针对类的测试通过了，就能确信对类所做的改进没有意外的破坏其原有的行为。"
   ]
  },
  {
   "cell_type": "markdown",
   "id": "ae703f63-d741-44a2-872a-6d17856ce2ad",
   "metadata": {},
   "source": [
    "<font size=\"3\"> 11.2.1 各种断言方法"
   ]
  },
  {
   "cell_type": "markdown",
   "id": "ab1e6c7e-c7f9-44ca-9bfa-429cff15b3bf",
   "metadata": {},
   "source": [
    "Python在unittest.TestCase类中提供了很多断言方法。断言方法检查你认应该满足的条件是否确实满足。"
   ]
  },
  {
   "cell_type": "code",
   "execution_count": 1,
   "id": "6f4bd6e7-6d69-4522-b982-6b1a4669056f",
   "metadata": {},
   "outputs": [],
   "source": [
    "#常用的有\n",
    "# assertEqual(a,b)\n",
    "# assertNotEqual(a,b)\n",
    "# assertTrue(x)\n",
    "# assertFalse(x)\n",
    "# assertIn(item,list)\n",
    "# assertNotIn(item,list)"
   ]
  },
  {
   "cell_type": "markdown",
   "id": "6de94e7c-9feb-4798-888d-f3c1a7f37193",
   "metadata": {},
   "source": [
    "<font size=\"3\"> 11.2.2 一个要测试的类"
   ]
  },
  {
   "cell_type": "code",
   "execution_count": 2,
   "id": "458a3488-a42f-4e21-b1c3-7d1af74a95c0",
   "metadata": {},
   "outputs": [],
   "source": [
    "# 看survey.py"
   ]
  },
  {
   "cell_type": "code",
   "execution_count": 3,
   "id": "f1538b3f-217b-4164-99d7-7fe331198396",
   "metadata": {},
   "outputs": [],
   "source": [
    "# 编写一个使用它的程序，看language_survey.py"
   ]
  },
  {
   "cell_type": "code",
   "execution_count": 4,
   "id": "25bb7787-ac2b-4d1f-b0df-68a6ffa97722",
   "metadata": {},
   "outputs": [],
   "source": [
    "# 测试 看test_survey.py"
   ]
  },
  {
   "cell_type": "code",
   "execution_count": null,
   "id": "1797a32c-76e2-4a15-a10b-f755a9f8635b",
   "metadata": {},
   "outputs": [],
   "source": []
  }
 ],
 "metadata": {
  "kernelspec": {
   "display_name": "Python 3 (ipykernel)",
   "language": "python",
   "name": "python3"
  },
  "language_info": {
   "codemirror_mode": {
    "name": "ipython",
    "version": 3
   },
   "file_extension": ".py",
   "mimetype": "text/x-python",
   "name": "python",
   "nbconvert_exporter": "python",
   "pygments_lexer": "ipython3",
   "version": "3.9.9"
  },
  "widgets": {
   "application/vnd.jupyter.widget-state+json": {
    "state": {},
    "version_major": 2,
    "version_minor": 0
   }
  }
 },
 "nbformat": 4,
 "nbformat_minor": 5
}
