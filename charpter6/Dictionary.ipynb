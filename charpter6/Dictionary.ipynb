{
 "cells": [
  {
   "cell_type": "markdown",
   "id": "5cf65a4e-2eb7-440a-8e02-946a1ce0b1ce",
   "metadata": {},
   "source": [
    " <font size=\"5\"> 6.字典"
   ]
  },
  {
   "cell_type": "markdown",
   "id": "972d721d-f662-4618-a890-6a415964b7b7",
   "metadata": {},
   "source": [
    "学习能够将相关信息关联起来的Python字典"
   ]
  },
  {
   "cell_type": "markdown",
   "id": "da5d01d1-9460-48b0-91b7-eec07817a34c",
   "metadata": {},
   "source": [
    "<font size=\"4\"> 6.1 简单字典"
   ]
  },
  {
   "cell_type": "markdown",
   "id": "18fae852-bb8c-471a-9dff-09a0cb90b68a",
   "metadata": {},
   "source": [
    "存储不同外星人的颜色和点数"
   ]
  },
  {
   "cell_type": "code",
   "execution_count": 3,
   "id": "1c98461c-b534-455a-a8d9-5caa915849c8",
   "metadata": {},
   "outputs": [
    {
     "name": "stdout",
     "output_type": "stream",
     "text": [
      "green\n",
      "5\n"
     ]
    }
   ],
   "source": [
    "alien_0 = {'color':'green','points':5}\n",
    "print(alien_0['color'])\n",
    "print(alien_0['points'])"
   ]
  },
  {
   "cell_type": "markdown",
   "id": "0a854069-985c-496a-b9ad-abe496e48fc0",
   "metadata": {},
   "source": [
    "<font size=\"4\"> 6.2 使用字典"
   ]
  },
  {
   "cell_type": "markdown",
   "id": "7dec6e69-59b1-4cd8-ae98-26994f7203fb",
   "metadata": {},
   "source": [
    "在Python中，字典是一系列键值对。每个键都与一个值相关联，你可以使用键来访问与之相关联的值。\n",
    "\n",
    "与键相关联的值可以是数字、字符串、列表乃至字典。事实上，可将任何Python对象用作字典中的值。\n"
   ]
  },
  {
   "cell_type": "markdown",
   "id": "a54a02d9-7c02-4df7-8032-605f4d267c2b",
   "metadata": {},
   "source": [
    "在Python中，字典用放在花括号{}中的一系列键-值对表示，"
   ]
  },
  {
   "cell_type": "code",
   "execution_count": 4,
   "id": "e245a681-ca7a-44fc-a51c-177f54cffb90",
   "metadata": {},
   "outputs": [],
   "source": [
    "alien_0 = {'color':'green','points':5}"
   ]
  },
  {
   "cell_type": "markdown",
   "id": "fd90ed02-f599-49e4-bb70-85b2c29a0c87",
   "metadata": {},
   "source": [
    "键-值对是两个相关联的值。指定键时，Python将返回与之相关联的值。键和值之间用冒号分隔，而键-值对之间用逗号分隔。"
   ]
  },
  {
   "cell_type": "markdown",
   "id": "3539d587-af16-4716-8a74-85b166298d5d",
   "metadata": {},
   "source": [
    "<font size=\"3\"> 6.2.1 访问字典中的值"
   ]
  },
  {
   "cell_type": "code",
   "execution_count": 7,
   "id": "9b5e7b13-ffb5-4965-9833-9d249de6f5e1",
   "metadata": {},
   "outputs": [
    {
     "name": "stdout",
     "output_type": "stream",
     "text": [
      "You just earned 5 points!\n"
     ]
    }
   ],
   "source": [
    "alien_0 = {'color':'green','points':5}\n",
    "new_points = alien_0['points']\n",
    "print(\"You just earned \" + str(new_points)+\" points!\")"
   ]
  },
  {
   "cell_type": "markdown",
   "id": "d2f0adbf-3455-4711-a900-64c1b7fc8536",
   "metadata": {},
   "source": [
    "先定义字典，再取与键‘points’相关联的值，并将这个值存储在变量中，然后转换为字符串输出。"
   ]
  },
  {
   "cell_type": "markdown",
   "id": "7edb9358-ae02-4749-83ed-3987e7aefc44",
   "metadata": {},
   "source": [
    "<font size=\"3\"> 6.2.2 添加键-值对"
   ]
  },
  {
   "cell_type": "markdown",
   "id": "6bfe5e43-6242-4156-a121-41bf4ee7f2eb",
   "metadata": {},
   "source": [
    "字典是一种动态结构，可随时在其中添加键-值对。要添加键-值对，可依次指定字典名、用方括号括起的键和相关联的值。"
   ]
  },
  {
   "cell_type": "code",
   "execution_count": 8,
   "id": "0fbff721-15af-4623-bff1-34c06b89a0e2",
   "metadata": {},
   "outputs": [
    {
     "name": "stdout",
     "output_type": "stream",
     "text": [
      "{'color': 'green', 'points': 5}\n",
      "{'color': 'green', 'points': 5, 'x_position': 0, 'y_position': 25}\n"
     ]
    }
   ],
   "source": [
    "#在字典alien_0中添加两项信息\n",
    "#x坐标 和 y坐标\n",
    "alien_0 = {'color':'green','points':5}\n",
    "print(alien_0)\n",
    "alien_0['x_position'] = 0\n",
    "alien_0['y_position'] = 25\n",
    "print(alien_0)"
   ]
  },
  {
   "cell_type": "markdown",
   "id": "6e87e74b-fc5b-499b-b77a-aefafd4520f1",
   "metadata": {},
   "source": [
    "在Python3.7版本之后，键-值对的排列顺序已经和添加顺序相同了。"
   ]
  },
  {
   "cell_type": "markdown",
   "id": "cbc7d623-c752-4441-b299-cf83e49bec50",
   "metadata": {},
   "source": [
    "<font size=\"3\"> 6.2.3 先创建一个空字典"
   ]
  },
  {
   "cell_type": "markdown",
   "id": "77262fe5-bc50-44c9-94e2-0e9f00bcde47",
   "metadata": {},
   "source": [
    "可以先使用一对空的花括号定义一个字典，再分行添加各个键-值对。"
   ]
  },
  {
   "cell_type": "code",
   "execution_count": 9,
   "id": "01006e9b-a34a-4da2-8013-f1fd42b67650",
   "metadata": {},
   "outputs": [
    {
     "name": "stdout",
     "output_type": "stream",
     "text": [
      "{'color': 'green', 5: 'points'}\n"
     ]
    }
   ],
   "source": [
    "alien_0 = {}\n",
    "alien_0['color'] = 'green'\n",
    "alien_0[5] = 'points'\n",
    "print(alien_0)"
   ]
  },
  {
   "cell_type": "markdown",
   "id": "a27cb3c4-752f-44df-a856-5c69b961ac08",
   "metadata": {},
   "source": [
    "使用字典来存储用户提供的数据或在编写能自动生成大量键-值对的代码时，通常都需要先定义一个空字典。"
   ]
  },
  {
   "cell_type": "markdown",
   "id": "e9d78d88-8279-419b-9548-1aa967b08816",
   "metadata": {},
   "source": [
    "<font size=\"3\"> 6.2.4 修改字典中的值"
   ]
  },
  {
   "cell_type": "markdown",
   "id": "2345edcd-929c-4fd1-9753-572d4eadffd6",
   "metadata": {},
   "source": [
    "要修改字典中的值，可依次指定字典名、用方括号括起的键和与该键相关联的新值。"
   ]
  },
  {
   "cell_type": "code",
   "execution_count": 10,
   "id": "bb9a3ace-40f9-4655-8af8-fc0c291135a6",
   "metadata": {},
   "outputs": [
    {
     "name": "stdout",
     "output_type": "stream",
     "text": [
      "The alien is green.\n",
      "The alien is now yellow.\n"
     ]
    }
   ],
   "source": [
    "alien_0 = {'color':'green'}\n",
    "print(\"The alien is \" + alien_0['color'] + \".\")\n",
    "alien_0['color'] = 'yellow'\n",
    "print(\"The alien is now \" + alien_0['color'] + \".\")"
   ]
  },
  {
   "cell_type": "markdown",
   "id": "4bc4facf-da28-4984-9a9a-758bdf2237cb",
   "metadata": {},
   "source": [
    "对一个能够以不同速度移动的外星人位置进行跟踪。为此，我们将存储该外星人的当前速度，并据此确定该外星人将向右移动多远。"
   ]
  },
  {
   "cell_type": "code",
   "execution_count": 18,
   "id": "cf7367e8-7cf5-4b0d-a74a-c93158a6319f",
   "metadata": {},
   "outputs": [
    {
     "name": "stdout",
     "output_type": "stream",
     "text": [
      "Original x-position:0\n",
      "Original x-position:2\n"
     ]
    }
   ],
   "source": [
    "alien_0 = {'x_position':0,'y_position':25,'speed':'medium'}\n",
    "print(\"Original x-position:\"+ str(alien_0['x_position']))\n",
    "if alien_0['speed']  == 'slow':\n",
    "    x_increment = 1\n",
    "elif alien_0['speed'] == 'medium':\n",
    "    x_increment = 2\n",
    "else:\n",
    "    x_increment = 3\n",
    "alien_0['x_position'] = alien_0['x_position'] + x_increment\n",
    "print(\"Original x-position:\"+ str(alien_0['x_position']))                   \n",
    "                                 "
   ]
  },
  {
   "cell_type": "markdown",
   "id": "a70bab52-96b8-4678-869b-fa991d18d8cd",
   "metadata": {},
   "source": [
    "<font size=\"3\"> 6.2.5 删除键-值对"
   ]
  },
  {
   "cell_type": "markdown",
   "id": "db12afc4-8b3f-4e7a-8b2e-70758233fd64",
   "metadata": {},
   "source": [
    "对于字典中不再需要的信息，可使用del语句将相应的键-值对彻底删除。使用del语句时，必须指定字典名和要删除的键"
   ]
  },
  {
   "cell_type": "code",
   "execution_count": 20,
   "id": "16faa931-c79b-477b-8cbf-a39e61f4eab5",
   "metadata": {},
   "outputs": [
    {
     "name": "stdout",
     "output_type": "stream",
     "text": [
      "{'color': 'green', 'points': 5}\n",
      "{'color': 'green'}\n"
     ]
    }
   ],
   "source": [
    "alien_0 = {'color':'green','points':5}\n",
    "print(alien_0)\n",
    "del alien_0['points']\n",
    "print(alien_0)"
   ]
  },
  {
   "cell_type": "markdown",
   "id": "e67f7f73-4ae0-4c0c-a9bb-a0cf925e227d",
   "metadata": {},
   "source": [
    "<strong> 注意 删除的键-值对永远消失了。</strong>"
   ]
  },
  {
   "cell_type": "markdown",
   "id": "c0063cff-3d81-4bef-b6c8-2aa223ad5c7b",
   "metadata": {},
   "source": [
    "<font size=\"3\"> 6.2.6 由类似对象组成的字典"
   ]
  },
  {
   "cell_type": "markdown",
   "id": "3c808190-9efd-419e-9bc8-abceeaf3e2e4",
   "metadata": {},
   "source": [
    "字典可以存储同一对象的多种信息，也可以使用字典来存储众多对象的同一消息。"
   ]
  },
  {
   "cell_type": "code",
   "execution_count": 23,
   "id": "b7e45b37-3627-4a35-9dfe-7b3850a163ce",
   "metadata": {},
   "outputs": [
    {
     "name": "stdout",
     "output_type": "stream",
     "text": [
      "Sarah's favorite language is C.\n"
     ]
    }
   ],
   "source": [
    "favorite_languages = {\n",
    "    'jen':'Python',\n",
    "    'sarah':'c',\n",
    "    'edward':'ruby',\n",
    "    'phil':'Python',\n",
    "}\n",
    "print(\"Sarah's favorite language is \" + \n",
    "      favorite_languages['sarah'].title() +\n",
    "      '.')"
   ]
  },
  {
   "cell_type": "markdown",
   "id": "1289f1ad-8d6d-4f40-b702-2b519a55e5c3",
   "metadata": {},
   "source": [
    "<font size=\"4\"> 6.3 遍历字典"
   ]
  },
  {
   "cell_type": "markdown",
   "id": "721dfcc4-b9d2-47ad-a51e-90619c171cd5",
   "metadata": {},
   "source": [
    "Python支持对字典遍历，有多种遍历字典的方式:可遍历字典的所有键-值对、键或值。"
   ]
  },
  {
   "cell_type": "markdown",
   "id": "91c2ab95-bdf0-44b9-b017-9f1dbd89305b",
   "metadata": {},
   "source": [
    "<font size=\"3\"> 6.3.1 遍历所有的键-值对"
   ]
  },
  {
   "cell_type": "code",
   "execution_count": 26,
   "id": "1a17d87f-59c8-4c4e-b543-5e014d1f7f8e",
   "metadata": {},
   "outputs": [
    {
     "name": "stdout",
     "output_type": "stream",
     "text": [
      "Key:username\n",
      "Value:efermi\n",
      "Key:first\n",
      "Value:enrico\n",
      "Key:last\n",
      "Value:fermi\n"
     ]
    }
   ],
   "source": [
    "user_0 = {\n",
    "    'username':'efermi',\n",
    "    'first':'enrico',\n",
    "    'last':'fermi',\n",
    "}\n",
    "for k,v in user_0.items():\n",
    "    print(\"Key:\"+k)\n",
    "    print(\"Value:\"+v)"
   ]
  },
  {
   "cell_type": "code",
   "execution_count": 30,
   "id": "d3eb037a-f06b-442c-919c-7a0fee436749",
   "metadata": {},
   "outputs": [
    {
     "name": "stdout",
     "output_type": "stream",
     "text": [
      "Jen's favorite language is Python.\n",
      "Sarah's favorite language is C.\n",
      "Edward's favorite language is Ruby.\n",
      "Phil's favorite language is Python.\n"
     ]
    }
   ],
   "source": [
    "#这种不同人的同一种信息就很适合所有的键-值对\n",
    "favorite_languages = {\n",
    "    'jen':'Python',\n",
    "    'sarah':'c',\n",
    "    'edward':'ruby',\n",
    "    'phil':'Python',\n",
    "}\n",
    "for name,language in favorite_languages.items():\n",
    "    print(name.title() + \n",
    "      \"'s favorite language is \"+ language.title() + \".\")\n"
   ]
  },
  {
   "cell_type": "markdown",
   "id": "1e8cb2f4-a922-4220-a283-0257973d57df",
   "metadata": {},
   "source": [
    "<font size=\"3\"> 6.3.2 遍历字典中的所有值"
   ]
  },
  {
   "cell_type": "markdown",
   "id": "3bf48357-6700-40cc-810b-b2e554857318",
   "metadata": {},
   "source": [
    "不需要使用字典中的值时，方法keys()很有用。"
   ]
  },
  {
   "cell_type": "code",
   "execution_count": 32,
   "id": "8d3d58bf-90ad-4546-8236-6a1a28f2d5ad",
   "metadata": {},
   "outputs": [
    {
     "name": "stdout",
     "output_type": "stream",
     "text": [
      "Edward\n",
      "Jen\n",
      "Phil\n",
      "Sarah\n"
     ]
    }
   ],
   "source": [
    "favorite_languages = {\n",
    "    'jen':'Python',\n",
    "    'sarah':'c',\n",
    "    'edward':'ruby',\n",
    "    'phil':'Python',\n",
    "}\n",
    "\n",
    "#遍历字母时，会默认遍历所有的键\n",
    "#for name in sorted(favorite_languages): 效果是一样的\n",
    "for name in sorted(favorite_languages.keys()):\n",
    "    print(name.title())"
   ]
  },
  {
   "cell_type": "markdown",
   "id": "e826ed6c-144e-4ca7-9712-7cb599962ace",
   "metadata": {},
   "source": [
    "假如 只想给自己的朋友打招呼"
   ]
  },
  {
   "cell_type": "code",
   "execution_count": 34,
   "id": "777f2dfb-1bc6-42c0-9418-d6d458e4088a",
   "metadata": {},
   "outputs": [
    {
     "name": "stdout",
     "output_type": "stream",
     "text": [
      "Jen\n",
      "Sarah\n",
      " Hi, Sarah I see your favorite language isC!\n",
      "Edward\n",
      "Phil\n",
      " Hi, Phil I see your favorite language isPython!\n"
     ]
    }
   ],
   "source": [
    "favorite_languages = {\n",
    "    'jen':'Python',\n",
    "    'sarah':'c',\n",
    "    'edward':'ruby',\n",
    "    'phil':'Python',\n",
    "}\n",
    "\n",
    "friends = ['phil','sarah']\n",
    "for name in favorite_languages.keys():\n",
    "    print(name.title())\n",
    "    if name in friends:\n",
    "        print(\" Hi, \" + name.title() +\n",
    "              \" I see your favorite language is\" + \n",
    "              favorite_languages[name].title() +\"!\")"
   ]
  },
  {
   "cell_type": "markdown",
   "id": "445a28c7-07fd-46ea-839e-aadb472f1806",
   "metadata": {},
   "source": [
    "<font size=\"3\"> 6.3.3 按顺序遍历 - 6.3.4 遍历字典中所有的值"
   ]
  },
  {
   "cell_type": "code",
   "execution_count": 40,
   "id": "76547aa8-8983-420c-80ea-bcf142092f66",
   "metadata": {},
   "outputs": [
    {
     "name": "stdout",
     "output_type": "stream",
     "text": [
      "Sarah\n",
      "Phil\n",
      "Jen\n",
      "Edward\n"
     ]
    }
   ],
   "source": [
    "favorite_languages = {\n",
    "    'jen':'Python',\n",
    "    'sarah':'c',\n",
    "    'edward':'ruby',\n",
    "    'phil':'Python',\n",
    "}\n",
    "\n",
    "for name in sorted(favorite_languages.keys(),reverse=True):\n",
    "    print(name.title())"
   ]
  },
  {
   "cell_type": "code",
   "execution_count": 42,
   "id": "22891877-7c24-48ee-a1da-7ace3ad3bcc2",
   "metadata": {},
   "outputs": [
    {
     "name": "stdout",
     "output_type": "stream",
     "text": [
      "The following languages have been mentioned:\n",
      "Python\n",
      "C\n",
      "Ruby\n",
      "Python\n"
     ]
    }
   ],
   "source": [
    "favorite_languages = {\n",
    "    'jen':'Python',\n",
    "    'sarah':'c',\n",
    "    'edward':'ruby',\n",
    "    'phil':'Python',\n",
    "}\n",
    "\n",
    "print(\"The following languages have been mentioned:\")\n",
    "for language in favorite_languages.values():\n",
    "    print(language.title())"
   ]
  },
  {
   "cell_type": "markdown",
   "id": "71ff9923-46ce-4203-a90d-71baf9fb2af5",
   "metadata": {},
   "source": [
    "但这样 万一value重复了就很不好，可以使用集合set。集合类似于列表，但每个元素独一无二。"
   ]
  },
  {
   "cell_type": "code",
   "execution_count": 43,
   "id": "a67c76fa-1d10-4487-864e-c600dc1978e2",
   "metadata": {},
   "outputs": [
    {
     "name": "stdout",
     "output_type": "stream",
     "text": [
      "The following languages have been mentioned:\n",
      "Ruby\n",
      "Python\n",
      "C\n"
     ]
    }
   ],
   "source": [
    "favorite_languages = {\n",
    "    'jen':'Python',\n",
    "    'sarah':'c',\n",
    "    'edward':'ruby',\n",
    "    'phil':'Python',\n",
    "}\n",
    "\n",
    "print(\"The following languages have been mentioned:\")\n",
    "for language in set(favorite_languages.values()):\n",
    "    print(language.title())"
   ]
  },
  {
   "cell_type": "markdown",
   "id": "479ee693-3ea4-411a-8b7f-fe32c074ec84",
   "metadata": {},
   "source": [
    "<font size=\"4\"> 6.4 嵌套"
   ]
  },
  {
   "cell_type": "markdown",
   "id": "c5e1fd75-ca07-4885-a652-f97f6ea639fa",
   "metadata": {},
   "source": [
    "<strong>有时候，需要将一系列字典存储在列表中，或将列表作为值存储在字典中，这称为嵌套。</strong>"
   ]
  },
  {
   "cell_type": "markdown",
   "id": "ae044d96-f88e-4a2b-85eb-1c23b6b9ec27",
   "metadata": {},
   "source": [
    "<font size=\"3\"> 6.4.1 字典列表"
   ]
  },
  {
   "cell_type": "markdown",
   "id": "14abf34f-9613-4b16-8017-bfe233c847b2",
   "metadata": {},
   "source": [
    "创建一个外星人列表，每个外星人都是一个字典"
   ]
  },
  {
   "cell_type": "code",
   "execution_count": 3,
   "id": "4c606203-7a88-4140-a2f9-13393bc2c2f0",
   "metadata": {},
   "outputs": [
    {
     "name": "stdout",
     "output_type": "stream",
     "text": [
      "{'color': 'green', 'points': 5, 'speed': 'slow'}\n",
      "{'color': 'green', 'points': 5, 'speed': 'slow'}\n",
      "{'color': 'green', 'points': 5, 'speed': 'slow'}\n",
      "{'color': 'green', 'points': 5, 'speed': 'slow'}\n",
      "{'color': 'green', 'points': 5, 'speed': 'slow'}\n",
      "Total number of aliens:30\n"
     ]
    }
   ],
   "source": [
    "aliens = []\n",
    "for alien_number in range(30):\n",
    "    new_alien = {'color':'green',\n",
    "                 'points':5,\n",
    "                 'speed':'slow',\n",
    "                }\n",
    "    aliens.append(new_alien)\n",
    "for alien in aliens[:5]:\n",
    "    print(alien)\n",
    "print(\"Total number of aliens:\"+ str(len(aliens)))"
   ]
  },
  {
   "cell_type": "markdown",
   "id": "415c580f-eb18-475f-8b06-8d1a5836718a",
   "metadata": {},
   "source": [
    "某些情况下，要处理成群结队的外星人。"
   ]
  },
  {
   "cell_type": "code",
   "execution_count": 4,
   "id": "0077e84b-6998-4cb9-b286-9542b45dba18",
   "metadata": {},
   "outputs": [
    {
     "name": "stdout",
     "output_type": "stream",
     "text": [
      "{'color': 'yellow', 'points': 10, 'speed': 'medium'}\n",
      "{'color': 'yellow', 'points': 10, 'speed': 'medium'}\n",
      "{'color': 'yellow', 'points': 10, 'speed': 'medium'}\n",
      "{'color': 'green', 'points': 5, 'speed': 'slow'}\n",
      "{'color': 'green', 'points': 5, 'speed': 'slow'}\n"
     ]
    }
   ],
   "source": [
    "#例如要将前三个外星人稍微修改一下\n",
    "aliens = []\n",
    "for alien_number in range(30):\n",
    "    new_alien = {'color':'green',\n",
    "                 'points':5,\n",
    "                 'speed':'slow',\n",
    "                }\n",
    "    aliens.append(new_alien)\n",
    "for alien in aliens[0:3]:\n",
    "    if alien['color'] == 'green':\n",
    "        alien['color'] = 'yellow'\n",
    "        alien['speed'] = 'medium'\n",
    "        alien['points'] = 10\n",
    "for alien in aliens[0:5]:\n",
    "    print(alien)"
   ]
  },
  {
   "cell_type": "markdown",
   "id": "f1f23309-8f7d-46b3-8116-43003b35451e",
   "metadata": {},
   "source": [
    "这个就适合 需要为网站的每个用户创建一个字典，并将这些字典存储在一个名为users的列表中。这个列表就有用户的所有信息，结构也相同。"
   ]
  },
  {
   "cell_type": "markdown",
   "id": "1d91621a-b8ed-443a-9da8-57c2cf5aaf35",
   "metadata": {},
   "source": [
    "<font size=\"4\"> 6.4.2 在字典中存储列表"
   ]
  },
  {
   "cell_type": "markdown",
   "id": "f21646ef-66a9-4ad0-a5f6-e7bb697625b5",
   "metadata": {},
   "source": [
    "有时候，需要将列表存储在字典中，而不是将字典存储在列表中。\n",
    "\n",
    "下例中，存储了披萨的两个信息"
   ]
  },
  {
   "cell_type": "code",
   "execution_count": 11,
   "id": "7430c169-9bf9-459d-ad5d-535916e3ca33",
   "metadata": {},
   "outputs": [
    {
     "name": "stdout",
     "output_type": "stream",
     "text": [
      "You ordered a thick-crust pizza  with the following toppings:\n",
      "mushroom\n",
      "extra cheese\n"
     ]
    }
   ],
   "source": [
    "pizza = {\n",
    "    'crust':'thick',\n",
    "    'toppings':['mushroom','extra cheese'],\n",
    "}\n",
    "\n",
    "print(\"You ordered a \" + pizza['crust'] + \"-crust pizza \" +\n",
    "      \" with the following toppings:\")\n",
    "for topping in pizza['toppings']:\n",
    "    print(topping)"
   ]
  },
  {
   "cell_type": "markdown",
   "id": "4fcd1a4f-52d6-4ee3-8623-fe973e82549f",
   "metadata": {},
   "source": [
    "每当需要在字典中将一个键关联到多个键时，都可以在字典中嵌套一个列表。"
   ]
  },
  {
   "cell_type": "code",
   "execution_count": 13,
   "id": "711ad493-81f2-4cdf-ab9d-ba2b0172f3cd",
   "metadata": {},
   "outputs": [
    {
     "name": "stdout",
     "output_type": "stream",
     "text": [
      "jen, your favorite languages are Python\n",
      "jen, your favorite languages are Ruby\n",
      "sarah, your favorite language is c\n",
      "edward, your favorite languages are Ruby\n",
      "edward, your favorite languages are Go\n",
      "phil, your favorite languages are Python\n",
      "phil, your favorite languages are Haskell\n"
     ]
    }
   ],
   "source": [
    "#上面每个人喜欢不同的语言 有些人可能喜欢多种\n",
    "favorite_languages = {\n",
    "    'jen':['python','ruby'],\n",
    "    'sarah':['c'],\n",
    "    'edward':['ruby','go'],\n",
    "    'phil':['python','haskell'],\n",
    "}\n",
    "for name,languages in favorite_languages.items():\n",
    "    if len(languages)==1:\n",
    "        print(name + \", your favorite language is \" + languages[0])\n",
    "    else:\n",
    "        for language in languages:\n",
    "            print(name + \", your favorite languages are \" + language.title())"
   ]
  },
  {
   "cell_type": "markdown",
   "id": "6cc4c776-d7fd-450b-b824-f2564a382942",
   "metadata": {},
   "source": [
    "<font size=\"3\"> 6.4.3 在字典中存储字典"
   ]
  },
  {
   "cell_type": "markdown",
   "id": "042c9d6d-ab93-4461-9caa-45cf3f685617",
   "metadata": {},
   "source": [
    "可以在字典中存储字典，如果有多个网站用户，每个都有独特的用户名，可以在字典中将用户名作为键，然后将每个用户的信息存储在一个字典中，并将该字典作为与用户名相关联的值。"
   ]
  },
  {
   "cell_type": "code",
   "execution_count": 18,
   "id": "fcd82eb0-d1fb-4b53-80b4-42b1ef8a2578",
   "metadata": {},
   "outputs": [
    {
     "name": "stdout",
     "output_type": "stream",
     "text": [
      "Username amy\n",
      "full name Albert Einstein\n",
      "Location Princeton\n",
      "Username memor\n",
      "full name Marie Curie\n",
      "Location Paris\n"
     ]
    }
   ],
   "source": [
    "users = {\n",
    "    'amy':{\n",
    "        'first':'albert',\n",
    "        'last':'einstein',\n",
    "        'location':'princeton',\n",
    "    },\n",
    "    'memor':{\n",
    "    'first':'marie',\n",
    "    'last':'curie',\n",
    "    'location':'paris',\n",
    "    },\n",
    "}\n",
    "\n",
    "for username,user_info in users.items():\n",
    "    print(\"Username \" + username)\n",
    "    full_name = user_info['first'] + \" \" + user_info['last']\n",
    "    location = user_info['location']\n",
    "    print(\"full name \" + full_name.title())\n",
    "    print(\"Location \" + location.title())"
   ]
  },
  {
   "cell_type": "code",
   "execution_count": null,
   "id": "433063ea-5439-4a0f-aa04-62195685ebde",
   "metadata": {},
   "outputs": [],
   "source": []
  }
 ],
 "metadata": {
  "kernelspec": {
   "display_name": "Python 3 (ipykernel)",
   "language": "python",
   "name": "python3"
  },
  "language_info": {
   "codemirror_mode": {
    "name": "ipython",
    "version": 3
   },
   "file_extension": ".py",
   "mimetype": "text/x-python",
   "name": "python",
   "nbconvert_exporter": "python",
   "pygments_lexer": "ipython3",
   "version": "3.9.9"
  },
  "widgets": {
   "application/vnd.jupyter.widget-state+json": {
    "state": {},
    "version_major": 2,
    "version_minor": 0
   }
  }
 },
 "nbformat": 4,
 "nbformat_minor": 5
}
