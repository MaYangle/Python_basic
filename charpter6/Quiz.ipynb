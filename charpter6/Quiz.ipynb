{
 "cells": [
  {
   "cell_type": "markdown",
   "id": "5540b729-24af-4a3d-b031-da97eb304b77",
   "metadata": {},
   "source": [
    "<font size=\"4\"> 6-1 "
   ]
  },
  {
   "cell_type": "code",
   "execution_count": 2,
   "id": "870e3489-84b2-437a-8ae8-591def71700e",
   "metadata": {},
   "outputs": [
    {
     "name": "stdout",
     "output_type": "stream",
     "text": [
      "{'firstname': 'le', 'lastname': 'ma', 'age': '22', 'city': 'snow'}\n"
     ]
    }
   ],
   "source": [
    "Memor = {\n",
    "    'firstname':'le',\n",
    "    'lastname':'ma',\n",
    "    'age':'22',\n",
    "    'city':'snow',\n",
    "}\n",
    "print(Memor)"
   ]
  },
  {
   "cell_type": "markdown",
   "id": "8966d964-b016-4f9e-acd0-afb83b5caf7b",
   "metadata": {},
   "source": [
    "<font size=\"4\"> 6-2 number"
   ]
  },
  {
   "cell_type": "code",
   "execution_count": 7,
   "id": "16a44aa8-f7c1-4703-a8d9-90d4777595bd",
   "metadata": {},
   "outputs": [
    {
     "name": "stdout",
     "output_type": "stream",
     "text": [
      "memor's favourite number is 4\n",
      "yangle's favourite number is 6\n",
      "zezheng's favourite number is 3\n",
      "boxu's favourite number is 10\n",
      "zhiyuan's favourite number is 1\n"
     ]
    }
   ],
   "source": [
    "fav_numbers = {\n",
    "    'memor':4,\n",
    "    'yangle':6,\n",
    "    'zezheng':3,\n",
    "    'boxu':10,\n",
    "    'zhiyuan':1,\n",
    "}\n",
    "for key,value in fav_numbers.items():\n",
    "    print(key + \"'s favourite number is \" + str(value))"
   ]
  },
  {
   "cell_type": "markdown",
   "id": "8f487687-6887-40a1-a19d-0cffac7c46d4",
   "metadata": {},
   "source": [
    "<font size=\"4\"> 6-3"
   ]
  },
  {
   "cell_type": "markdown",
   "id": "e618396d-5749-40df-b1c6-f671e860186c",
   "metadata": {},
   "source": [
    "同上，这里不多叙述。"
   ]
  },
  {
   "cell_type": "markdown",
   "id": "8ce87c56-9074-4f62-a9f9-0815b3b6f0a5",
   "metadata": {},
   "source": [
    "<font size=\"4\"> 6-4"
   ]
  },
  {
   "cell_type": "markdown",
   "id": "1d96af26-a461-427e-a2a9-53cde29dbfd6",
   "metadata": {},
   "source": [
    "同6-2 不多叙述"
   ]
  },
  {
   "cell_type": "markdown",
   "id": "46d1206c-2dda-4c90-b1ea-34c5de6073ed",
   "metadata": {},
   "source": [
    "<font size=\"4\"> 6-5 河流"
   ]
  },
  {
   "cell_type": "code",
   "execution_count": 6,
   "id": "67481459-1252-42e2-8135-cb6aabc6a9ae",
   "metadata": {},
   "outputs": [
    {
     "name": "stdout",
     "output_type": "stream",
     "text": [
      "The china runs through huanghe.\n",
      "The japan runs through fushehe.\n",
      "The nile runs through egypt.\n",
      "Includs the countries as flollowed: china\n",
      "Includs the countries as flollowed: japan\n",
      "Includs the countries as flollowed: nile\n",
      "The name of the rivers are: huanghe\n",
      "The name of the rivers are: fushehe\n",
      "The name of the rivers are: egypt\n"
     ]
    }
   ],
   "source": [
    "river = {'china':'huanghe',\n",
    "         'japan':'fushehe',\n",
    "         'nile':'egypt',\n",
    "        }\n",
    "for k,v in river.items():\n",
    "    print(\"The \" + k + \n",
    "          \" runs through \" +\n",
    "          v + \".\")\n",
    "for k in river.keys():\n",
    "    print(\"Includs the countries as flollowed: \"+ k)\n",
    "for v in river.values():\n",
    "    print(\"The name of the rivers are: \" + v)"
   ]
  },
  {
   "cell_type": "markdown",
   "id": "bafe0a6b-9e28-485d-8518-35fa32dfeef1",
   "metadata": {},
   "source": [
    "<font size=\"4\"> 6-6 调查"
   ]
  },
  {
   "cell_type": "code",
   "execution_count": 11,
   "id": "ff250dae-17d8-42e8-917b-c49f9496b298",
   "metadata": {},
   "outputs": [
    {
     "name": "stdout",
     "output_type": "stream",
     "text": [
      "Please help me to investigate! Memor\n",
      "Please help me to investigate! yile\n",
      "Please help me to investigate! nelon\n",
      "Thanks for your help,dingzhen your favorite language is html\n"
     ]
    }
   ],
   "source": [
    "favorite_languages = {'Memor':'Python',\n",
    "                      'yile':'C',\n",
    "                      'nelon':'java',\n",
    "                      'dingzhen':'html',\n",
    "                     }\n",
    "persons = ['dingzhen','wangyuan']\n",
    "for k,v in favorite_languages.items():\n",
    "    if k in persons:\n",
    "        print(\"Thanks for your help,\"+k +\" your favorite language is \" + v)\n",
    "    else:\n",
    "        print(\"Please help me to investigate! \" + k)"
   ]
  },
  {
   "cell_type": "markdown",
   "id": "d493a33b-ccdb-48e7-85b1-e7646729f31c",
   "metadata": {},
   "source": [
    "<font size=\"4\"> 6-7 人"
   ]
  },
  {
   "cell_type": "code",
   "execution_count": 12,
   "id": "ff11cd57-8703-47cc-81f3-4c37012f7499",
   "metadata": {},
   "outputs": [
    {
     "name": "stdout",
     "output_type": "stream",
     "text": [
      "{'firstname': 'le', 'lastname': 'ma', 'age': '22', 'city': 'snow'}\n",
      "{'firstname': 'll', 'lastname': 'ss', 'age': '24', 'city': 'cold'}\n",
      "{'firstname': 'litang', 'lastname': 'wang', 'age': '23', 'city': 'wuhu'}\n"
     ]
    }
   ],
   "source": [
    "Memor = {\n",
    "    'firstname':'le',\n",
    "    'lastname':'ma',\n",
    "    'age':'22',\n",
    "    'city':'snow',\n",
    "}\n",
    "\n",
    "Amy = {\n",
    "    'firstname':'ll',\n",
    "    'lastname':'ss',\n",
    "    'age':'24',\n",
    "    'city':'cold',\n",
    "}\n",
    "\n",
    "dingzhen = {\n",
    "    'firstname':'litang',\n",
    "    'lastname':'wang',\n",
    "    'age':'23',\n",
    "    'city':'wuhu',\n",
    "}\n",
    "\n",
    "peoples = [Memor,Amy,dingzhen]\n",
    "for people in peoples:\n",
    "    print(people)"
   ]
  },
  {
   "cell_type": "markdown",
   "id": "9dad1491-d897-4af8-818f-7f3ea1d76b2e",
   "metadata": {},
   "source": [
    "<font size=\"4\"> 6-8 宠物"
   ]
  },
  {
   "cell_type": "markdown",
   "id": "2a32fa12-a00a-406d-8bdb-d6a8ef9fe253",
   "metadata": {},
   "source": [
    "和上面一样，只是换个名字 不再叙述"
   ]
  },
  {
   "cell_type": "markdown",
   "id": "483fdd4e-6454-4532-9034-ff504afec8a2",
   "metadata": {},
   "source": [
    "<font size=\"4\"> 6-9 喜欢的地方"
   ]
  },
  {
   "cell_type": "code",
   "execution_count": 19,
   "id": "a97b2fa6-d8e2-4745-8982-9bfbe21ecad4",
   "metadata": {},
   "outputs": [
    {
     "name": "stdout",
     "output_type": "stream",
     "text": [
      "Memor, your favorite places are \n",
      "spain\n",
      "paris\n",
      "iceland\n",
      "Amy, your favorite places are \n",
      "england\n",
      "hangkong\n",
      "Dingzhen, your favorite places are \n",
      "litang\n"
     ]
    }
   ],
   "source": [
    "favorite_places = {\n",
    "    'Memor':['spain','paris','iceland'],\n",
    "    'Amy':['england','hangkong'],\n",
    "    'Dingzhen':['litang'],\n",
    "}\n",
    "\n",
    "for name,places in favorite_places.items():\n",
    "    print(name + \", your favorite places are \" )\n",
    "    for place in places:\n",
    "        print(place)"
   ]
  },
  {
   "cell_type": "markdown",
   "id": "d6a188e5-7623-4eae-9bb0-f1748a3b6bcb",
   "metadata": {},
   "source": [
    "<font size=\"4\"> 6-10 喜欢的数字"
   ]
  },
  {
   "cell_type": "code",
   "execution_count": 21,
   "id": "019b7d91-2323-4661-8f80-ab39677863ca",
   "metadata": {},
   "outputs": [
    {
     "name": "stdout",
     "output_type": "stream",
     "text": [
      "memor's favourite number are \n",
      "4\n",
      "6\n",
      "8\n",
      "yangle's favourite number are \n",
      "6\n",
      "zezheng's favourite number are \n",
      "3\n",
      "44\n",
      "boxu's favourite number are \n",
      "10\n",
      "0\n",
      "25\n",
      "zhiyuan's favourite number are \n",
      "1\n",
      "99\n"
     ]
    }
   ],
   "source": [
    "fav_numbers = {\n",
    "    'memor':[4,6,8],\n",
    "    'yangle':[6],\n",
    "    'zezheng':[3,44],\n",
    "    'boxu':[10,0,25],\n",
    "    'zhiyuan':[1,99],\n",
    "}\n",
    "for key,values in fav_numbers.items():\n",
    "    print(key + \"'s favourite number are \" )\n",
    "    for value in values:\n",
    "        print(value)"
   ]
  },
  {
   "cell_type": "markdown",
   "id": "a5225e81-aaac-46cf-87e5-d6927101579c",
   "metadata": {},
   "source": [
    "<font size=\"4\"> 6-11 城市"
   ]
  },
  {
   "cell_type": "code",
   "execution_count": 29,
   "id": "e946efdc-ee13-4bd1-b082-548aaf1bce8b",
   "metadata": {},
   "outputs": [
    {
     "name": "stdout",
     "output_type": "stream",
     "text": [
      "The name of the city is litang\n",
      "The name of its country China\n",
      "The popoluation of the city is  111111\n",
      "The fact of the city is dingzhen\n",
      "The name of the city is Paris\n",
      "The name of its country France\n",
      "The popoluation of the city is  1122311\n",
      "The fact of the city is black\n",
      "The name of the city is Helsinki\n",
      "The name of its country Finland\n",
      "The popoluation of the city is  66311\n",
      "The fact of the city is cold\n"
     ]
    }
   ],
   "source": [
    "cities = {\n",
    "    'litang':{\n",
    "        'country':'China',\n",
    "        'population':111111,\n",
    "        'fact':'dingzhen',\n",
    "    },\n",
    "    'Paris':{\n",
    "        'country':'France',\n",
    "        'population':1122311,\n",
    "        'fact':'black',\n",
    "    },\n",
    "    'Helsinki':{\n",
    "        'country':'Finland',\n",
    "        'population':66311,\n",
    "        'fact':'cold',\n",
    "    },\n",
    "}\n",
    "\n",
    "for city_name,city_infos in cities.items():\n",
    "    print(\"The name of the city is \" + city_name)\n",
    "    print(\"The name of its country \"+ city_infos['country'])\n",
    "    print(\"The popoluation of the city is  \"+ str(city_infos['population']))\n",
    "    print(\"The fact of the city is \"+ city_infos['fact'])"
   ]
  },
  {
   "cell_type": "code",
   "execution_count": null,
   "id": "8333b003-38f8-43b6-a7ec-19ae70f72736",
   "metadata": {},
   "outputs": [],
   "source": []
  }
 ],
 "metadata": {
  "kernelspec": {
   "display_name": "Python 3 (ipykernel)",
   "language": "python",
   "name": "python3"
  },
  "language_info": {
   "codemirror_mode": {
    "name": "ipython",
    "version": 3
   },
   "file_extension": ".py",
   "mimetype": "text/x-python",
   "name": "python",
   "nbconvert_exporter": "python",
   "pygments_lexer": "ipython3",
   "version": "3.9.9"
  },
  "widgets": {
   "application/vnd.jupyter.widget-state+json": {
    "state": {},
    "version_major": 2,
    "version_minor": 0
   }
  }
 },
 "nbformat": 4,
 "nbformat_minor": 5
}
