{
 "cells": [
  {
   "cell_type": "markdown",
   "id": "637058b4-0438-4e1b-a818-11b275e7f1b0",
   "metadata": {},
   "source": [
    "<font size=\"5\"> 7. 用户输入和while循环"
   ]
  },
  {
   "cell_type": "markdown",
   "id": "528e6948-ddd1-4ed3-9fe6-d4caa4677b37",
   "metadata": {},
   "source": [
    "很多情况下，我们需要从用户得到信息进行相关处理，这种交互手段非常重要。\n",
    "\n",
    "同时，还需要学会while循环让程序不断运行，直到指定的条件不满足。\n"
   ]
  },
  {
   "cell_type": "markdown",
   "id": "67016149-f846-43c7-b00b-305a8ae6c597",
   "metadata": {},
   "source": [
    "<font size=\"4\"> 7.1 函数input()的工作原理"
   ]
  },
  {
   "cell_type": "markdown",
   "id": "16bb6637-220b-42cc-b1e5-a0497b7235eb",
   "metadata": {},
   "source": [
    "函数input()让程序暂停运行，等待用户输入一些文本。获取用户输入后，Python将其存储在一个变量中，以方便使用。"
   ]
  },
  {
   "cell_type": "code",
   "execution_count": 2,
   "id": "4a7d7c00-49cc-4d2f-aa2d-a6b4e50b5d07",
   "metadata": {},
   "outputs": [
    {
     "name": "stdin",
     "output_type": "stream",
     "text": [
      "Tell me something, and I will repeatit back to you: yes\n"
     ]
    },
    {
     "name": "stdout",
     "output_type": "stream",
     "text": [
      "yes\n"
     ]
    }
   ],
   "source": [
    "message = input(\"Tell me something, and I will repeatit back to you:\")\n",
    "print(message)"
   ]
  },
  {
   "cell_type": "markdown",
   "id": "1841c40e-9c62-4b30-aba9-b633f3bb6ea5",
   "metadata": {},
   "source": [
    "<font size=\"3\"> 7.1.1 编写清晰的程序"
   ]
  },
  {
   "cell_type": "markdown",
   "id": "2aacacd3-7145-4006-acea-bfb04b59df8d",
   "metadata": {},
   "source": [
    "需要准确指出希望用户提供什么样的信息。"
   ]
  },
  {
   "cell_type": "code",
   "execution_count": 3,
   "id": "889eba6c-671f-4ccb-9cc6-b616c18df1cb",
   "metadata": {},
   "outputs": [
    {
     "name": "stdin",
     "output_type": "stream",
     "text": [
      "Please input your name: nn\n"
     ]
    },
    {
     "name": "stdout",
     "output_type": "stream",
     "text": [
      "Hello,nn!\n"
     ]
    }
   ],
   "source": [
    "name = input(\"Please input your name:\")\n",
    "print(\"Hello,\" + name + \"!\")"
   ]
  },
  {
   "cell_type": "markdown",
   "id": "294b3e93-b6b0-4178-9092-7519a6eb3904",
   "metadata": {},
   "source": [
    "你可以将提示存储在一个变量中，再将变量传递给inpuy()"
   ]
  },
  {
   "cell_type": "code",
   "execution_count": 4,
   "id": "1665ef42-486d-43c9-b713-0ee896e18303",
   "metadata": {},
   "outputs": [
    {
     "name": "stdin",
     "output_type": "stream",
     "text": [
      "what's your name? eww\n"
     ]
    },
    {
     "name": "stdout",
     "output_type": "stream",
     "text": [
      "\n",
      "Hello,eww!\n"
     ]
    }
   ],
   "source": [
    "prompt = \"what's your name?\"\n",
    "name = input(prompt)\n",
    "print(\"\\nHello,\" + name +\"!\")"
   ]
  },
  {
   "cell_type": "markdown",
   "id": "c1662cfa-9e08-4e18-bb66-1b087ffc26df",
   "metadata": {},
   "source": [
    "<font size=\"3\"> 7.1.2 使用int()来获取数值输入"
   ]
  },
  {
   "cell_type": "code",
   "execution_count": 7,
   "id": "0e009038-a95c-4b5e-a910-b2879728dfb4",
   "metadata": {},
   "outputs": [
    {
     "name": "stdin",
     "output_type": "stream",
     "text": [
      "How old are you 19\n"
     ]
    },
    {
     "data": {
      "text/plain": [
       "True"
      ]
     },
     "execution_count": 7,
     "metadata": {},
     "output_type": "execute_result"
    }
   ],
   "source": [
    "#可以通过这种方式将字符串表示转换为数字表示\n",
    "age = input(\"How old are you\")\n",
    "age = int(age)\n",
    "age>=18"
   ]
  },
  {
   "cell_type": "markdown",
   "id": "d3bb73b3-7e57-4114-8b59-177438b21347",
   "metadata": {},
   "source": [
    "可以将这种结合判断语句组合使用，这里就不多叙述了。"
   ]
  },
  {
   "cell_type": "markdown",
   "id": "0a422f72-4d81-49da-b74d-5ca883f014ca",
   "metadata": {},
   "source": [
    "<font size=\"3\"> 7.1.3 求模运算符"
   ]
  },
  {
   "cell_type": "markdown",
   "id": "279dd82c-d341-4676-b9e9-f8ba27a0645e",
   "metadata": {},
   "source": [
    "求模运算符（%）是一个很有用的工具，它将两个数相除并返回余数"
   ]
  },
  {
   "cell_type": "code",
   "execution_count": 11,
   "id": "22aa9a55-4c07-42fc-aa34-25e46878e019",
   "metadata": {},
   "outputs": [
    {
     "data": {
      "text/plain": [
       "2"
      ]
     },
     "execution_count": 11,
     "metadata": {},
     "output_type": "execute_result"
    }
   ],
   "source": [
    "6%4"
   ]
  },
  {
   "cell_type": "markdown",
   "id": "674f44ea-15d2-420d-a629-e1381e9a5011",
   "metadata": {},
   "source": [
    "但它不会告诉你一个数是另一个数的多少倍，只会指出余数"
   ]
  },
  {
   "cell_type": "markdown",
   "id": "8511c662-fa4e-4853-8098-d5f3f60a5be6",
   "metadata": {},
   "source": [
    "一个数可以被另一个数整除，余数就是0。用这一点可以判断一个数是奇数或偶数"
   ]
  },
  {
   "cell_type": "code",
   "execution_count": 13,
   "id": "c7a9c38a-dab5-47ba-acd2-babf80da6477",
   "metadata": {},
   "outputs": [
    {
     "name": "stdin",
     "output_type": "stream",
     "text": [
      "Enter a number,and I'll tell you if it's even or odd: 44\n"
     ]
    },
    {
     "name": "stdout",
     "output_type": "stream",
     "text": [
      "\n",
      "The number 44 is even \n"
     ]
    }
   ],
   "source": [
    "number = input(\"Enter a number,and I'll tell you if it's even or odd:\")\n",
    "number = int(number)\n",
    "if number%2 == 0:\n",
    "    print(\"\\nThe number \" + str(number) + \" is even \")\n",
    "else:\n",
    "    print(\"\\nThe number \" + str(number) + \" is odd.\")"
   ]
  },
  {
   "cell_type": "markdown",
   "id": "cdb1fedd-9f24-4fc1-8d1d-e883a8185ed7",
   "metadata": {},
   "source": [
    "<font size=\"4\"> 7.2 while循环简介"
   ]
  },
  {
   "cell_type": "markdown",
   "id": "e6754b24-c0aa-4d3f-bc85-7a648bfe1b76",
   "metadata": {},
   "source": [
    "for循环用于针对集合中的每个元素的一个代码块，而while循环不断地运行，直到指定的条件不满足为止。"
   ]
  },
  {
   "cell_type": "markdown",
   "id": "acb6718e-4ff1-447f-98c4-f7223c18c041",
   "metadata": {},
   "source": [
    "<font size=\"3\"> 7.2.1 使用while循环"
   ]
  },
  {
   "cell_type": "code",
   "execution_count": 14,
   "id": "888da3a9-9aeb-457b-97a7-486ee95cc1a2",
   "metadata": {},
   "outputs": [
    {
     "name": "stdout",
     "output_type": "stream",
     "text": [
      "1\n",
      "2\n",
      "3\n",
      "4\n",
      "5\n"
     ]
    }
   ],
   "source": [
    "#while循环数数\n",
    "current_number = 1\n",
    "while current_number <= 5:\n",
    "    print(current_number)\n",
    "    current_number+=1"
   ]
  },
  {
   "cell_type": "markdown",
   "id": "0d7a0d72-3aba-47c1-9a1b-096e48ce7200",
   "metadata": {},
   "source": [
    "<font size=\"3\"> 7.2.2 让用户选择何时退出"
   ]
  },
  {
   "cell_type": "markdown",
   "id": "fc0a293e-90c3-4e56-8c98-08414f9eb5f1",
   "metadata": {},
   "source": [
    "下面定义了一个退出值，只要输入不是退出值就可以一直运行。"
   ]
  },
  {
   "cell_type": "code",
   "execution_count": 22,
   "id": "b0075de7-72e5-4ea2-a257-31f5b494fc52",
   "metadata": {},
   "outputs": [
    {
     "name": "stdin",
     "output_type": "stream",
     "text": [
      "\n",
      "Tell me something, and i will repeat it back to you:\n",
      "Enter 'quit' to end the program. quit\n"
     ]
    }
   ],
   "source": [
    "prompt = \"\\nTell me something, and i will repeat it back to you:\"\n",
    "prompt += \"\\nEnter 'quit' to end the program.\"\n",
    "message = \"\"\n",
    "while message != 'quit':\n",
    "    message = input(prompt)\n",
    "    if message != 'quit':\n",
    "        print(message)\n",
    "    \n",
    "        "
   ]
  },
  {
   "cell_type": "markdown",
   "id": "8fb1e1f9-95dd-4575-8516-b4863a1458e8",
   "metadata": {},
   "source": [
    "我们将变量message的初始值设置为空字符串\"\",让Python首次执行while代码时有可供检查的东西。"
   ]
  },
  {
   "cell_type": "markdown",
   "id": "b6ad71fe-f126-401b-b3bb-3c3b56916a49",
   "metadata": {},
   "source": [
    "<font size=\"3\"> 7.2.3 使用标志"
   ]
  },
  {
   "cell_type": "markdown",
   "id": "9fa66645-c7ea-41ff-ad56-e8ada697078c",
   "metadata": {},
   "source": [
    "多种不同事件都会导致程序停止运行，可以定义一个变量用来判断整个程序是否处于活动状态。"
   ]
  },
  {
   "cell_type": "markdown",
   "id": "f990de34-6972-4807-9953-9ffa367c2e90",
   "metadata": {},
   "source": [
    "这样，在while语句中只需检查一个条件，标志值的状态，将转换标志值状态的语句写在其他地方。"
   ]
  },
  {
   "cell_type": "code",
   "execution_count": 26,
   "id": "a60fe389-93b3-480e-b668-b52eac34a03f",
   "metadata": {},
   "outputs": [
    {
     "name": "stdin",
     "output_type": "stream",
     "text": [
      "\n",
      "Tell me something, and i will repeat it back to you:\n",
      "Enter 'quit' to end the program. qq\n"
     ]
    },
    {
     "name": "stdout",
     "output_type": "stream",
     "text": [
      "qq\n"
     ]
    },
    {
     "name": "stdin",
     "output_type": "stream",
     "text": [
      "\n",
      "Tell me something, and i will repeat it back to you:\n",
      "Enter 'quit' to end the program. quit\n"
     ]
    }
   ],
   "source": [
    "prompt = \"\\nTell me something, and i will repeat it back to you:\"\n",
    "prompt += \"\\nEnter 'quit' to end the program.\"\n",
    "active = True\n",
    "while active:\n",
    "    message = input(prompt)\n",
    "    if message == 'quit':\n",
    "        active = False\n",
    "    else:\n",
    "        print(message)\n",
    "    "
   ]
  },
  {
   "cell_type": "markdown",
   "id": "061eb6e3-b8d5-4562-b3e4-41c019089e29",
   "metadata": {},
   "source": [
    "这样做简化了while语句，不需要在其中做任何比较--相关的逻辑由程序的其他部分处理。"
   ]
  },
  {
   "cell_type": "markdown",
   "id": "e0c18077-0520-4b92-a1b1-2815e389b842",
   "metadata": {},
   "source": [
    "这样做的好处是，如果要添加其他测试（如elif语句）以检查是否发生了其他导致active变为False的事件，将很容易。"
   ]
  },
  {
   "cell_type": "markdown",
   "id": "2b8dd3cf-1eae-4233-87c6-5c1cde1fb5eb",
   "metadata": {},
   "source": [
    "<font size=\"3\"> 7.2.4 使用break退出循环"
   ]
  },
  {
   "cell_type": "markdown",
   "id": "6dab06d3-8642-4962-b444-37fd52630bd4",
   "metadata": {},
   "source": [
    "立刻退出while循环，不再运行循环中余下的代码，也不管条件测试的结果如何，可使用break语句。"
   ]
  },
  {
   "cell_type": "code",
   "execution_count": 31,
   "id": "6000b27c-9620-41d4-9148-cc6a306271dc",
   "metadata": {},
   "outputs": [
    {
     "name": "stdin",
     "output_type": "stream",
     "text": [
      "Please enter the name of a city you have visited:Enter 'quit' when you are finished. ee\n"
     ]
    },
    {
     "name": "stdout",
     "output_type": "stream",
     "text": [
      "I'd love to go to Ee!\n"
     ]
    },
    {
     "name": "stdin",
     "output_type": "stream",
     "text": [
      "Please enter the name of a city you have visited:Enter 'quit' when you are finished. Quit\n"
     ]
    },
    {
     "name": "stdout",
     "output_type": "stream",
     "text": [
      "I'd love to go to Quit!\n"
     ]
    },
    {
     "name": "stdin",
     "output_type": "stream",
     "text": [
      "Please enter the name of a city you have visited:Enter 'quit' when you are finished. quit\n"
     ]
    }
   ],
   "source": [
    "prompt = \"Please enter the name of a city you have visited:\"\n",
    "prompt += \"Enter 'quit' when you are finished.\"\n",
    "while True:\n",
    "    city = input(prompt)\n",
    "    if city == 'quit':\n",
    "        break\n",
    "    else:\n",
    "        print(\"I'd love to go to \"+ city.title() +\"!\")"
   ]
  },
  {
   "cell_type": "markdown",
   "id": "6f4341aa-faae-4d71-be19-5f1239582fa7",
   "metadata": {},
   "source": [
    "以while True打头的循环将不断运行，直到遇到break语句。任何Python循环都可使用break语句。"
   ]
  },
  {
   "cell_type": "markdown",
   "id": "a4f86fc2-a18d-496f-b335-5178305b097c",
   "metadata": {},
   "source": [
    "<font size=\"3\"> 7.2.5 在循环中使用continue"
   ]
  },
  {
   "cell_type": "markdown",
   "id": "378b5aaa-401e-4813-b3a4-7af5de31a9ad",
   "metadata": {},
   "source": [
    "要返回到循环开头，并根据条件测试结果决定是否继续执行循环，可使用continue语句。"
   ]
  },
  {
   "cell_type": "code",
   "execution_count": 33,
   "id": "26724f7b-36cb-4e47-91e6-d059b54dd9ca",
   "metadata": {},
   "outputs": [
    {
     "name": "stdout",
     "output_type": "stream",
     "text": [
      "1\n",
      "3\n",
      "5\n",
      "7\n",
      "9\n"
     ]
    }
   ],
   "source": [
    "#例如从1到10 但只打印奇数的循环：\n",
    "current_number = 0\n",
    "while current_number <10:\n",
    "    current_number += 1\n",
    "    if current_number %2 == 0:\n",
    "        continue\n",
    "    print(current_number)"
   ]
  },
  {
   "cell_type": "markdown",
   "id": "16ed027d-cdac-4498-a9d5-fa9b44a5bcfe",
   "metadata": {},
   "source": [
    "if 语句检查current_number与2的求模运算结果，结果为0的话，就执行continue语句，让Python忽略余下的代码，返回到代码的开头。"
   ]
  },
  {
   "cell_type": "markdown",
   "id": "d8938db9-3683-4e1f-b045-27e286ef4674",
   "metadata": {},
   "source": [
    "<font size=\"3\"> 7.2.6 避免无限循环"
   ]
  },
  {
   "cell_type": "markdown",
   "id": "5e7291d7-1a43-4f35-acbd-ef7d08fbd85e",
   "metadata": {},
   "source": [
    "在代码中，一定要进行测试，确保它按预期那样结束。确认程序至少有一个这样的地方让循环条件为False或让break语句得以执行。"
   ]
  },
  {
   "cell_type": "markdown",
   "id": "097906cd-f3dc-4f27-976c-6c858991117d",
   "metadata": {},
   "source": [
    "<font size=\"4\"> 7.3 使用while循环来处理列表和字典"
   ]
  },
  {
   "cell_type": "markdown",
   "id": "9922b13a-0dce-4836-ac5c-27e2ca69999e",
   "metadata": {},
   "source": [
    "要记录大量的用户和信息，需要在while循环中使用列表和字典。\n",
    "\n",
    "for循环是一种遍历列表的有效方式，但在for循环中不应修改该列表，否则就很难跟踪其中的元素。\n",
    "\n",
    "要在遍历列表的同时对其进行修改，可以使用while循环。"
   ]
  },
  {
   "cell_type": "markdown",
   "id": "46c7d1fa-d2e1-420d-ab6f-a6bd1fe77c96",
   "metadata": {},
   "source": [
    "<font size=\"3\"> 7.3.1 在列表之间移动元素"
   ]
  },
  {
   "cell_type": "markdown",
   "id": "8bd0188a-88d9-4a2b-b202-bcb5ba28494f",
   "metadata": {},
   "source": [
    "假设有一个列表，其中包含新注册但未验证的网站用户；验证这些用户后，如何将他们移到另一个已验证用户列表中呢？ \n",
    "\n",
    "一种方法是使用一个while循环，在验证用户的同时将其从未验证用户列表中提取出来，再将其加入到另一个已验证用户列表中。"
   ]
  },
  {
   "cell_type": "code",
   "execution_count": 35,
   "id": "86ec6858-4aab-42d7-becd-eaaf3435cd03",
   "metadata": {},
   "outputs": [
    {
     "name": "stdout",
     "output_type": "stream",
     "text": [
      "Verifying user:Candace\n",
      "Verifying user:Brian\n",
      "Verifying user:Alice\n",
      "The following users have been confirmed:\n",
      "candace\n",
      "brian\n",
      "alice\n"
     ]
    }
   ],
   "source": [
    "unconfirmed_users = ['alice','brian','candace']\n",
    "confirmed_users = []\n",
    "while unconfirmed_users:\n",
    "    current_user = unconfirmed_users.pop()\n",
    "    print(\"Verifying user:\" + current_user.title())\n",
    "    confirmed_users.append(current_user)\n",
    "print(\"The following users have been confirmed:\")\n",
    "for confirmed_user in confirmed_users:\n",
    "    print(confirmed_user)"
   ]
  },
  {
   "cell_type": "markdown",
   "id": "2e2bdf67-f6d1-4d2f-be26-c75d8fbdaa4c",
   "metadata": {},
   "source": [
    "<font size=\"3\"> 7.3.2 删除包含特定值的所有列表元素"
   ]
  },
  {
   "cell_type": "markdown",
   "id": "14135c28-5ac1-4aa3-bb71-635994dd1538",
   "metadata": {},
   "source": [
    "假设你有一个宠物列表，其中包含多个值为\"cat\"的元素。要删除所有这些元素，可不断运行一个while循环，直到环境中不再包含‘cat’"
   ]
  },
  {
   "cell_type": "code",
   "execution_count": 36,
   "id": "6262bea8-42f9-4ced-a87d-653947d9f259",
   "metadata": {},
   "outputs": [
    {
     "name": "stdout",
     "output_type": "stream",
     "text": [
      "['dog', 'cat', 'dog', 'goldfish', 'cat', 'rabbit', 'cat']\n",
      "['dog', 'dog', 'goldfish', 'rabbit']\n"
     ]
    }
   ],
   "source": [
    "pets = ['dog','cat','dog','goldfish','cat','rabbit','cat']\n",
    "print(pets)\n",
    "while 'cat' in pets:\n",
    "    pets.remove('cat')\n",
    "print(pets)"
   ]
  },
  {
   "cell_type": "markdown",
   "id": "a9f4a6f4-e8c7-4bf6-bee6-61e223f6506b",
   "metadata": {},
   "source": [
    "<font size=\"3\"> 7.3.3 使用用户输入来填充字典"
   ]
  },
  {
   "cell_type": "code",
   "execution_count": 50,
   "id": "54872d4d-25b9-4bba-bee6-7af244b0d002",
   "metadata": {},
   "outputs": [
    {
     "name": "stdin",
     "output_type": "stream",
     "text": [
      "\n",
      "What is your name? 55\n",
      "Which mountain would you like to climb someday? 66\n",
      "Would you like to let another person respond? (yes/no)  no\n"
     ]
    },
    {
     "name": "stdout",
     "output_type": "stream",
     "text": [
      "\n",
      "--- Poll Results ---\n",
      "55 would like to climb 66.\n"
     ]
    }
   ],
   "source": [
    "responses = {}\n",
    "# 设置一个标志，指出调查是否继续\n",
    "polling_active = True\n",
    "while polling_active:\n",
    "    # 提示输入被调查者的名字和回答\n",
    "    name = input(\"\\nWhat is your name?\")\n",
    "    response = input(\"Which mountain would you like to climb someday?\")\n",
    "    # 将答卷存储在字典中\n",
    "    responses[name] = response \n",
    "    # 看看是否还有人要参与调查\n",
    "    repeat = input(\"Would you like to let another person respond? (yes/no) \")\n",
    "    if repeat == 'no':\n",
    "        polling_active = False\n",
    "# 调查结束，显示结果\n",
    "print(\"\\n--- Poll Results ---\")\n",
    "for name, response in responses.items():\n",
    "    print(f\"{name} would like to climb {response}.\")\n"
   ]
  },
  {
   "cell_type": "markdown",
   "id": "6d068337-b454-4bc5-b00d-f2515e1ce728",
   "metadata": {},
   "source": [
    "创立了一个空字典，不断地根据输入进行字典的填充。"
   ]
  },
  {
   "cell_type": "code",
   "execution_count": null,
   "id": "5e504ab1-34a0-4b74-82e9-3d2142e72c82",
   "metadata": {},
   "outputs": [],
   "source": []
  },
  {
   "cell_type": "code",
   "execution_count": null,
   "id": "2abd3c31-f5b0-4f65-85ec-b9388c329410",
   "metadata": {},
   "outputs": [],
   "source": []
  }
 ],
 "metadata": {
  "kernelspec": {
   "display_name": "Python 3 (ipykernel)",
   "language": "python",
   "name": "python3"
  },
  "language_info": {
   "codemirror_mode": {
    "name": "ipython",
    "version": 3
   },
   "file_extension": ".py",
   "mimetype": "text/x-python",
   "name": "python",
   "nbconvert_exporter": "python",
   "pygments_lexer": "ipython3",
   "version": "3.9.9"
  },
  "widgets": {
   "application/vnd.jupyter.widget-state+json": {
    "state": {},
    "version_major": 2,
    "version_minor": 0
   }
  }
 },
 "nbformat": 4,
 "nbformat_minor": 5
}
